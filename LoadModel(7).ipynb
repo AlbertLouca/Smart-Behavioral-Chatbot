{
  "nbformat": 4,
  "nbformat_minor": 0,
  "metadata": {
    "accelerator": "GPU",
    "colab": {
      "name": "LoadModel.ipynb",
      "provenance": [],
      "collapsed_sections": [],
      "toc_visible": true
    },
    "kernelspec": {
      "display_name": "Python 3",
      "name": "python3"
    }
  },
  "cells": [
    {
      "cell_type": "markdown",
      "metadata": {
        "id": "jm3TpnUPu4q3"
      },
      "source": [
        "**Web Apps**"
      ]
    },
    {
      "cell_type": "markdown",
      "metadata": {
        "id": "veVbRa4f1mkf"
      },
      "source": [
        "# Reading Checkpoint"
      ]
    },
    {
      "cell_type": "code",
      "metadata": {
        "colab": {
          "base_uri": "https://localhost:8080/"
        },
        "id": "5KSWQwDxQMFy",
        "outputId": "ff2b1237-2758-46a0-db96-3c77bbdeedd1"
      },
      "source": [
        "!pip install tensorflow_hub\n",
        "!pip install keras tf-models-official pydot graphviz"
      ],
      "execution_count": null,
      "outputs": [
        {
          "output_type": "stream",
          "text": [
            "Requirement already satisfied: tensorflow_hub in /usr/local/lib/python3.7/dist-packages (0.12.0)\n",
            "Requirement already satisfied: protobuf>=3.8.0 in /usr/local/lib/python3.7/dist-packages (from tensorflow_hub) (3.12.4)\n",
            "Requirement already satisfied: numpy>=1.12.0 in /usr/local/lib/python3.7/dist-packages (from tensorflow_hub) (1.19.5)\n",
            "Requirement already satisfied: setuptools in /usr/local/lib/python3.7/dist-packages (from protobuf>=3.8.0->tensorflow_hub) (57.0.0)\n",
            "Requirement already satisfied: six>=1.9 in /usr/local/lib/python3.7/dist-packages (from protobuf>=3.8.0->tensorflow_hub) (1.15.0)\n",
            "Requirement already satisfied: keras in /usr/local/lib/python3.7/dist-packages (2.4.3)\n",
            "Requirement already satisfied: tf-models-official in /usr/local/lib/python3.7/dist-packages (2.5.0)\n",
            "Requirement already satisfied: pydot in /usr/local/lib/python3.7/dist-packages (1.3.0)\n",
            "Requirement already satisfied: graphviz in /usr/local/lib/python3.7/dist-packages (0.10.1)\n",
            "Requirement already satisfied: scipy>=0.14 in /usr/local/lib/python3.7/dist-packages (from keras) (1.4.1)\n",
            "Requirement already satisfied: h5py in /usr/local/lib/python3.7/dist-packages (from keras) (3.1.0)\n",
            "Requirement already satisfied: pyyaml in /usr/local/lib/python3.7/dist-packages (from keras) (3.13)\n",
            "Requirement already satisfied: numpy>=1.9.1 in /usr/local/lib/python3.7/dist-packages (from keras) (1.19.5)\n",
            "Requirement already satisfied: tensorflow-hub>=0.6.0 in /usr/local/lib/python3.7/dist-packages (from tf-models-official) (0.12.0)\n",
            "Requirement already satisfied: gin-config in /usr/local/lib/python3.7/dist-packages (from tf-models-official) (0.4.0)\n",
            "Requirement already satisfied: tensorflow-addons in /usr/local/lib/python3.7/dist-packages (from tf-models-official) (0.13.0)\n",
            "Requirement already satisfied: oauth2client in /usr/local/lib/python3.7/dist-packages (from tf-models-official) (4.1.3)\n",
            "Requirement already satisfied: tensorflow>=2.5.0 in /usr/local/lib/python3.7/dist-packages (from tf-models-official) (2.5.0)\n",
            "Requirement already satisfied: matplotlib in /usr/local/lib/python3.7/dist-packages (from tf-models-official) (3.2.2)\n",
            "Requirement already satisfied: Pillow in /usr/local/lib/python3.7/dist-packages (from tf-models-official) (7.1.2)\n",
            "Requirement already satisfied: seqeval in /usr/local/lib/python3.7/dist-packages (from tf-models-official) (1.2.2)\n",
            "Requirement already satisfied: sentencepiece in /usr/local/lib/python3.7/dist-packages (from tf-models-official) (0.1.95)\n",
            "Requirement already satisfied: kaggle>=1.3.9 in /usr/local/lib/python3.7/dist-packages (from tf-models-official) (1.5.12)\n",
            "Requirement already satisfied: six in /usr/local/lib/python3.7/dist-packages (from tf-models-official) (1.15.0)\n",
            "Requirement already satisfied: py-cpuinfo>=3.3.0 in /usr/local/lib/python3.7/dist-packages (from tf-models-official) (8.0.0)\n",
            "Requirement already satisfied: google-cloud-bigquery>=0.31.0 in /usr/local/lib/python3.7/dist-packages (from tf-models-official) (1.21.0)\n",
            "Requirement already satisfied: tf-slim>=1.1.0 in /usr/local/lib/python3.7/dist-packages (from tf-models-official) (1.1.0)\n",
            "Requirement already satisfied: Cython in /usr/local/lib/python3.7/dist-packages (from tf-models-official) (0.29.23)\n",
            "Requirement already satisfied: google-api-python-client>=1.6.7 in /usr/local/lib/python3.7/dist-packages (from tf-models-official) (1.12.8)\n",
            "Requirement already satisfied: pycocotools in /usr/local/lib/python3.7/dist-packages (from tf-models-official) (2.0.2)\n",
            "Requirement already satisfied: sacrebleu in /usr/local/lib/python3.7/dist-packages (from tf-models-official) (1.5.1)\n",
            "Requirement already satisfied: tensorflow-datasets in /usr/local/lib/python3.7/dist-packages (from tf-models-official) (4.0.1)\n",
            "Requirement already satisfied: opencv-python-headless in /usr/local/lib/python3.7/dist-packages (from tf-models-official) (4.5.2.54)\n",
            "Requirement already satisfied: pandas>=0.22.0 in /usr/local/lib/python3.7/dist-packages (from tf-models-official) (1.1.5)\n",
            "Requirement already satisfied: tensorflow-model-optimization>=0.4.1 in /usr/local/lib/python3.7/dist-packages (from tf-models-official) (0.5.0)\n",
            "Requirement already satisfied: psutil>=5.4.3 in /usr/local/lib/python3.7/dist-packages (from tf-models-official) (5.4.8)\n",
            "Requirement already satisfied: pyparsing>=2.1.4 in /usr/local/lib/python3.7/dist-packages (from pydot) (2.4.7)\n",
            "Requirement already satisfied: cached-property; python_version < \"3.8\" in /usr/local/lib/python3.7/dist-packages (from h5py->keras) (1.5.2)\n",
            "Requirement already satisfied: protobuf>=3.8.0 in /usr/local/lib/python3.7/dist-packages (from tensorflow-hub>=0.6.0->tf-models-official) (3.12.4)\n",
            "Requirement already satisfied: typeguard>=2.7 in /usr/local/lib/python3.7/dist-packages (from tensorflow-addons->tf-models-official) (2.7.1)\n",
            "Requirement already satisfied: httplib2>=0.9.1 in /usr/local/lib/python3.7/dist-packages (from oauth2client->tf-models-official) (0.17.4)\n",
            "Requirement already satisfied: rsa>=3.1.4 in /usr/local/lib/python3.7/dist-packages (from oauth2client->tf-models-official) (4.7.2)\n",
            "Requirement already satisfied: pyasn1>=0.1.7 in /usr/local/lib/python3.7/dist-packages (from oauth2client->tf-models-official) (0.4.8)\n",
            "Requirement already satisfied: pyasn1-modules>=0.0.5 in /usr/local/lib/python3.7/dist-packages (from oauth2client->tf-models-official) (0.2.8)\n",
            "Requirement already satisfied: google-pasta~=0.2 in /usr/local/lib/python3.7/dist-packages (from tensorflow>=2.5.0->tf-models-official) (0.2.0)\n",
            "Requirement already satisfied: grpcio~=1.34.0 in /usr/local/lib/python3.7/dist-packages (from tensorflow>=2.5.0->tf-models-official) (1.34.1)\n",
            "Requirement already satisfied: tensorboard~=2.5 in /usr/local/lib/python3.7/dist-packages (from tensorflow>=2.5.0->tf-models-official) (2.5.0)\n",
            "Requirement already satisfied: wrapt~=1.12.1 in /usr/local/lib/python3.7/dist-packages (from tensorflow>=2.5.0->tf-models-official) (1.12.1)\n",
            "Requirement already satisfied: keras-preprocessing~=1.1.2 in /usr/local/lib/python3.7/dist-packages (from tensorflow>=2.5.0->tf-models-official) (1.1.2)\n",
            "Requirement already satisfied: flatbuffers~=1.12.0 in /usr/local/lib/python3.7/dist-packages (from tensorflow>=2.5.0->tf-models-official) (1.12)\n",
            "Requirement already satisfied: astunparse~=1.6.3 in /usr/local/lib/python3.7/dist-packages (from tensorflow>=2.5.0->tf-models-official) (1.6.3)\n",
            "Requirement already satisfied: opt-einsum~=3.3.0 in /usr/local/lib/python3.7/dist-packages (from tensorflow>=2.5.0->tf-models-official) (3.3.0)\n",
            "Requirement already satisfied: keras-nightly~=2.5.0.dev in /usr/local/lib/python3.7/dist-packages (from tensorflow>=2.5.0->tf-models-official) (2.5.0.dev2021032900)\n",
            "Requirement already satisfied: typing-extensions~=3.7.4 in /usr/local/lib/python3.7/dist-packages (from tensorflow>=2.5.0->tf-models-official) (3.7.4.3)\n",
            "Requirement already satisfied: tensorflow-estimator<2.6.0,>=2.5.0rc0 in /usr/local/lib/python3.7/dist-packages (from tensorflow>=2.5.0->tf-models-official) (2.5.0)\n",
            "Requirement already satisfied: termcolor~=1.1.0 in /usr/local/lib/python3.7/dist-packages (from tensorflow>=2.5.0->tf-models-official) (1.1.0)\n",
            "Requirement already satisfied: absl-py~=0.10 in /usr/local/lib/python3.7/dist-packages (from tensorflow>=2.5.0->tf-models-official) (0.12.0)\n",
            "Requirement already satisfied: gast==0.4.0 in /usr/local/lib/python3.7/dist-packages (from tensorflow>=2.5.0->tf-models-official) (0.4.0)\n",
            "Requirement already satisfied: wheel~=0.35 in /usr/local/lib/python3.7/dist-packages (from tensorflow>=2.5.0->tf-models-official) (0.36.2)\n",
            "Requirement already satisfied: kiwisolver>=1.0.1 in /usr/local/lib/python3.7/dist-packages (from matplotlib->tf-models-official) (1.3.1)\n",
            "Requirement already satisfied: cycler>=0.10 in /usr/local/lib/python3.7/dist-packages (from matplotlib->tf-models-official) (0.10.0)\n",
            "Requirement already satisfied: python-dateutil>=2.1 in /usr/local/lib/python3.7/dist-packages (from matplotlib->tf-models-official) (2.8.1)\n",
            "Requirement already satisfied: scikit-learn>=0.21.3 in /usr/local/lib/python3.7/dist-packages (from seqeval->tf-models-official) (0.22.2.post1)\n",
            "Requirement already satisfied: python-slugify in /usr/local/lib/python3.7/dist-packages (from kaggle>=1.3.9->tf-models-official) (5.0.2)\n",
            "Requirement already satisfied: tqdm in /usr/local/lib/python3.7/dist-packages (from kaggle>=1.3.9->tf-models-official) (4.41.1)\n",
            "Requirement already satisfied: requests in /usr/local/lib/python3.7/dist-packages (from kaggle>=1.3.9->tf-models-official) (2.23.0)\n",
            "Requirement already satisfied: urllib3 in /usr/local/lib/python3.7/dist-packages (from kaggle>=1.3.9->tf-models-official) (1.24.3)\n",
            "Requirement already satisfied: certifi in /usr/local/lib/python3.7/dist-packages (from kaggle>=1.3.9->tf-models-official) (2020.12.5)\n",
            "Requirement already satisfied: google-resumable-media!=0.4.0,<0.5.0dev,>=0.3.1 in /usr/local/lib/python3.7/dist-packages (from google-cloud-bigquery>=0.31.0->tf-models-official) (0.4.1)\n",
            "Requirement already satisfied: google-cloud-core<2.0dev,>=1.0.3 in /usr/local/lib/python3.7/dist-packages (from google-cloud-bigquery>=0.31.0->tf-models-official) (1.0.3)\n",
            "Requirement already satisfied: uritemplate<4dev,>=3.0.0 in /usr/local/lib/python3.7/dist-packages (from google-api-python-client>=1.6.7->tf-models-official) (3.0.1)\n",
            "Requirement already satisfied: google-auth>=1.16.0 in /usr/local/lib/python3.7/dist-packages (from google-api-python-client>=1.6.7->tf-models-official) (1.30.0)\n",
            "Requirement already satisfied: google-auth-httplib2>=0.0.3 in /usr/local/lib/python3.7/dist-packages (from google-api-python-client>=1.6.7->tf-models-official) (0.0.4)\n",
            "Requirement already satisfied: google-api-core<2dev,>=1.21.0 in /usr/local/lib/python3.7/dist-packages (from google-api-python-client>=1.6.7->tf-models-official) (1.26.3)\n",
            "Requirement already satisfied: setuptools>=18.0 in /usr/local/lib/python3.7/dist-packages (from pycocotools->tf-models-official) (57.0.0)\n",
            "Requirement already satisfied: portalocker==2.0.0 in /usr/local/lib/python3.7/dist-packages (from sacrebleu->tf-models-official) (2.0.0)\n",
            "Requirement already satisfied: tensorflow-metadata in /usr/local/lib/python3.7/dist-packages (from tensorflow-datasets->tf-models-official) (1.0.0)\n",
            "Requirement already satisfied: importlib-resources; python_version < \"3.9\" in /usr/local/lib/python3.7/dist-packages (from tensorflow-datasets->tf-models-official) (5.1.3)\n",
            "Requirement already satisfied: dill in /usr/local/lib/python3.7/dist-packages (from tensorflow-datasets->tf-models-official) (0.3.3)\n",
            "Requirement already satisfied: promise in /usr/local/lib/python3.7/dist-packages (from tensorflow-datasets->tf-models-official) (2.3)\n",
            "Requirement already satisfied: dm-tree in /usr/local/lib/python3.7/dist-packages (from tensorflow-datasets->tf-models-official) (0.1.6)\n",
            "Requirement already satisfied: attrs>=18.1.0 in /usr/local/lib/python3.7/dist-packages (from tensorflow-datasets->tf-models-official) (21.2.0)\n",
            "Requirement already satisfied: future in /usr/local/lib/python3.7/dist-packages (from tensorflow-datasets->tf-models-official) (0.16.0)\n",
            "Requirement already satisfied: pytz>=2017.2 in /usr/local/lib/python3.7/dist-packages (from pandas>=0.22.0->tf-models-official) (2018.9)\n",
            "Requirement already satisfied: google-auth-oauthlib<0.5,>=0.4.1 in /usr/local/lib/python3.7/dist-packages (from tensorboard~=2.5->tensorflow>=2.5.0->tf-models-official) (0.4.4)\n",
            "Requirement already satisfied: tensorboard-plugin-wit>=1.6.0 in /usr/local/lib/python3.7/dist-packages (from tensorboard~=2.5->tensorflow>=2.5.0->tf-models-official) (1.8.0)\n",
            "Requirement already satisfied: tensorboard-data-server<0.7.0,>=0.6.0 in /usr/local/lib/python3.7/dist-packages (from tensorboard~=2.5->tensorflow>=2.5.0->tf-models-official) (0.6.1)\n",
            "Requirement already satisfied: werkzeug>=0.11.15 in /usr/local/lib/python3.7/dist-packages (from tensorboard~=2.5->tensorflow>=2.5.0->tf-models-official) (1.0.1)\n",
            "Requirement already satisfied: markdown>=2.6.8 in /usr/local/lib/python3.7/dist-packages (from tensorboard~=2.5->tensorflow>=2.5.0->tf-models-official) (3.3.4)\n",
            "Requirement already satisfied: joblib>=0.11 in /usr/local/lib/python3.7/dist-packages (from scikit-learn>=0.21.3->seqeval->tf-models-official) (1.0.1)\n",
            "Requirement already satisfied: text-unidecode>=1.3 in /usr/local/lib/python3.7/dist-packages (from python-slugify->kaggle>=1.3.9->tf-models-official) (1.3)\n",
            "Requirement already satisfied: idna<3,>=2.5 in /usr/local/lib/python3.7/dist-packages (from requests->kaggle>=1.3.9->tf-models-official) (2.10)\n",
            "Requirement already satisfied: chardet<4,>=3.0.2 in /usr/local/lib/python3.7/dist-packages (from requests->kaggle>=1.3.9->tf-models-official) (3.0.4)\n",
            "Requirement already satisfied: cachetools<5.0,>=2.0.0 in /usr/local/lib/python3.7/dist-packages (from google-auth>=1.16.0->google-api-python-client>=1.6.7->tf-models-official) (4.2.2)\n",
            "Requirement already satisfied: googleapis-common-protos<2.0dev,>=1.6.0 in /usr/local/lib/python3.7/dist-packages (from google-api-core<2dev,>=1.21.0->google-api-python-client>=1.6.7->tf-models-official) (1.53.0)\n",
            "Requirement already satisfied: packaging>=14.3 in /usr/local/lib/python3.7/dist-packages (from google-api-core<2dev,>=1.21.0->google-api-python-client>=1.6.7->tf-models-official) (20.9)\n",
            "Requirement already satisfied: zipp>=0.4; python_version < \"3.8\" in /usr/local/lib/python3.7/dist-packages (from importlib-resources; python_version < \"3.9\"->tensorflow-datasets->tf-models-official) (3.4.1)\n",
            "Requirement already satisfied: requests-oauthlib>=0.7.0 in /usr/local/lib/python3.7/dist-packages (from google-auth-oauthlib<0.5,>=0.4.1->tensorboard~=2.5->tensorflow>=2.5.0->tf-models-official) (1.3.0)\n",
            "Requirement already satisfied: importlib-metadata; python_version < \"3.8\" in /usr/local/lib/python3.7/dist-packages (from markdown>=2.6.8->tensorboard~=2.5->tensorflow>=2.5.0->tf-models-official) (4.0.1)\n",
            "Requirement already satisfied: oauthlib>=3.0.0 in /usr/local/lib/python3.7/dist-packages (from requests-oauthlib>=0.7.0->google-auth-oauthlib<0.5,>=0.4.1->tensorboard~=2.5->tensorflow>=2.5.0->tf-models-official) (3.1.0)\n"
          ],
          "name": "stdout"
        }
      ]
    },
    {
      "cell_type": "code",
      "metadata": {
        "id": "ayVgV9NqQVBd"
      },
      "source": [
        "import os\n",
        "\n",
        "import numpy as np\n",
        "import pandas as pd\n",
        "\n",
        "import tensorflow as tf\n",
        "import tensorflow_hub as hub\n",
        "\n",
        "from keras.utils import np_utils\n",
        "\n",
        "import official.nlp.bert.bert_models\n",
        "import official.nlp.bert.configs\n",
        "import official.nlp.bert.run_classifier\n",
        "import official.nlp.bert.tokenization as tokenization\n",
        "\n",
        "from official.modeling import tf_utils\n",
        "from official import nlp\n",
        "from official.nlp import bert\n",
        "\n",
        "from sklearn.model_selection import train_test_split\n",
        "from sklearn.preprocessing import LabelEncoder\n",
        "\n",
        "import matplotlib.pyplot as plt\n"
      ],
      "execution_count": null,
      "outputs": []
    },
    {
      "cell_type": "code",
      "metadata": {
        "colab": {
          "base_uri": "https://localhost:8080/"
        },
        "id": "qdPLZ9HXQjRo",
        "outputId": "4f0ee641-75ea-45f7-9f26-12b019992b05"
      },
      "source": [
        "\n",
        "\n",
        "from google.colab import drive\n",
        "\n",
        "drive.mount('/content/gdrive')\n"
      ],
      "execution_count": null,
      "outputs": [
        {
          "output_type": "stream",
          "text": [
            "Drive already mounted at /content/gdrive; to attempt to forcibly remount, call drive.mount(\"/content/gdrive\", force_remount=True).\n"
          ],
          "name": "stdout"
        }
      ]
    },
    {
      "cell_type": "code",
      "metadata": {
        "id": "b7S1Aqh7LR25"
      },
      "source": [
        "from IPython.display import display, Javascript\n",
        "from google.colab.output import eval_js\n",
        "from base64 import b64decode\n",
        "\n",
        "def take_photo(filename='photo.jpg', quality=0.8):\n",
        "  js = Javascript('''\n",
        "    async function takePhoto(quality) {`s`\n",
        "      const div = document.createElement('div');\n",
        "      const capture = document.createElement('button');\n",
        "      capture.textContent = 'Capture';\n",
        "      div.appendChild(capture);\n",
        "\n",
        "      const video = document.createElement('video');\n",
        "      video.style.display = 'block';\n",
        "      const stream = await navigator.mediaDevices.getUserMedia({video: true});\n",
        "\n",
        "      document.body.appendChild(div);\n",
        "      div.appendChild(video);\n",
        "      video.srcObject = stream;\n",
        "      await video.play();\n",
        "\n",
        "      // Resize the output to fit the video element.\n",
        "      google.colab.output.setIframeHeight(document.documentElement.scrollHeight, true);\n",
        "\n",
        "      // Wait for Capture to be clicked.\n",
        "      await new Promise((resolve) => capture.onclick = resolve);\n",
        "\n",
        "      const canvas = document.createElement('canvas');\n",
        "      canvas.width = video.videoWidth;\n",
        "      canvas.height = video.videoHeight;\n",
        "      canvas.getContext('2d').drawImage(video, 0, 0);\n",
        "      stream.getVideoTracks()[0].stop();\n",
        "      div.remove();\n",
        "      return canvas.toDataURL('image/jpeg', quality);\n",
        "    }\n",
        "    ''')\n",
        "  display(js)\n",
        "  data = eval_js('takePhoto({})'.format(quality))\n",
        "  binary = b64decode(data.split(',')[1])\n",
        "  with open(filename, 'wb') as f:\n",
        "    f.write(binary)\n",
        "  return filename"
      ],
      "execution_count": null,
      "outputs": []
    },
    {
      "cell_type": "code",
      "metadata": {
        "id": "FbfKEty1nTDa"
      },
      "source": [
        "from tensorflow.keras.models import load_model\n",
        "from tensorflow import keras"
      ],
      "execution_count": null,
      "outputs": []
    },
    {
      "cell_type": "code",
      "metadata": {
        "colab": {
          "base_uri": "https://localhost:8080/"
        },
        "id": "zasWB7oVQZRt",
        "outputId": "a470222c-9750-44a5-e51b-06f956ecf302"
      },
      "source": [
        "path = \"/content/gdrive/My Drive/checkpoint\" \n",
        "optimizer = nlp.optimization.create_optimizer(\n",
        "    2e-5, num_train_steps=417\n",
        ", num_warmup_steps=41)\n",
        "model = keras.models.load_model(path, custom_objects={'AdamWeightDecay': optimizer})"
      ],
      "execution_count": null,
      "outputs": [
        {
          "output_type": "stream",
          "text": [
            "INFO:absl:using Adamw optimizer\n",
            "INFO:absl:gradient_clip_norm=1.000000\n"
          ],
          "name": "stderr"
        },
        {
          "output_type": "stream",
          "text": [
            "WARNING:tensorflow:SavedModel saved prior to TF 2.5 detected when loading Keras model. Please ensure that you are saving the model with model.save() or tf.keras.models.save_model(), *NOT* tf.saved_model.save(). To confirm, there should be a file named \"keras_metadata.pb\" in the SavedModel directory.\n"
          ],
          "name": "stdout"
        },
        {
          "output_type": "stream",
          "text": [
            "WARNING:tensorflow:SavedModel saved prior to TF 2.5 detected when loading Keras model. Please ensure that you are saving the model with model.save() or tf.keras.models.save_model(), *NOT* tf.saved_model.save(). To confirm, there should be a file named \"keras_metadata.pb\" in the SavedModel directory.\n",
            "INFO:absl:gradient_clip_norm=1.000000\n"
          ],
          "name": "stderr"
        }
      ]
    },
    {
      "cell_type": "code",
      "metadata": {
        "id": "K2m5z7liTSnW"
      },
      "source": [
        "bert_layer = hub.KerasLayer(\"https://tfhub.dev/tensorflow/bert_multi_cased_L-12_H-768_A-12/2\",\n",
        "                            trainable=True)"
      ],
      "execution_count": null,
      "outputs": []
    },
    {
      "cell_type": "code",
      "metadata": {
        "id": "r5RGsQLeTSe2"
      },
      "source": [
        "\n",
        "vocab_file = bert_layer.resolved_object.vocab_file.asset_path.numpy()\n",
        "do_lower_case = bert_layer.resolved_object.do_lower_case.numpy()\n",
        "tokenizer = tokenization.FullTokenizer(vocab_file, do_lower_case)\n"
      ],
      "execution_count": null,
      "outputs": []
    },
    {
      "cell_type": "code",
      "metadata": {
        "id": "qZe7ccl8Vbn3"
      },
      "source": [
        "def encode_names(n, tokenizer):\n",
        "   tokens = list(tokenizer.tokenize(n))\n",
        "   tokens.append('[SEP]')\n",
        "   return tokenizer.convert_tokens_to_ids(tokens)\n",
        "\n",
        "def bert_encode(string_list, tokenizer, max_seq_length):\n",
        "  num_examples = len(string_list)\n",
        "  \n",
        "  string_tokens = tf.ragged.constant([\n",
        "      encode_names(n, tokenizer) for n in np.array(string_list)])\n",
        "\n",
        "  cls = [tokenizer.convert_tokens_to_ids(['[CLS]'])]*string_tokens.shape[0]\n",
        "  input_word_ids = tf.concat([cls, string_tokens], axis=-1)\n",
        "\n",
        "  input_mask = tf.ones_like(input_word_ids).to_tensor(shape=(None, max_seq_length))\n",
        "\n",
        "  type_cls = tf.zeros_like(cls)\n",
        "  type_tokens = tf.ones_like(string_tokens)\n",
        "  input_type_ids = tf.concat(\n",
        "      [type_cls, type_tokens], axis=-1).to_tensor(shape=(None, max_seq_length))\n",
        "\n",
        "  inputs = {\n",
        "      'input_word_ids': input_word_ids.to_tensor(shape=(None, max_seq_length)),\n",
        "      'input_mask': input_mask,\n",
        "      'input_type_ids': input_type_ids}\n",
        "\n",
        "  return inputs"
      ],
      "execution_count": null,
      "outputs": []
    },
    {
      "cell_type": "code",
      "metadata": {
        "colab": {
          "base_uri": "https://localhost:8080/"
        },
        "id": "uPyM__IOU8sf",
        "outputId": "2a097140-1381-404b-a38f-c14481208796"
      },
      "source": [
        "tokenizer"
      ],
      "execution_count": null,
      "outputs": [
        {
          "output_type": "execute_result",
          "data": {
            "text/plain": [
              "<official.nlp.bert.tokenization.FullTokenizer at 0x7fa6c48d0550>"
            ]
          },
          "metadata": {
            "tags": []
          },
          "execution_count": 50
        }
      ]
    },
    {
      "cell_type": "code",
      "metadata": {
        "colab": {
          "base_uri": "https://localhost:8080/"
        },
        "id": "CGrY18xwT9k6",
        "outputId": "ebe3f0a9-d87f-4e2a-f63b-b0a19c7831e9"
      },
      "source": [
        "pip install transformers==3\n"
      ],
      "execution_count": null,
      "outputs": [
        {
          "output_type": "stream",
          "text": [
            "Requirement already satisfied: transformers==3 in /usr/local/lib/python3.7/dist-packages (3.0.0)\n",
            "Requirement already satisfied: numpy in /usr/local/lib/python3.7/dist-packages (from transformers==3) (1.19.5)\n",
            "Requirement already satisfied: requests in /usr/local/lib/python3.7/dist-packages (from transformers==3) (2.23.0)\n",
            "Requirement already satisfied: tqdm>=4.27 in /usr/local/lib/python3.7/dist-packages (from transformers==3) (4.41.1)\n",
            "Requirement already satisfied: sentencepiece in /usr/local/lib/python3.7/dist-packages (from transformers==3) (0.1.95)\n",
            "Requirement already satisfied: tokenizers==0.8.0-rc4 in /usr/local/lib/python3.7/dist-packages (from transformers==3) (0.8.0rc4)\n",
            "Requirement already satisfied: sacremoses in /usr/local/lib/python3.7/dist-packages (from transformers==3) (0.0.45)\n",
            "Requirement already satisfied: filelock in /usr/local/lib/python3.7/dist-packages (from transformers==3) (3.0.12)\n",
            "Requirement already satisfied: regex!=2019.12.17 in /usr/local/lib/python3.7/dist-packages (from transformers==3) (2019.12.20)\n",
            "Requirement already satisfied: packaging in /usr/local/lib/python3.7/dist-packages (from transformers==3) (20.9)\n",
            "Requirement already satisfied: urllib3!=1.25.0,!=1.25.1,<1.26,>=1.21.1 in /usr/local/lib/python3.7/dist-packages (from requests->transformers==3) (1.24.3)\n",
            "Requirement already satisfied: idna<3,>=2.5 in /usr/local/lib/python3.7/dist-packages (from requests->transformers==3) (2.10)\n",
            "Requirement already satisfied: certifi>=2017.4.17 in /usr/local/lib/python3.7/dist-packages (from requests->transformers==3) (2020.12.5)\n",
            "Requirement already satisfied: chardet<4,>=3.0.2 in /usr/local/lib/python3.7/dist-packages (from requests->transformers==3) (3.0.4)\n",
            "Requirement already satisfied: joblib in /usr/local/lib/python3.7/dist-packages (from sacremoses->transformers==3) (1.0.1)\n",
            "Requirement already satisfied: six in /usr/local/lib/python3.7/dist-packages (from sacremoses->transformers==3) (1.15.0)\n",
            "Requirement already satisfied: click in /usr/local/lib/python3.7/dist-packages (from sacremoses->transformers==3) (7.1.2)\n",
            "Requirement already satisfied: pyparsing>=2.0.2 in /usr/local/lib/python3.7/dist-packages (from packaging->transformers==3) (2.4.7)\n"
          ],
          "name": "stdout"
        }
      ]
    },
    {
      "cell_type": "markdown",
      "metadata": {
        "id": "7beDENunDyGx"
      },
      "source": [
        "# Voice emotion extraction"
      ]
    },
    {
      "cell_type": "code",
      "metadata": {
        "colab": {
          "base_uri": "https://localhost:8080/"
        },
        "id": "DBKriSiVD4g_",
        "outputId": "541e042c-3aa8-4118-8a0d-82b56ec05aad"
      },
      "source": [
        "import soundfile\n",
        "import numpy as np\n",
        "import librosa\n",
        "import glob\n",
        "import os\n",
        "from sklearn.model_selection import train_test_split\n",
        "!python --version\n",
        "#!pip install pipwin\n",
        "#!pipwin install pyaudio\n",
        "!apt-get install libasound-dev portaudio19-dev libportaudio2 libportaudiocpp0\n",
        "!apt-get install ffmpeg libav-tools\n",
        "!pip install pyaudio"
      ],
      "execution_count": null,
      "outputs": [
        {
          "output_type": "stream",
          "text": [
            "Python 3.7.10\n",
            "Reading package lists... Done\n",
            "Building dependency tree       \n",
            "Reading state information... Done\n",
            "Note, selecting 'libasound2-dev' instead of 'libasound-dev'\n",
            "libasound2-dev is already the newest version (1.1.3-5ubuntu0.5).\n",
            "Suggested packages:\n",
            "  portaudio19-doc\n",
            "The following NEW packages will be installed:\n",
            "  libportaudio2 libportaudiocpp0 portaudio19-dev\n",
            "0 upgraded, 3 newly installed, 0 to remove and 39 not upgraded.\n",
            "Need to get 184 kB of archives.\n",
            "After this operation, 891 kB of additional disk space will be used.\n",
            "Get:1 http://archive.ubuntu.com/ubuntu bionic/universe amd64 libportaudio2 amd64 19.6.0-1 [64.6 kB]\n",
            "Get:2 http://archive.ubuntu.com/ubuntu bionic/universe amd64 libportaudiocpp0 amd64 19.6.0-1 [15.1 kB]\n",
            "Get:3 http://archive.ubuntu.com/ubuntu bionic/universe amd64 portaudio19-dev amd64 19.6.0-1 [104 kB]\n",
            "Fetched 184 kB in 1s (195 kB/s)\n",
            "Selecting previously unselected package libportaudio2:amd64.\n",
            "(Reading database ... 160772 files and directories currently installed.)\n",
            "Preparing to unpack .../libportaudio2_19.6.0-1_amd64.deb ...\n",
            "Unpacking libportaudio2:amd64 (19.6.0-1) ...\n",
            "Selecting previously unselected package libportaudiocpp0:amd64.\n",
            "Preparing to unpack .../libportaudiocpp0_19.6.0-1_amd64.deb ...\n",
            "Unpacking libportaudiocpp0:amd64 (19.6.0-1) ...\n",
            "Selecting previously unselected package portaudio19-dev:amd64.\n",
            "Preparing to unpack .../portaudio19-dev_19.6.0-1_amd64.deb ...\n",
            "Unpacking portaudio19-dev:amd64 (19.6.0-1) ...\n",
            "Setting up libportaudio2:amd64 (19.6.0-1) ...\n",
            "Setting up libportaudiocpp0:amd64 (19.6.0-1) ...\n",
            "Setting up portaudio19-dev:amd64 (19.6.0-1) ...\n",
            "Processing triggers for libc-bin (2.27-3ubuntu1.2) ...\n",
            "/sbin/ldconfig.real: /usr/local/lib/python3.7/dist-packages/ideep4py/lib/libmkldnn.so.0 is not a symbolic link\n",
            "\n",
            "Reading package lists... Done\n",
            "Building dependency tree       \n",
            "Reading state information... Done\n",
            "Package libav-tools is not available, but is referred to by another package.\n",
            "This may mean that the package is missing, has been obsoleted, or\n",
            "is only available from another source\n",
            "However the following packages replace it:\n",
            "  ffmpeg\n",
            "\n",
            "E: Package 'libav-tools' has no installation candidate\n",
            "Collecting pyaudio\n",
            "  Downloading https://files.pythonhosted.org/packages/ab/42/b4f04721c5c5bfc196ce156b3c768998ef8c0ae3654ed29ea5020c749a6b/PyAudio-0.2.11.tar.gz\n",
            "Building wheels for collected packages: pyaudio\n",
            "  Building wheel for pyaudio (setup.py) ... \u001b[?25l\u001b[?25hdone\n",
            "  Created wheel for pyaudio: filename=PyAudio-0.2.11-cp37-cp37m-linux_x86_64.whl size=52577 sha256=16cf01452a467d0360d70da1a4fb87b607020c8c1bcd869a36864c3330231121\n",
            "  Stored in directory: /root/.cache/pip/wheels/f4/a8/a4/292214166c2917890f85b2f72a8e5f13e1ffa527c4200dcede\n",
            "Successfully built pyaudio\n",
            "Installing collected packages: pyaudio\n",
            "Successfully installed pyaudio-0.2.11\n"
          ],
          "name": "stdout"
        }
      ]
    },
    {
      "cell_type": "code",
      "metadata": {
        "id": "YZQIsmOZTLN1"
      },
      "source": [
        ""
      ],
      "execution_count": null,
      "outputs": []
    },
    {
      "cell_type": "code",
      "metadata": {
        "colab": {
          "base_uri": "https://localhost:8080/"
        },
        "id": "S-qKA0PCQfaZ",
        "outputId": "edacac6b-4598-494c-c943-a169bc654d98"
      },
      "source": [
        "import pyaudio\n",
        "import os\n",
        "import wave\n",
        "import pickle\n",
        "from sys import byteorder\n",
        "from array import array\n",
        "from struct import pack\n",
        "from sklearn.neural_network import MLPClassifier \n",
        "!pip install SpeechRecognition\n",
        "import speech_recognition as sr\n",
        "\n",
        "    # load the saved model (after training)\n",
        "def get_audio_sentiments(file_wv):\n",
        "    loading_model=open(\"/content/gdrive/My Drive/voice_model/mlp_classifier.model\", \"rb\")\n",
        "    model = pickle.load(loading_model)\n",
        "    file_wav=open(\"/content/gdrive/My Drive/roboart/03-01-02-01-02-02-01.wav\",\"rb\")\n",
        "\n",
        "    features = extract_feature(file_wav, mfcc=True, chroma=True, mel=True).reshape(1, -1)\n",
        "    result = model.predict(features)[0]\n",
        "   \n",
        "   \n",
        "\n",
        "\n",
        "    print(\"sentiment:\", result)\n",
        "    return result\n",
        "\n",
        "\n",
        "\n"
      ],
      "execution_count": null,
      "outputs": [
        {
          "output_type": "stream",
          "text": [
            "Collecting SpeechRecognition\n",
            "\u001b[?25l  Downloading https://files.pythonhosted.org/packages/26/e1/7f5678cd94ec1234269d23756dbdaa4c8cfaed973412f88ae8adf7893a50/SpeechRecognition-3.8.1-py2.py3-none-any.whl (32.8MB)\n",
            "\u001b[K     |████████████████████████████████| 32.8MB 140kB/s \n",
            "\u001b[?25hInstalling collected packages: SpeechRecognition\n",
            "Successfully installed SpeechRecognition-3.8.1\n"
          ],
          "name": "stdout"
        }
      ]
    },
    {
      "cell_type": "code",
      "metadata": {
        "id": "rc7OKIGQHEG8"
      },
      "source": [
        "# all emotions on RAVDESS dataset\n",
        "int2emotion = {\n",
        "    \"01\": \"neutral\",\n",
        "    \"02\": \"calm\",\n",
        "    \"03\": \"happy\",\n",
        "    \"04\": \"sad\",\n",
        "    \"05\": \"angry\",\n",
        "    \"06\": \"fearful\",\n",
        "    \"07\": \"disgust\",\n",
        "    \"08\": \"surprised\"\n",
        "}\n",
        "\n",
        "# we allow only these emotions\n",
        "AVAILABLE_EMOTIONS = {\n",
        "    \"angry\",\n",
        "    \"sad\",\n",
        "    \"happy\",\n",
        "}\n"
      ],
      "execution_count": null,
      "outputs": []
    },
    {
      "cell_type": "code",
      "metadata": {
        "id": "O0RdLr7zHKGa"
      },
      "source": [
        "\n",
        "def extract_feature(file_name, **kwargs):\n",
        "    \"\"\"\n",
        "    Extract feature from audio file `file_name`\n",
        "        Features supported:\n",
        "            - MFCC (mfcc)\n",
        "            - Chroma (chroma)\n",
        "            - MEL Spectrogram Frequency (mel)\n",
        "            - Contrast (contrast)\n",
        "            - Tonnetz (tonnetz)\n",
        "        e.g:\n",
        "        `features = extract_feature(path, mel=True, mfcc=True)`\n",
        "    \"\"\"\n",
        "    mfcc = kwargs.get(\"mfcc\")\n",
        "    chroma = kwargs.get(\"chroma\")\n",
        "    mel = kwargs.get(\"mel\")\n",
        "    contrast = kwargs.get(\"contrast\")\n",
        "    tonnetz = kwargs.get(\"tonnetz\")\n",
        "    with soundfile.SoundFile(file_name) as sound_file:\n",
        "        X = sound_file.read(dtype=\"float32\")\n",
        "        sample_rate = sound_file.samplerate\n",
        "        if chroma or contrast:\n",
        "            stft = np.abs(librosa.stft(X))\n",
        "        result = np.array([])\n",
        "        if mfcc:\n",
        "            mfccs = np.mean(librosa.feature.mfcc(y=X, sr=sample_rate, n_mfcc=40).T, axis=0)\n",
        "            result = np.hstack((result, mfccs))\n",
        "        if chroma:\n",
        "            chroma = np.mean(librosa.feature.chroma_stft(S=stft, sr=sample_rate).T,axis=0)\n",
        "            result = np.hstack((result, chroma))\n",
        "        if mel:\n",
        "            mel = np.mean(librosa.feature.melspectrogram(X, sr=sample_rate).T,axis=0)\n",
        "            result = np.hstack((result, mel))\n",
        "        if contrast:\n",
        "            contrast = np.mean(librosa.feature.spectral_contrast(S=stft, sr=sample_rate).T,axis=0)\n",
        "            result = np.hstack((result, contrast))\n",
        "        if tonnetz:\n",
        "            tonnetz = np.mean(librosa.feature.tonnetz(y=librosa.effects.harmonic(X), sr=sample_rate).T,axis=0)\n",
        "            result = np.hstack((result, tonnetz))\n",
        "    return result\n"
      ],
      "execution_count": null,
      "outputs": []
    },
    {
      "cell_type": "code",
      "metadata": {
        "id": "25Sz4EntHPJf"
      },
      "source": [
        ""
      ],
      "execution_count": null,
      "outputs": []
    },
    {
      "cell_type": "markdown",
      "metadata": {
        "id": "mi0RJaJu041j"
      },
      "source": [
        "# Text"
      ]
    },
    {
      "cell_type": "code",
      "metadata": {
        "id": "XbPZtyz50_3J"
      },
      "source": [
        "from textblob import TextBlob\n",
        "def question_polarity(question):\n",
        "  blob = TextBlob(question)\n",
        "  if blob.sentiment.polarity<0:\n",
        "\n",
        "    return \".But It Appear you are not feeling good wanna talk with a real human?\"\n",
        "  elif blob.sentiment.polarity>0:\n",
        "    return \"😁\"\n",
        "  else:\n",
        "    return \" \""
      ],
      "execution_count": null,
      "outputs": []
    },
    {
      "cell_type": "markdown",
      "metadata": {
        "id": "fi2YSQZ9BFfD"
      },
      "source": [
        "#Face Emotion detection\n"
      ]
    },
    {
      "cell_type": "code",
      "metadata": {
        "id": "otPSCa9VEJqo"
      },
      "source": [
        "from keras.models import load_model\n",
        "from IPython.display import display, Javascript\n",
        "from google.colab.output import eval_js\n",
        "from time import sleep\n",
        "from keras.preprocessing.image import img_to_array\n",
        "from keras.preprocessing import image\n",
        "import cv2\n",
        "import numpy as np\n"
      ],
      "execution_count": null,
      "outputs": []
    },
    {
      "cell_type": "code",
      "metadata": {
        "id": "B1KomyRlEKQw"
      },
      "source": [
        "face_classifier = cv2.CascadeClassifier('/content/gdrive/My Drive/haarcascade_frontalface_default.xml')\n",
        "classifier = load_model('/content/gdrive/My Drive/Emotion_Detection.h5')\n",
        "\n",
        "class_labels = ['Angry','Happy','Neutral','Sad','Surprise']"
      ],
      "execution_count": null,
      "outputs": []
    },
    {
      "cell_type": "code",
      "metadata": {
        "id": "YPSd9MXwegM_"
      },
      "source": [
        "def video_stream():\n",
        "  js = Javascript('''\n",
        "    var video;\n",
        "    var div = null;\n",
        "    var stream;\n",
        "    var captureCanvas;\n",
        "    var imgElement;\n",
        "    var labelElement;\n",
        "    \n",
        "    var pendingResolve = null;\n",
        "    var shutdown = false;\n",
        "    \n",
        "    function removeDom() {\n",
        "       stream.getVideoTracks()[0].stop();\n",
        "       video.remove();\n",
        "       div.remove();\n",
        "       video = null;\n",
        "       div = null;\n",
        "       stream = null;\n",
        "       imgElement = null;\n",
        "       captureCanvas = null;\n",
        "       labelElement = null;\n",
        "    }\n",
        "    \n",
        "    function onAnimationFrame() {\n",
        "      if (!shutdown) {\n",
        "        window.requestAnimationFrame(onAnimationFrame);\n",
        "      }\n",
        "      if (pendingResolve) {\n",
        "        var result = \"\";\n",
        "        if (!shutdown) {\n",
        "          captureCanvas.getContext('2d').drawImage(video, 0, 0, 640, 480);\n",
        "          result = captureCanvas.toDataURL('image/jpeg', 0.8)\n",
        "        }\n",
        "        var lp = pendingResolve;\n",
        "        pendingResolve = null;\n",
        "        lp(result);\n",
        "      }\n",
        "    }\n",
        "    \n",
        "    async function createDom() {\n",
        "      if (div !== null) {\n",
        "        return stream;\n",
        "      }\n",
        "\n",
        "      div = document.createElement('div');\n",
        "      div.style.border = '2px solid black';\n",
        "      div.style.padding = '3px';\n",
        "      div.style.width = '100%';\n",
        "      div.style.maxWidth = '600px';\n",
        "      document.body.appendChild(div);\n",
        "      \n",
        "      const modelOut = document.createElement('div');\n",
        "      modelOut.innerHTML = \"<span>Status:</span>\";\n",
        "      labelElement = document.createElement('span');\n",
        "      labelElement.innerText = 'No data';\n",
        "      labelElement.style.fontWeight = 'bold';\n",
        "      modelOut.appendChild(labelElement);\n",
        "      div.appendChild(modelOut);\n",
        "           \n",
        "      video = document.createElement('video');\n",
        "      video.style.display = 'block';\n",
        "      video.width = div.clientWidth - 6;\n",
        "      video.setAttribute('playsinline', '');\n",
        "      video.onclick = () => { shutdown = true; };\n",
        "      stream = await navigator.mediaDevices.getUserMedia(\n",
        "          {video: { facingMode: \"environment\"}});\n",
        "      div.appendChild(video);\n",
        "\n",
        "      imgElement = document.createElement('img');\n",
        "      imgElement.style.position = 'absolute';\n",
        "      imgElement.style.zIndex = 1;\n",
        "      imgElement.onclick = () => { shutdown = true; };\n",
        "      div.appendChild(imgElement);\n",
        "      \n",
        "      const instruction = document.createElement('div');\n",
        "      instruction.innerHTML = \n",
        "          '<span style=\"color: red; font-weight: bold;\">' +\n",
        "          'When finished, click here or on the video to stop this demo</span>';\n",
        "      div.appendChild(instruction);\n",
        "      instruction.onclick = () => { shutdown = true; };\n",
        "      \n",
        "      video.srcObject = stream;\n",
        "      await video.play();\n",
        "\n",
        "      captureCanvas = document.createElement('canvas');\n",
        "      captureCanvas.width = 640; //video.videoWidth;\n",
        "      captureCanvas.height = 480; //video.videoHeight;\n",
        "      window.requestAnimationFrame(onAnimationFrame);\n",
        "      \n",
        "      return stream;\n",
        "    }\n",
        "    async function stream_frame(label, imgData) {\n",
        "      if (shutdown) {\n",
        "        removeDom();\n",
        "        shutdown = false;\n",
        "        return '';\n",
        "      }\n",
        "\n",
        "      var preCreate = Date.now();\n",
        "      stream = await createDom();\n",
        "      \n",
        "      var preShow = Date.now();\n",
        "      if (label != \"\") {\n",
        "        labelElement.innerHTML = label;\n",
        "      }\n",
        "            \n",
        "      if (imgData != \"\") {\n",
        "        var videoRect = video.getClientRects()[0];\n",
        "        imgElement.style.top = videoRect.top + \"px\";\n",
        "        imgElement.style.left = videoRect.left + \"px\";\n",
        "        imgElement.style.width = videoRect.width + \"px\";\n",
        "        imgElement.style.height = videoRect.height + \"px\";\n",
        "        imgElement.src = imgData;\n",
        "      }\n",
        "      \n",
        "      var preCapture = Date.now();\n",
        "      var result = await new Promise(function(resolve, reject) {\n",
        "        pendingResolve = resolve;\n",
        "      });\n",
        "      shutdown = false;\n",
        "      \n",
        "      return {'create': preShow - preCreate, \n",
        "              'show': preCapture - preShow, \n",
        "              'capture': Date.now() - preCapture,\n",
        "              'img': result};\n",
        "    }\n",
        "    ''')\n",
        "\n",
        "  display(js)\n",
        "  \n",
        "def video_frame(label, bbox):\n",
        "  data = eval_js('stream_frame(\"{}\", \"{}\")'.format(label, bbox))\n",
        "  return data"
      ],
      "execution_count": null,
      "outputs": []
    },
    {
      "cell_type": "code",
      "metadata": {
        "id": "s6YR3odC-RpF"
      },
      "source": [
        "face_cascade = cv2.CascadeClassifier(cv2.samples.findFile(cv2.data.haarcascades + 'haarcascade_frontalface_default.xml'))"
      ],
      "execution_count": null,
      "outputs": []
    },
    {
      "cell_type": "code",
      "metadata": {
        "colab": {
          "base_uri": "https://localhost:8080/"
        },
        "id": "EX7SCkSnuAcP",
        "outputId": "eeb992be-ae23-4bc6-889f-fef471aaaecc"
      },
      "source": [
        "emotions=[]\n",
        "emotions"
      ],
      "execution_count": null,
      "outputs": [
        {
          "output_type": "execute_result",
          "data": {
            "text/plain": [
              "[]"
            ]
          },
          "metadata": {
            "tags": []
          },
          "execution_count": 61
        }
      ]
    },
    {
      "cell_type": "code",
      "metadata": {
        "colab": {
          "base_uri": "https://localhost:8080/"
        },
        "id": "m_6xOPUAsojD",
        "outputId": "a78ea131-bfe7-491c-a176-2114dd84323c"
      },
      "source": [
        "emotions"
      ],
      "execution_count": null,
      "outputs": [
        {
          "output_type": "execute_result",
          "data": {
            "text/plain": [
              "[]"
            ]
          },
          "metadata": {
            "tags": []
          },
          "execution_count": 62
        }
      ]
    },
    {
      "cell_type": "code",
      "metadata": {
        "id": "0nEu0YH5vwXT"
      },
      "source": [
        "def most_frequent(List):\n",
        "    occurence_count = Counter(List)\n",
        "    return occurence_count.most_common(1)[0][0]"
      ],
      "execution_count": null,
      "outputs": []
    },
    {
      "cell_type": "code",
      "metadata": {
        "id": "vL09Ss5NN7tQ"
      },
      "source": [
        "##################################### mohema tala3ha foo2\n",
        "def js_to_image(js_reply):\n",
        "  \"\"\"\n",
        "  Params:\n",
        "          js_reply: JavaScript object containing image from webcam\n",
        "  Returns:\n",
        "          img: OpenCV BGR image\n",
        "  \"\"\"\n",
        "  # decode base64 image\n",
        "  image_bytes = b64decode(js_reply.split(',')[1])\n",
        "  # convert bytes to numpy array\n",
        "  jpg_as_np = np.frombuffer(image_bytes, dtype=np.uint8)\n",
        "  # decode numpy array into OpenCV BGR image\n",
        "  img = cv2.imdecode(jpg_as_np, flags=1)\n",
        "\n",
        "  return img"
      ],
      "execution_count": null,
      "outputs": []
    },
    {
      "cell_type": "code",
      "metadata": {
        "id": "opleEdBbpu6c"
      },
      "source": [
        "\n"
      ],
      "execution_count": null,
      "outputs": []
    },
    {
      "cell_type": "code",
      "metadata": {
        "id": "7NJXGX7qrZGl"
      },
      "source": [
        "##################################################################################      Working         ##############################################################################\n",
        "from collections import Counter\n",
        "label_html = 'Capturing...'\n",
        "\n",
        "# initialze bounding box to empty\n",
        "bbox = ''\n",
        "count = 0 \n",
        "def read_face_emotion():\n",
        "  video_stream()\n",
        "  emotions=[]\n",
        "  \n",
        "  while True:\n",
        "\n",
        "      js_reply = video_frame(label_html, bbox)\n",
        "      labels=[]\n",
        "      if not js_reply:\n",
        "          break\n",
        "\n",
        "      # convert JS response to OpenCV Image\n",
        "      img = js_to_image(js_reply[\"img\"])\n",
        "\n",
        "      # create transparent overlay for bounding box\n",
        "      bbox_array = np.zeros([480,640,4], dtype=np.uint8)\n",
        "\n",
        "      # grayscale image for face detection\n",
        "      gray = cv2.cvtColor(img, cv2.COLOR_RGB2GRAY)\n",
        "\n",
        "      # get face region coordinates\n",
        "      faces = face_cascade.detectMultiScale(gray)\n",
        "      # get face bounding box for overlay\n",
        "      for (x,y,w,h) in faces:\n",
        "        bbox_array = cv2.rectangle(bbox_array,(x,y),(x+w,y+h),(255,0,0),2)\n",
        "        roi_gray = gray[y:y+h,x:x+w]\n",
        "        roi_gray = cv2.resize(roi_gray,(48,48),interpolation=cv2.INTER_AREA)\n",
        "        \n",
        "\n",
        "        if np.sum([roi_gray])!=0:\n",
        "            roi = roi_gray.astype('float')/255.0\n",
        "            roi = img_to_array(roi)\n",
        "            roi = np.expand_dims(roi,axis=0)\n",
        "            preds = classifier.predict(roi)[0]\n",
        "           # print(\"\\nprediction = \",preds)\n",
        "            label=class_labels[preds.argmax()]\n",
        "          #  print(\"\\nprediction max = \",preds.argmax())\n",
        "          #  print(\"\\nlabel = \",label)\n",
        "\n",
        "            emotions.append(label)\n",
        "            try:\n",
        "              if(len(emotions)%7==0):\n",
        "                \n",
        "                return most_frequent(emotions)\n",
        "\n",
        "              \n",
        "            except Exception as e:\n",
        "              continue\n",
        "               \n",
        "\n",
        "\n",
        "            \n",
        "\n",
        "            label_position = (x,y)\n",
        "            cv2.putText(img,label,label_position,cv2.FONT_HERSHEY_SIMPLEX,2,(0,255,0),3)\n",
        "\n",
        "  # return(mode(emotions))\n",
        "\n",
        "    \n",
        "      # convert overlay of bbox into bytes\n",
        "      \n",
        "      # update bbox so next frame gets new overlay\n",
        "    "
      ],
      "execution_count": null,
      "outputs": []
    },
    {
      "cell_type": "code",
      "metadata": {
        "id": "a7B3vamnS6Cp"
      },
      "source": [
        "#print('most common '+read_face_emotion())"
      ],
      "execution_count": null,
      "outputs": []
    },
    {
      "cell_type": "code",
      "metadata": {
        "id": "LEF0NRwEtz9c"
      },
      "source": [
        "# def most_common(List):\n",
        "#     return(mode(List))\n",
        "#read_face_emotion()\n",
        "# def threaded_face_emotion():\n",
        "#   read_face_emotion()\n",
        "#   most_common(emotions)\n",
        "  ################################### faksana"
      ],
      "execution_count": null,
      "outputs": []
    },
    {
      "cell_type": "code",
      "metadata": {
        "id": "-YQYbbphvVIS"
      },
      "source": [
        "# import threading\n",
        "\n",
        "# t1=threading.Thread(target=read_face_emotion)\n",
        "# t1.start()\n",
        "# print(threading.active_count() )\n",
        "# print('fierst')\n",
        "\n",
        "# print('hello')"
      ],
      "execution_count": null,
      "outputs": []
    },
    {
      "cell_type": "code",
      "metadata": {
        "id": "aDRtarPIf3iz"
      },
      "source": [
        "# video_stream()\n",
        "  ################################### faksana  ################################### faksana  ################################### faksana  ################################### faksana\n",
        "# # label for video\n",
        "# label_html = 'Front Camera'\n",
        "# # initialze bounding box to empty\n",
        "# bbox = ''\n",
        "# count = 0 \n",
        "\n",
        "# emotions=[]\n",
        "# ###################################\n",
        "# def face_emotion():\n",
        "#   video_stream()\n",
        "#   print('out')\n",
        "#   while True:\n",
        "#     print('in')\n",
        "#     js_reply = video_frame(label_html, bbox)\n",
        "#     print('2222222222')\n",
        "#     if not js_reply:\n",
        "#         print('not')\n",
        "#         return\n",
        "#     labels = []\n",
        "#     print('1')\n",
        "#     # convert JS response to OpenCV Image\n",
        "#     img = js_to_image(js_reply[\"img\"])\n",
        "#     print('2')\n",
        "#     # create transparent overlay for bounding box\n",
        "#     bbox_array = np.zeros([480,640,4], dtype=np.uint8)\n",
        "#     print('3')\n",
        "#     # grayscale image for face detection\n",
        "#     gray = cv2.cvtColor(img, cv2.COLOR_RGB2GRAY)\n",
        "#     print('4')\n",
        "#     # get face region coordinates\n",
        "#     faces = face_cascade.detectMultiScale(gray)\n",
        "#     #faces = face_classifier.detectMultiScale(gray,1.3,5)\n",
        "\n",
        "\n",
        "#     print('before loop')\n",
        "\n",
        "#     # get face bounding box for overlay\n",
        "#     for (x,y,w,h) in faces:\n",
        "#         print('in for loop')\n",
        "#        # cv2.rectangle(img,(x,y),(x+w,y+h),(255,0,0),2)\n",
        "#         roi_gray = gray[y:y+h,x:x+w]\n",
        "#         roi_gray = cv2.resize(roi_gray,(48,48),interpolation=cv2.INTER_AREA)\n",
        "\n",
        "        \n",
        "#         if np.sum([roi_gray])!=0:\n",
        "#             roi = roi_gray.astype('float')/255.0\n",
        "#             roi = img_to_array(roi)\n",
        "#             roi = np.expand_dims(roi,axis=0)\n",
        "\n",
        "#         # make a prediction on the ROI, then lookup the class\n",
        "\n",
        "#             preds = classifier.predict(roi)[0]\n",
        "#             print(\"\\nprediction = \",preds)\n",
        "#             label=class_labels[preds.argmax()]\n",
        "#             emotions.append(label)\n",
        "#             fs=True\n",
        "#             print(fs)\n",
        "#             print(len(emotions))\n",
        "#             try:\n",
        "#               print('in try')\n",
        "#               print(len(emotions))\n",
        "#               if len(emotions)%5==0:\n",
        "#                 print('most common emotion: '+most_common(emotions))\n",
        "#                 fs=False\n",
        "#                 emotions.clear()\n",
        "#             except Exception as e:\n",
        "#               print('unexpected error in face detection')\n",
        "#               print(\"\\nprediction max = \",preds.argmax())\n",
        "#             #print(\"\\nlabel = \",label)\n",
        "#             label_position = (x,y)\n",
        "#             cv2.putText(img,label,label_position,cv2.FONT_HERSHEY_SIMPLEX,2,(0,255,0),3)\n",
        "#         else:\n",
        "#             cv2.putText(img,'No Face Found',(20,60),cv2.FONT_HERSHEY_SIMPLEX,2,(0,255,0),3)\n",
        "#             print(\"else\")\n",
        "#     # update bbox so next frame gets new overlay\n",
        "# face_emotion()\n",
        "  ################################### faksana  ################################### faksana  ################################### faksana  ################################### faksana"
      ],
      "execution_count": null,
      "outputs": []
    },
    {
      "cell_type": "markdown",
      "metadata": {
        "id": "FUnsBV_oV_ly"
      },
      "source": [
        "# Q&A model now\n"
      ]
    },
    {
      "cell_type": "code",
      "metadata": {
        "id": "VuX5LS5WWCqe"
      },
      "source": [
        "from transformers import BertTokenizer\n",
        "from transformers import BertForQuestionAnswering\n",
        "import torch\n",
        "import textwrap\n",
        "from textblob import TextBlob\n",
        "import nltk"
      ],
      "execution_count": null,
      "outputs": []
    },
    {
      "cell_type": "markdown",
      "metadata": {
        "id": "3fWXvHxkGiVE"
      },
      "source": [
        "Load the Pretrained Model for Question Answering Bert"
      ]
    },
    {
      "cell_type": "code",
      "metadata": {
        "id": "IGRSs5F2WFXW"
      },
      "source": [
        "from transformers import AutoTokenizer, AutoModelForQuestionAnswering\n",
        "tokenizer1 = AutoTokenizer.from_pretrained(\"bert-large-uncased-whole-word-masking-finetuned-squad\")\n",
        "\n",
        "model1 = AutoModelForQuestionAnswering.from_pretrained(\"bert-large-uncased-whole-word-masking-finetuned-squad\")\n",
        "\n",
        "#AutoTokenizer.from_pretrained(\"deepset/bert-large-uncased-whole-word-masking-squad2\")"
      ],
      "execution_count": null,
      "outputs": []
    },
    {
      "cell_type": "code",
      "metadata": {
        "id": "NIahnOYgdlX7"
      },
      "source": [
        "wrapper = textwrap.TextWrapper(width=80)\n",
        "import concurrent.futures\n",
        "\n",
        "\n",
        "def answer_question(question, answer_text):\n",
        "    '''\n",
        "    Takes a `question` string and an `answer_text` string (which contains the\n",
        "    answer), and identifies the words within the `answer_text` that are the\n",
        "    answer. Prints them out.\n",
        "    '''\n",
        " \n",
        "\n",
        "    \n",
        "\n",
        "\n",
        "    input_ids = tokenizer1.encode(question, answer_text)\n",
        "\n",
        "\n",
        "    sep_index = input_ids.index(tokenizer1.sep_token_id)\n",
        "\n",
        "\n",
        "    num_seg_a = sep_index + 1\n",
        "\n",
        "    num_seg_b = len(input_ids) - num_seg_a\n",
        "\n",
        "    segment_ids = [0] * num_seg_a + [1] * num_seg_b\n",
        "\n",
        "    assert len(segment_ids) == len(input_ids)\n",
        "\n",
        "    start_scores, end_scores = model1(torch.tensor([input_ids]), \n",
        "                                     token_type_ids=torch.tensor(\n",
        "                                         [segment_ids]))  \n",
        "\n",
        "\n",
        "    answer_start = torch.argmax(start_scores)\n",
        "    answer_end = torch.argmax(end_scores)\n",
        "\n",
        "\n",
        "    tokens = tokenizer1.convert_ids_to_tokens(input_ids)\n",
        "\n",
        "\n",
        "    answer = tokens[answer_start]\n",
        "\n",
        "\n",
        "    for i in range(answer_start + 1, answer_end + 1):\n",
        "\n",
        "\n",
        "        if tokens[i][0:2] == '##':\n",
        "            answer += tokens[i][2:]\n",
        "\n",
        "\n",
        "        else:\n",
        "            answer += ' ' + tokens[i]\n",
        "    if \"CLS\" in answer:\n",
        "      print('You: '+ question )\n",
        "      print('Sorry i dont know')\n",
        "      return 'Sorry i cant handle that'\n",
        "    elif \"[SEP]\" in answer:\n",
        "      print('You: '+ question )\n",
        "      print('Sorry i dont know')\n",
        "      return 'Sorry i dont understand that yet'\n",
        "    else:\n",
        "      \n",
        "      print('You: '+ question )\n",
        "      print('Answer : '+ answer )\n",
        "      return answer\n",
        "\n"
      ],
      "execution_count": null,
      "outputs": []
    },
    {
      "cell_type": "code",
      "metadata": {
        "id": "yImsxDsKrSl6"
      },
      "source": [
        "def answer_this(question,y=1000):\n",
        "  \n",
        "  if(y<200):\n",
        "    return\n",
        " # question = ['which types of vaccines available to cure covid']\n",
        "  global Selected_Category\n",
        "  global inputs\n",
        "  global model\n",
        "  global prediction\n",
        "  question1=[question]\n",
        "  inputs = bert_encode(string_list=list(question1), \n",
        "                     tokenizer=tokenizer, \n",
        "                     max_seq_length=63)\n",
        "  prediction = model.predict(inputs)\n",
        "  possible_categories=['Comparison','Economic_Effects','Having_COVID','Individual_Response','Nomenclature','Origin','Prevention','Reporting','Societal Effects','Societal Response','Speculation','Symptoms','Testing','Transmission','Treatment']\n",
        "  for i in range (len(possible_categories)):\n",
        "    if np.argmax(prediction)== i:\n",
        "\n",
        "      Selected_Category=possible_categories[i]\n",
        "\n",
        "\n",
        "\n",
        "  # if np.argmax(prediction)== 0:\n",
        "  #   Selected_Category='Comparison'\n",
        "    \n",
        "  # if np.argmax(prediction)== 1:\n",
        "  #   Selected_Category='Economic_Effects'\n",
        "    \n",
        "  # if np.argmax(prediction)== 2:\n",
        "  #   Selected_Category='Having_COVID'\n",
        "    \n",
        "  # if np.argmax(prediction)== 3:\n",
        "  #   Selected_Category='Individual_Response'\n",
        "    \n",
        "  # if np.argmax(prediction)== 4:\n",
        "  #   Selected_Category='Nomenclature'\n",
        "    \n",
        "  # if np.argmax(prediction)== 5:\n",
        "  #   Selected_Category='Origin'\n",
        "    \n",
        "  # if np.argmax(prediction)== 6:\n",
        "  #   Selected_Category='Prevention'\n",
        "    \n",
        "  # if np.argmax(prediction)== 7:\n",
        "  #   Selected_Category='Reporting'\n",
        "    \n",
        "  # if np.argmax(prediction)== 8:\n",
        "  #   Selected_Category='Societal Effects'\n",
        "    \n",
        "  # if np.argmax(prediction)== 9:\n",
        "  #   Selected_Category='Societal Response'\n",
        "    \n",
        "  # if np.argmax(prediction)== 10:\n",
        "  #   Selected_Category='Speculation'\n",
        "    \n",
        "  # if np.argmax(prediction)== 11:\n",
        "  #   Selected_Category='Symptoms'\n",
        "    \n",
        "  # if np.argmax(prediction)== 12:\n",
        "  #   Selected_Category='Testing'\n",
        "    \n",
        "  # if np.argmax(prediction)== 13:\n",
        "  #   Selected_Category='Transmission'\n",
        "    \n",
        "  # if np.argmax(prediction)== 14:\n",
        "  #   Selected_Category='Treatment'\n",
        "    \n",
        "\n",
        "  \n",
        "  flag_exception = False\n",
        "\n",
        "  try:\n",
        "    with open('/content/gdrive/My Drive/Categories/'+Selected_Category+'.txt') as f:\n",
        "      x=f.readlines()\n",
        "    Categorial_Abtract=x\n",
        "    bert_abstract=''.join(Categorial_Abtract)\n",
        "\n",
        "    bert_abstract\n",
        "  except Exception as e:\n",
        "    print('You: '+ question )\n",
        "    print(Selected_Category +' Category is still not available yet.')\n",
        "    return \"Category is still not available yet\"\n",
        "    flag_exception = True\n",
        "\n",
        "  if  flag_exception == True:\n",
        "    print(Selected_Category +' Category is still not available yet.')\n",
        "    return \"Category is still not available yet\"\n",
        "  else:\n",
        "    try:\n",
        "      \n",
        "      \n",
        "      #print(bert_abstract)\n",
        "      return answer_question(question,bert_abstract[:y])\n",
        "    except Exception as e:\n",
        "      print ('ops an error occured  '+ str(e))\n",
        "      answer_this(question,y-100)\n",
        "      \n",
        "\n",
        "  "
      ],
      "execution_count": null,
      "outputs": []
    },
    {
      "cell_type": "code",
      "metadata": {
        "colab": {
          "base_uri": "https://localhost:8080/",
          "height": 72
        },
        "id": "lcW-y9H5CB9Z",
        "outputId": "c6b16678-b7c6-4fa8-f5ec-5785e5037f25"
      },
      "source": [
        "# answer_this('what is covid cure')\n",
        "# answer_this('and where did covid start')\n",
        "# answer_this('what is the symptoms?')\n",
        "# answer_this('what is the incubation period?')\n",
        "# answer_this('when will corona end?')\n",
        "answer_this('what is sars')"
      ],
      "execution_count": null,
      "outputs": [
        {
          "output_type": "stream",
          "text": [
            "You: what is sars\n",
            "Answer : severe acute respiratory syndrome coronavirus 2\n"
          ],
          "name": "stdout"
        },
        {
          "output_type": "execute_result",
          "data": {
            "application/vnd.google.colaboratory.intrinsic+json": {
              "type": "string"
            },
            "text/plain": [
              "'severe acute respiratory syndrome coronavirus 2'"
            ]
          },
          "metadata": {
            "tags": []
          },
          "execution_count": 74
        }
      ]
    },
    {
      "cell_type": "code",
      "metadata": {
        "id": "DNXVhRvH-2gM"
      },
      "source": [
        "import concurrent.futures\n",
        "import time\n",
        "  #print(read_face_emotion())\n",
        "message=input()  \n",
        "#message='what is the treatment'\n",
        "\n",
        "with concurrent.futures.ThreadPoolExecutor() as executor:\n",
        "      future = executor.submit(read_face_emotion)\n",
        "      future2=executor.submit(answer_this,message)\n",
        "        \n",
        "      r=future.result()\n",
        "      print('your face is '+r)\n",
        "    \n",
        "      # time.sleep(5)\n",
        "      # if r is not True:\n",
        "\n",
        "      #   future.cancel()\n",
        "     # concurrent.futures.ThreadPoolExecutor.shutdown()\n",
        "\n",
        "  \n",
        "      "
      ],
      "execution_count": null,
      "outputs": []
    },
    {
      "cell_type": "code",
      "metadata": {
        "id": "TW4YSTmRPvfh"
      },
      "source": [
        "read_face_emotion()"
      ],
      "execution_count": null,
      "outputs": []
    },
    {
      "cell_type": "code",
      "metadata": {
        "id": "h-9BXTfI8cSW"
      },
      "source": [
        ""
      ],
      "execution_count": null,
      "outputs": []
    },
    {
      "cell_type": "code",
      "metadata": {
        "id": "MbpILxT0roah"
      },
      "source": [
        "\n",
        "  #answer_this('what is covid cure')\n",
        "# answer_this('and where did covid start')\n",
        "# answer_this('what is the symptoms?')\n",
        "# answer_this('what is the incubation period?')\n",
        "# answer_this('how does corona spread?')\n"
      ],
      "execution_count": null,
      "outputs": []
    },
    {
      "cell_type": "markdown",
      "metadata": {
        "id": "rzeYeYdhNCPt"
      },
      "source": [
        "\n",
        "# Web App\n"
      ]
    },
    {
      "cell_type": "code",
      "metadata": {
        "id": "d_f-4RuMD8S6",
        "colab": {
          "base_uri": "https://localhost:8080/"
        },
        "outputId": "e3346889-9769-4af9-c0f6-6d1a11fd5a6c"
      },
      "source": [
        "\n",
        "\n",
        "from google.colab import drive\n",
        "\n",
        "drive.mount('/content/gdrive')"
      ],
      "execution_count": null,
      "outputs": [
        {
          "output_type": "stream",
          "text": [
            "Drive already mounted at /content/gdrive; to attempt to forcibly remount, call drive.mount(\"/content/gdrive\", force_remount=True).\n"
          ],
          "name": "stdout"
        }
      ]
    },
    {
      "cell_type": "code",
      "metadata": {
        "id": "60BstSDkWltZ"
      },
      "source": [
        "h='hello'"
      ],
      "execution_count": null,
      "outputs": []
    },
    {
      "cell_type": "code",
      "metadata": {
        "colab": {
          "base_uri": "https://localhost:8080/"
        },
        "id": "cv_nefniNIf1",
        "outputId": "b9b0eed0-9307-44d2-9e3d-d1ca9fd6a369"
      },
      "source": [
        "from flask import Flask\n",
        "!pip install flask-ngrok\n",
        "!pip install flask-wtf\n",
        "! pip install wtforms==2.2.1\n",
        "!pip install pyngrok\n",
        "!ngrok authtoken 1tqnKSRNTcXG8w4GrKSnjYvPVlv_3G54329xNgebzaRBUpGeq"
      ],
      "execution_count": null,
      "outputs": [
        {
          "output_type": "stream",
          "text": [
            "Requirement already satisfied: flask-ngrok in /usr/local/lib/python3.7/dist-packages (0.0.25)\n",
            "Requirement already satisfied: Flask>=0.8 in /usr/local/lib/python3.7/dist-packages (from flask-ngrok) (1.1.4)\n",
            "Requirement already satisfied: requests in /usr/local/lib/python3.7/dist-packages (from flask-ngrok) (2.23.0)\n",
            "Requirement already satisfied: Jinja2<3.0,>=2.10.1 in /usr/local/lib/python3.7/dist-packages (from Flask>=0.8->flask-ngrok) (2.11.3)\n",
            "Requirement already satisfied: Werkzeug<2.0,>=0.15 in /usr/local/lib/python3.7/dist-packages (from Flask>=0.8->flask-ngrok) (1.0.1)\n",
            "Requirement already satisfied: click<8.0,>=5.1 in /usr/local/lib/python3.7/dist-packages (from Flask>=0.8->flask-ngrok) (7.1.2)\n",
            "Requirement already satisfied: itsdangerous<2.0,>=0.24 in /usr/local/lib/python3.7/dist-packages (from Flask>=0.8->flask-ngrok) (1.1.0)\n",
            "Requirement already satisfied: chardet<4,>=3.0.2 in /usr/local/lib/python3.7/dist-packages (from requests->flask-ngrok) (3.0.4)\n",
            "Requirement already satisfied: urllib3!=1.25.0,!=1.25.1,<1.26,>=1.21.1 in /usr/local/lib/python3.7/dist-packages (from requests->flask-ngrok) (1.24.3)\n",
            "Requirement already satisfied: certifi>=2017.4.17 in /usr/local/lib/python3.7/dist-packages (from requests->flask-ngrok) (2020.12.5)\n",
            "Requirement already satisfied: idna<3,>=2.5 in /usr/local/lib/python3.7/dist-packages (from requests->flask-ngrok) (2.10)\n",
            "Requirement already satisfied: MarkupSafe>=0.23 in /usr/local/lib/python3.7/dist-packages (from Jinja2<3.0,>=2.10.1->Flask>=0.8->flask-ngrok) (2.0.1)\n",
            "Requirement already satisfied: flask-wtf in /usr/local/lib/python3.7/dist-packages (0.15.1)\n",
            "Requirement already satisfied: Flask in /usr/local/lib/python3.7/dist-packages (from flask-wtf) (1.1.4)\n",
            "Requirement already satisfied: itsdangerous in /usr/local/lib/python3.7/dist-packages (from flask-wtf) (1.1.0)\n",
            "Requirement already satisfied: WTForms in /usr/local/lib/python3.7/dist-packages (from flask-wtf) (2.2.1)\n",
            "Requirement already satisfied: click<8.0,>=5.1 in /usr/local/lib/python3.7/dist-packages (from Flask->flask-wtf) (7.1.2)\n",
            "Requirement already satisfied: Jinja2<3.0,>=2.10.1 in /usr/local/lib/python3.7/dist-packages (from Flask->flask-wtf) (2.11.3)\n",
            "Requirement already satisfied: Werkzeug<2.0,>=0.15 in /usr/local/lib/python3.7/dist-packages (from Flask->flask-wtf) (1.0.1)\n",
            "Requirement already satisfied: MarkupSafe>=0.23 in /usr/local/lib/python3.7/dist-packages (from Jinja2<3.0,>=2.10.1->Flask->flask-wtf) (2.0.1)\n",
            "Requirement already satisfied: wtforms==2.2.1 in /usr/local/lib/python3.7/dist-packages (2.2.1)\n",
            "Requirement already satisfied: pyngrok in /usr/local/lib/python3.7/dist-packages (5.0.5)\n",
            "Requirement already satisfied: PyYAML in /usr/local/lib/python3.7/dist-packages (from pyngrok) (3.13)\n",
            "Authtoken saved to configuration file: /root/.ngrok2/ngrok.yml\n"
          ],
          "name": "stdout"
        }
      ]
    },
    {
      "cell_type": "code",
      "metadata": {
        "colab": {
          "base_uri": "https://localhost:8080/"
        },
        "id": "xKEMM3LvNI8x",
        "outputId": "48f78503-2988-4ed5-e7e8-2491631f8802"
      },
      "source": [
        "\n",
        "from flask import Flask,redirect,url_for,render_template,request,jsonify\n",
        "from flask_wtf import FlaskForm\n",
        "from flask_ngrok import run_with_ngrok\n",
        "#!ngrok authtoken 1tqnKSRNTcXG8w4GrKSnjYvPVlv_3G54329xNgebzaRBUpGeq\n",
        "\n",
        "from wtforms import StringField, PasswordField, SubmitField, BooleanField\n",
        "from wtforms.validators import DataRequired, Length, Email, EqualTo, ValidationError\n",
        "app = Flask(__name__,template_folder='/content/gdrive/MyDrive/roboart',static_folder='/content/gdrive/MyDrive/roboart/static',)\n",
        "app._static_folder = '/content/gdrive/MyDrive/roboart/static'\n",
        "run_with_ngrok(app)   \n",
        "app.config['SECRET_KEY'] = '5791628bb0b13ce0c676dfde585ba245'\n",
        "app.config['SQLALCHEMY_DATABASE_URI'] = 'sqlite:///site.db'\n",
        "\n",
        "@app.route(\"/pricing\")\n",
        "def pricing():\n",
        "    return render_template('pricing.html')    \n",
        "@app.route(\"/team\")\n",
        "def team():\n",
        "    return render_template('team.html')  \n",
        "\n",
        "\n",
        "@app.route(\"/faq\")\n",
        "def faq():\n",
        "    return render_template('faq.html')\n",
        "\n",
        "@app.route(\"/contact\")\n",
        "def contact():\n",
        "    return render_template('contact.html')\n",
        "@app.route(\"/\")\n",
        "@app.route(\"/index\")\n",
        "def home():\n",
        "    return render_template('index-2.html')\n",
        "@app.route(\"/about\")\n",
        "def about():\n",
        "    return render_template('about.html')\n",
        "\n",
        "@app.route('/answer/voice')\n",
        "def answer_voice():\n",
        " \n",
        "  audio_wav=request.args.get(\"audio\")\n",
        "  # r = sr.Recognizer()\n",
        "  # with sr.AudioFile(audio_wav) as source:\n",
        "\n",
        "  #   audio_data = r.record(source)\n",
        "\n",
        "  # text = r.recognize_google(audio_data)\n",
        "  # print(text)\n",
        "  result=get_audio_sentiments(audio_wav)\n",
        "  return jsonify({'emotion':result  })\n",
        "\n",
        "\n",
        "\n",
        "\n",
        "@app.route(\"/chatbotmic\")\n",
        "def chatbotmic():\n",
        "    return render_template('chatbotmic.html')    \n",
        "@app.route(\"/chatbotvideo\")\n",
        "def chatbotvideo():\n",
        "    return render_template('chatbotvid.html')    \n",
        "\n",
        "\n",
        "@app.route(\"/login\", methods=['GET', 'POST'])\n",
        "def login():\n",
        "    \n",
        "    form = LoginForm()\n",
        "    if form.validate_on_submit():\n",
        "        user = User.query.filter_by(email=form.email.data).first()\n",
        "        if user and bcrypt.check_password_hash(user.password, form.password.data):\n",
        "            login_user(user, remember=form.remember.data)\n",
        "            next_page = request.args.get('next')\n",
        "            return redirect(next_page) if next_page else redirect(url_for('home'))\n",
        "        else:\n",
        "            flash('Login Unsuccessful. Please check email and password', 'danger')\n",
        "    return render_template('login.html', title='Login', form=form)\n",
        "\n",
        "\n",
        "\n",
        "\n",
        "class LoginForm(FlaskForm):\n",
        "    email = StringField('Email',\n",
        "                        validators=[DataRequired(), Email()])\n",
        "    password = PasswordField('Password', validators=[DataRequired()])\n",
        "    remember = BooleanField('Remember Me')\n",
        "    submit = SubmitField('Login')\n",
        "\n",
        "\n",
        "@app.route(\"/chatbot-text\",methods=[\"GET\"])\n",
        "\n",
        "def chatbot():\n",
        "    return render_template('chatbottext.html')\n",
        "\n",
        "\n",
        "\n",
        "\n",
        "\n",
        "\n",
        "\n",
        "@app.route(\"/chatbot/answer\", methods=['GET'])\n",
        "def get_bot_response():\n",
        "  \n",
        "  \n",
        "    \n",
        "  question = request.args.get(\"question\",0,type=str)\n",
        "  print(\"testing 3 message = \"+question )\n",
        "  answer=answer_this(question)\n",
        "  print(\"testing\" +answer)\n",
        "  sent= question_polarity(question)\n",
        "  print(sent)\n",
        "  final=answer+\" \"+sent  \n",
        "  return jsonify({'response':final})\n",
        "\n",
        "  \n",
        "app.run()\n"
      ],
      "execution_count": null,
      "outputs": [
        {
          "output_type": "stream",
          "text": [
            " * Serving Flask app \"__main__\" (lazy loading)\n",
            " * Environment: production\n",
            "\u001b[31m   WARNING: This is a development server. Do not use it in a production deployment.\u001b[0m\n",
            "\u001b[2m   Use a production WSGI server instead.\u001b[0m\n",
            " * Debug mode: off\n"
          ],
          "name": "stdout"
        },
        {
          "output_type": "stream",
          "text": [
            "INFO:werkzeug: * Running on http://127.0.0.1:5000/ (Press CTRL+C to quit)\n"
          ],
          "name": "stderr"
        },
        {
          "output_type": "stream",
          "text": [
            " * Running on http://c8343b9c031a.ngrok.io\n",
            " * Traffic stats available on http://127.0.0.1:4040\n"
          ],
          "name": "stdout"
        },
        {
          "output_type": "stream",
          "text": [
            "INFO:werkzeug:127.0.0.1 - - [13/Jun/2021 08:52:26] \"\u001b[37mGET / HTTP/1.1\u001b[0m\" 200 -\n",
            "INFO:werkzeug:127.0.0.1 - - [13/Jun/2021 08:52:26] \"\u001b[37mGET /static/css/responsive.css HTTP/1.1\u001b[0m\" 200 -\n",
            "INFO:werkzeug:127.0.0.1 - - [13/Jun/2021 08:52:26] \"\u001b[37mGET /static/css/bootstrap.min.css HTTP/1.1\u001b[0m\" 200 -\n",
            "INFO:werkzeug:127.0.0.1 - - [13/Jun/2021 08:52:26] \"\u001b[37mGET /static/css/owl.transitions.css HTTP/1.1\u001b[0m\" 200 -\n",
            "INFO:werkzeug:127.0.0.1 - - [13/Jun/2021 08:52:26] \"\u001b[37mGET /static/css/style.css HTTP/1.1\u001b[0m\" 200 -\n",
            "INFO:werkzeug:127.0.0.1 - - [13/Jun/2021 08:52:26] \"\u001b[37mGET /static/css/animate.css HTTP/1.1\u001b[0m\" 200 -\n",
            "INFO:werkzeug:127.0.0.1 - - [13/Jun/2021 08:52:26] \"\u001b[37mGET /static/css/owl.carousel.css HTTP/1.1\u001b[0m\" 200 -\n",
            "INFO:werkzeug:127.0.0.1 - - [13/Jun/2021 08:52:27] \"\u001b[37mGET /static/css/meanmenu.min.css HTTP/1.1\u001b[0m\" 200 -\n",
            "INFO:werkzeug:127.0.0.1 - - [13/Jun/2021 08:52:27] \"\u001b[37mGET /static/css/font-awesome.min.css HTTP/1.1\u001b[0m\" 200 -\n",
            "INFO:werkzeug:127.0.0.1 - - [13/Jun/2021 08:52:27] \"\u001b[37mGET /static/css/icon.css HTTP/1.1\u001b[0m\" 200 -\n",
            "INFO:werkzeug:127.0.0.1 - - [13/Jun/2021 08:52:27] \"\u001b[37mGET /static/css/flaticon.css HTTP/1.1\u001b[0m\" 200 -\n",
            "INFO:werkzeug:127.0.0.1 - - [13/Jun/2021 08:52:27] \"\u001b[37mGET /static/css/magnific.min.css HTTP/1.1\u001b[0m\" 200 -\n",
            "INFO:werkzeug:127.0.0.1 - - [13/Jun/2021 08:52:27] \"\u001b[37mGET /static/js/vendor/jquery-1.12.4.min.js HTTP/1.1\u001b[0m\" 200 -\n",
            "INFO:werkzeug:127.0.0.1 - - [13/Jun/2021 08:52:27] \"\u001b[37mGET /static/js/bootstrap.min.js HTTP/1.1\u001b[0m\" 200 -\n",
            "INFO:werkzeug:127.0.0.1 - - [13/Jun/2021 08:52:27] \"\u001b[37mGET /static/js/owl.carousel.min.js HTTP/1.1\u001b[0m\" 200 -\n",
            "INFO:werkzeug:127.0.0.1 - - [13/Jun/2021 08:52:27] \"\u001b[37mGET /static/js/jquery.counterup.min.js HTTP/1.1\u001b[0m\" 200 -\n",
            "INFO:werkzeug:127.0.0.1 - - [13/Jun/2021 08:52:27] \"\u001b[37mGET /static/js/waypoints.js HTTP/1.1\u001b[0m\" 200 -\n",
            "INFO:werkzeug:127.0.0.1 - - [13/Jun/2021 08:52:27] \"\u001b[37mGET /static/js/jquery.stellar.min.js HTTP/1.1\u001b[0m\" 200 -\n",
            "INFO:werkzeug:127.0.0.1 - - [13/Jun/2021 08:52:27] \"\u001b[37mGET /static/js/magnific.min.js HTTP/1.1\u001b[0m\" 200 -\n",
            "INFO:werkzeug:127.0.0.1 - - [13/Jun/2021 08:52:28] \"\u001b[37mGET /static/js/wow.min.js HTTP/1.1\u001b[0m\" 200 -\n",
            "INFO:werkzeug:127.0.0.1 - - [13/Jun/2021 08:52:28] \"\u001b[37mGET /static/js/jquery.meanmenu.js HTTP/1.1\u001b[0m\" 200 -\n",
            "INFO:werkzeug:127.0.0.1 - - [13/Jun/2021 08:52:28] \"\u001b[37mGET /static/js/form-validator.min.js HTTP/1.1\u001b[0m\" 200 -\n",
            "INFO:werkzeug:127.0.0.1 - - [13/Jun/2021 08:52:28] \"\u001b[37mGET /static/js/plugins.js HTTP/1.1\u001b[0m\" 200 -\n",
            "INFO:werkzeug:127.0.0.1 - - [13/Jun/2021 08:52:28] \"\u001b[37mGET /static/js/main.js HTTP/1.1\u001b[0m\" 200 -\n",
            "INFO:werkzeug:127.0.0.1 - - [13/Jun/2021 08:52:28] \"\u001b[37mGET /static/fonts/Flaticon.woff HTTP/1.1\u001b[0m\" 200 -\n",
            "INFO:werkzeug:127.0.0.1 - - [13/Jun/2021 08:52:28] \"\u001b[37mGET /static/fonts/Linearicons-Free.woff2?w118d HTTP/1.1\u001b[0m\" 200 -\n",
            "INFO:werkzeug:127.0.0.1 - - [13/Jun/2021 08:52:28] \"\u001b[37mGET /static/css/img/logo/preloader.gif HTTP/1.1\u001b[0m\" 200 -\n",
            "INFO:werkzeug:127.0.0.1 - - [13/Jun/2021 08:52:28] \"\u001b[37mGET /static/css/img/background/bg2.jpg HTTP/1.1\u001b[0m\" 200 -\n",
            "INFO:werkzeug:127.0.0.1 - - [13/Jun/2021 08:52:28] \"\u001b[37mGET /static/css/img/background/bg2.png HTTP/1.1\u001b[0m\" 200 -\n",
            "INFO:werkzeug:127.0.0.1 - - [13/Jun/2021 08:52:28] \"\u001b[37mGET /static/css/img/background/color-bg.png HTTP/1.1\u001b[0m\" 200 -\n",
            "INFO:werkzeug:127.0.0.1 - - [13/Jun/2021 08:52:28] \"\u001b[35m\u001b[1mGET /static/fonts/fontawesome-webfont.woff2?v=4.5.0 HTTP/1.1\u001b[0m\" 500 -\n",
            "ERROR:werkzeug:Error on request:\n",
            "Traceback (most recent call last):\n",
            "  File \"/usr/local/lib/python3.7/dist-packages/werkzeug/serving.py\", line 323, in run_wsgi\n",
            "    execute(self.server.app)\n",
            "  File \"/usr/local/lib/python3.7/dist-packages/werkzeug/serving.py\", line 314, in execute\n",
            "    for data in application_iter:\n",
            "  File \"/usr/local/lib/python3.7/dist-packages/werkzeug/wsgi.py\", line 579, in __next__\n",
            "    data = self.file.read(self.buffer_size)\n",
            "PermissionError: [Errno 1] Operation not permitted\n",
            "INFO:werkzeug:127.0.0.1 - - [13/Jun/2021 08:52:28] \"\u001b[37mGET /static/css/img/background/bgp3.png HTTP/1.1\u001b[0m\" 200 -\n",
            "INFO:werkzeug:127.0.0.1 - - [13/Jun/2021 08:52:28] \"\u001b[37mGET /static/css/img/services/layer2.png HTTP/1.1\u001b[0m\" 200 -\n",
            "INFO:werkzeug:127.0.0.1 - - [13/Jun/2021 08:52:28] \"\u001b[37mGET /static/img/logo/logo2.png HTTP/1.1\u001b[0m\" 200 -\n",
            "INFO:werkzeug:127.0.0.1 - - [13/Jun/2021 08:52:28] \"\u001b[37mGET /static/img/slider/sp1.png HTTP/1.1\u001b[0m\" 200 -\n",
            "INFO:werkzeug:127.0.0.1 - - [13/Jun/2021 08:52:28] \"\u001b[37mGET /static/img/slider/s2.png HTTP/1.1\u001b[0m\" 200 -\n",
            "INFO:werkzeug:127.0.0.1 - - [13/Jun/2021 08:52:29] \"\u001b[37mGET /static/img/about/circle.png HTTP/1.1\u001b[0m\" 200 -\n",
            "INFO:werkzeug:127.0.0.1 - - [13/Jun/2021 08:52:29] \"\u001b[37mGET /static/img/about/ab.png HTTP/1.1\u001b[0m\" 200 -\n",
            "INFO:werkzeug:127.0.0.1 - - [13/Jun/2021 08:52:29] \"\u001b[37mGET /static/img/feature/ft.png HTTP/1.1\u001b[0m\" 200 -\n",
            "INFO:werkzeug:127.0.0.1 - - [13/Jun/2021 08:52:29] \"\u001b[37mGET /static/img/about/t1.png HTTP/1.1\u001b[0m\" 200 -\n",
            "INFO:werkzeug:127.0.0.1 - - [13/Jun/2021 08:52:29] \"\u001b[35m\u001b[1mGET /static/fonts/fontawesome-webfont.woff?v=4.5.0 HTTP/1.1\u001b[0m\" 500 -\n",
            "ERROR:werkzeug:Error on request:\n",
            "Traceback (most recent call last):\n",
            "  File \"/usr/local/lib/python3.7/dist-packages/werkzeug/serving.py\", line 323, in run_wsgi\n",
            "    execute(self.server.app)\n",
            "  File \"/usr/local/lib/python3.7/dist-packages/werkzeug/serving.py\", line 314, in execute\n",
            "    for data in application_iter:\n",
            "  File \"/usr/local/lib/python3.7/dist-packages/werkzeug/wsgi.py\", line 579, in __next__\n",
            "    data = self.file.read(self.buffer_size)\n",
            "PermissionError: [Errno 1] Operation not permitted\n",
            "INFO:werkzeug:127.0.0.1 - - [13/Jun/2021 08:52:29] \"\u001b[37mGET /static/img/services/w1.png HTTP/1.1\u001b[0m\" 200 -\n",
            "INFO:werkzeug:127.0.0.1 - - [13/Jun/2021 08:52:29] \"\u001b[37mGET /static/img/services/w2.png HTTP/1.1\u001b[0m\" 200 -\n",
            "INFO:werkzeug:127.0.0.1 - - [13/Jun/2021 08:52:29] \"\u001b[37mGET /static/img/services/w3.png HTTP/1.1\u001b[0m\" 200 -\n",
            "INFO:werkzeug:127.0.0.1 - - [13/Jun/2021 08:52:29] \"\u001b[37mGET /static/img/services/w4.png HTTP/1.1\u001b[0m\" 200 -\n",
            "INFO:werkzeug:127.0.0.1 - - [13/Jun/2021 08:52:29] \"\u001b[37mGET /static/img/services/w5.png HTTP/1.1\u001b[0m\" 200 -\n",
            "INFO:werkzeug:127.0.0.1 - - [13/Jun/2021 08:52:29] \"\u001b[37mGET /static/img/services/w6.png HTTP/1.1\u001b[0m\" 200 -\n",
            "INFO:werkzeug:127.0.0.1 - - [13/Jun/2021 08:52:29] \"\u001b[37mGET /static/img/services/s2%20%282%29.png HTTP/1.1\u001b[0m\" 200 -\n",
            "INFO:werkzeug:127.0.0.1 - - [13/Jun/2021 08:52:29] \"\u001b[37mGET /static/img/logo/logo.png HTTP/1.1\u001b[0m\" 200 -\n",
            "INFO:werkzeug:127.0.0.1 - - [13/Jun/2021 08:52:29] \"\u001b[37mGET /static/css/img/background/bgp2.png HTTP/1.1\u001b[0m\" 200 -\n",
            "INFO:werkzeug:127.0.0.1 - - [13/Jun/2021 08:52:29] \"\u001b[37mGET /static/css/img/background/fg.jpg HTTP/1.1\u001b[0m\" 200 -\n",
            "INFO:werkzeug:127.0.0.1 - - [13/Jun/2021 08:52:30] \"\u001b[37mGET /static/img/services/s2.png HTTP/1.1\u001b[0m\" 200 -\n",
            "INFO:werkzeug:127.0.0.1 - - [13/Jun/2021 08:52:30] \"\u001b[35m\u001b[1mGET /static/fonts/fontawesome-webfont.ttf?v=4.5.0 HTTP/1.1\u001b[0m\" 500 -\n",
            "ERROR:werkzeug:Error on request:\n",
            "Traceback (most recent call last):\n",
            "  File \"/usr/local/lib/python3.7/dist-packages/werkzeug/serving.py\", line 323, in run_wsgi\n",
            "    execute(self.server.app)\n",
            "  File \"/usr/local/lib/python3.7/dist-packages/werkzeug/serving.py\", line 314, in execute\n",
            "    for data in application_iter:\n",
            "  File \"/usr/local/lib/python3.7/dist-packages/werkzeug/wsgi.py\", line 579, in __next__\n",
            "    data = self.file.read(self.buffer_size)\n",
            "PermissionError: [Errno 1] Operation not permitted\n",
            "INFO:werkzeug:127.0.0.1 - - [13/Jun/2021 08:52:30] \"\u001b[37mGET /static/img/services/s3.png HTTP/1.1\u001b[0m\" 200 -\n",
            "INFO:werkzeug:127.0.0.1 - - [13/Jun/2021 08:52:30] \"\u001b[37mGET /static/img/services/s4.png HTTP/1.1\u001b[0m\" 200 -\n",
            "INFO:werkzeug:127.0.0.1 - - [13/Jun/2021 08:52:30] \"\u001b[37mGET /static/img/logo/favicon.ico HTTP/1.1\u001b[0m\" 200 -\n",
            "INFO:werkzeug:127.0.0.1 - - [13/Jun/2021 08:52:49] \"\u001b[37mGET /team HTTP/1.1\u001b[0m\" 200 -\n",
            "INFO:werkzeug:127.0.0.1 - - [13/Jun/2021 08:52:50] \"\u001b[37mGET /static/img/logo/logo3.png HTTP/1.1\u001b[0m\" 200 -\n",
            "INFO:werkzeug:127.0.0.1 - - [13/Jun/2021 08:52:50] \"\u001b[37mGET /static/img/team/t1.jpg HTTP/1.1\u001b[0m\" 200 -\n",
            "INFO:werkzeug:127.0.0.1 - - [13/Jun/2021 08:52:50] \"\u001b[37mGET /static/img/team/t2.jpg HTTP/1.1\u001b[0m\" 200 -\n",
            "INFO:werkzeug:127.0.0.1 - - [13/Jun/2021 08:52:50] \"\u001b[37mGET /static/img/team/t6.jpg HTTP/1.1\u001b[0m\" 200 -\n",
            "INFO:werkzeug:127.0.0.1 - - [13/Jun/2021 08:52:50] \"\u001b[37mGET /static/img/team/t5.jpg HTTP/1.1\u001b[0m\" 200 -\n",
            "INFO:werkzeug:127.0.0.1 - - [13/Jun/2021 08:52:50] \"\u001b[37mGET /static/img/team/t4.jpg HTTP/1.1\u001b[0m\" 200 -\n",
            "INFO:werkzeug:127.0.0.1 - - [13/Jun/2021 08:52:50] \"\u001b[37mGET /static/img/team/t3.jpg HTTP/1.1\u001b[0m\" 200 -\n",
            "INFO:werkzeug:127.0.0.1 - - [13/Jun/2021 08:52:50] \"\u001b[37mGET /static/css/img/background/bread-bg.jpg HTTP/1.1\u001b[0m\" 200 -\n",
            "INFO:werkzeug:127.0.0.1 - - [13/Jun/2021 08:52:50] \"\u001b[37mGET /static/css/img/background/shape-footer.png HTTP/1.1\u001b[0m\" 200 -\n",
            "INFO:werkzeug:127.0.0.1 - - [13/Jun/2021 08:52:51] \"\u001b[35m\u001b[1mGET /static/fonts/fontawesome-webfont.woff2?v=4.5.0 HTTP/1.1\u001b[0m\" 500 -\n",
            "ERROR:werkzeug:Error on request:\n",
            "Traceback (most recent call last):\n",
            "  File \"/usr/local/lib/python3.7/dist-packages/werkzeug/serving.py\", line 323, in run_wsgi\n",
            "    execute(self.server.app)\n",
            "  File \"/usr/local/lib/python3.7/dist-packages/werkzeug/serving.py\", line 314, in execute\n",
            "    for data in application_iter:\n",
            "  File \"/usr/local/lib/python3.7/dist-packages/werkzeug/wsgi.py\", line 579, in __next__\n",
            "    data = self.file.read(self.buffer_size)\n",
            "PermissionError: [Errno 1] Operation not permitted\n",
            "INFO:werkzeug:127.0.0.1 - - [13/Jun/2021 08:52:51] \"\u001b[35m\u001b[1mGET /static/fonts/fontawesome-webfont.woff?v=4.5.0 HTTP/1.1\u001b[0m\" 500 -\n",
            "ERROR:werkzeug:Error on request:\n",
            "Traceback (most recent call last):\n",
            "  File \"/usr/local/lib/python3.7/dist-packages/werkzeug/serving.py\", line 323, in run_wsgi\n",
            "    execute(self.server.app)\n",
            "  File \"/usr/local/lib/python3.7/dist-packages/werkzeug/serving.py\", line 314, in execute\n",
            "    for data in application_iter:\n",
            "  File \"/usr/local/lib/python3.7/dist-packages/werkzeug/wsgi.py\", line 579, in __next__\n",
            "    data = self.file.read(self.buffer_size)\n",
            "PermissionError: [Errno 1] Operation not permitted\n",
            "INFO:werkzeug:127.0.0.1 - - [13/Jun/2021 08:52:52] \"\u001b[35m\u001b[1mGET /static/fonts/fontawesome-webfont.ttf?v=4.5.0 HTTP/1.1\u001b[0m\" 500 -\n",
            "ERROR:werkzeug:Error on request:\n",
            "Traceback (most recent call last):\n",
            "  File \"/usr/local/lib/python3.7/dist-packages/werkzeug/serving.py\", line 323, in run_wsgi\n",
            "    execute(self.server.app)\n",
            "  File \"/usr/local/lib/python3.7/dist-packages/werkzeug/serving.py\", line 314, in execute\n",
            "    for data in application_iter:\n",
            "  File \"/usr/local/lib/python3.7/dist-packages/werkzeug/wsgi.py\", line 579, in __next__\n",
            "    data = self.file.read(self.buffer_size)\n",
            "PermissionError: [Errno 1] Operation not permitted\n",
            "INFO:werkzeug:127.0.0.1 - - [13/Jun/2021 08:53:14] \"\u001b[37mGET /index HTTP/1.1\u001b[0m\" 200 -\n",
            "INFO:werkzeug:127.0.0.1 - - [13/Jun/2021 08:53:15] \"\u001b[35m\u001b[1mGET /static/fonts/fontawesome-webfont.woff2?v=4.5.0 HTTP/1.1\u001b[0m\" 500 -\n",
            "ERROR:werkzeug:Error on request:\n",
            "Traceback (most recent call last):\n",
            "  File \"/usr/local/lib/python3.7/dist-packages/werkzeug/serving.py\", line 323, in run_wsgi\n",
            "    execute(self.server.app)\n",
            "  File \"/usr/local/lib/python3.7/dist-packages/werkzeug/serving.py\", line 314, in execute\n",
            "    for data in application_iter:\n",
            "  File \"/usr/local/lib/python3.7/dist-packages/werkzeug/wsgi.py\", line 579, in __next__\n",
            "    data = self.file.read(self.buffer_size)\n",
            "PermissionError: [Errno 1] Operation not permitted\n",
            "INFO:werkzeug:127.0.0.1 - - [13/Jun/2021 08:53:16] \"\u001b[35m\u001b[1mGET /static/fonts/fontawesome-webfont.woff?v=4.5.0 HTTP/1.1\u001b[0m\" 500 -\n",
            "ERROR:werkzeug:Error on request:\n",
            "Traceback (most recent call last):\n",
            "  File \"/usr/local/lib/python3.7/dist-packages/werkzeug/serving.py\", line 323, in run_wsgi\n",
            "    execute(self.server.app)\n",
            "  File \"/usr/local/lib/python3.7/dist-packages/werkzeug/serving.py\", line 314, in execute\n",
            "    for data in application_iter:\n",
            "  File \"/usr/local/lib/python3.7/dist-packages/werkzeug/wsgi.py\", line 579, in __next__\n",
            "    data = self.file.read(self.buffer_size)\n",
            "PermissionError: [Errno 1] Operation not permitted\n",
            "INFO:werkzeug:127.0.0.1 - - [13/Jun/2021 08:53:17] \"\u001b[35m\u001b[1mGET /static/fonts/fontawesome-webfont.ttf?v=4.5.0 HTTP/1.1\u001b[0m\" 500 -\n",
            "ERROR:werkzeug:Error on request:\n",
            "Traceback (most recent call last):\n",
            "  File \"/usr/local/lib/python3.7/dist-packages/werkzeug/serving.py\", line 323, in run_wsgi\n",
            "    execute(self.server.app)\n",
            "  File \"/usr/local/lib/python3.7/dist-packages/werkzeug/serving.py\", line 314, in execute\n",
            "    for data in application_iter:\n",
            "  File \"/usr/local/lib/python3.7/dist-packages/werkzeug/wsgi.py\", line 579, in __next__\n",
            "    data = self.file.read(self.buffer_size)\n",
            "PermissionError: [Errno 1] Operation not permitted\n",
            "INFO:werkzeug:127.0.0.1 - - [13/Jun/2021 08:53:18] \"\u001b[37mGET /pricing HTTP/1.1\u001b[0m\" 200 -\n",
            "INFO:werkzeug:127.0.0.1 - - [13/Jun/2021 08:53:19] \"\u001b[37mGET /static/css/img/services/layer.png HTTP/1.1\u001b[0m\" 200 -\n",
            "INFO:werkzeug:127.0.0.1 - - [13/Jun/2021 08:53:20] \"\u001b[35m\u001b[1mGET /static/fonts/fontawesome-webfont.woff2?v=4.5.0 HTTP/1.1\u001b[0m\" 500 -\n",
            "ERROR:werkzeug:Error on request:\n",
            "Traceback (most recent call last):\n",
            "  File \"/usr/local/lib/python3.7/dist-packages/werkzeug/serving.py\", line 323, in run_wsgi\n",
            "    execute(self.server.app)\n",
            "  File \"/usr/local/lib/python3.7/dist-packages/werkzeug/serving.py\", line 314, in execute\n",
            "    for data in application_iter:\n",
            "  File \"/usr/local/lib/python3.7/dist-packages/werkzeug/wsgi.py\", line 579, in __next__\n",
            "    data = self.file.read(self.buffer_size)\n",
            "PermissionError: [Errno 1] Operation not permitted\n",
            "INFO:werkzeug:127.0.0.1 - - [13/Jun/2021 08:53:20] \"\u001b[35m\u001b[1mGET /static/fonts/fontawesome-webfont.woff?v=4.5.0 HTTP/1.1\u001b[0m\" 500 -\n",
            "ERROR:werkzeug:Error on request:\n",
            "Traceback (most recent call last):\n",
            "  File \"/usr/local/lib/python3.7/dist-packages/werkzeug/serving.py\", line 323, in run_wsgi\n",
            "    execute(self.server.app)\n",
            "  File \"/usr/local/lib/python3.7/dist-packages/werkzeug/serving.py\", line 314, in execute\n",
            "    for data in application_iter:\n",
            "  File \"/usr/local/lib/python3.7/dist-packages/werkzeug/wsgi.py\", line 579, in __next__\n",
            "    data = self.file.read(self.buffer_size)\n",
            "PermissionError: [Errno 1] Operation not permitted\n",
            "INFO:werkzeug:127.0.0.1 - - [13/Jun/2021 08:53:21] \"\u001b[35m\u001b[1mGET /static/fonts/fontawesome-webfont.ttf?v=4.5.0 HTTP/1.1\u001b[0m\" 500 -\n",
            "ERROR:werkzeug:Error on request:\n",
            "Traceback (most recent call last):\n",
            "  File \"/usr/local/lib/python3.7/dist-packages/werkzeug/serving.py\", line 323, in run_wsgi\n",
            "    execute(self.server.app)\n",
            "  File \"/usr/local/lib/python3.7/dist-packages/werkzeug/serving.py\", line 314, in execute\n",
            "    for data in application_iter:\n",
            "  File \"/usr/local/lib/python3.7/dist-packages/werkzeug/wsgi.py\", line 579, in __next__\n",
            "    data = self.file.read(self.buffer_size)\n",
            "PermissionError: [Errno 1] Operation not permitted\n",
            "INFO:werkzeug:127.0.0.1 - - [13/Jun/2021 08:53:37] \"\u001b[37mGET /chatbot-text HTTP/1.1\u001b[0m\" 200 -\n",
            "INFO:werkzeug:127.0.0.1 - - [13/Jun/2021 08:53:38] \"\u001b[37mGET /static/css/chat.css HTTP/1.1\u001b[0m\" 200 -\n",
            "INFO:werkzeug:127.0.0.1 - - [13/Jun/2021 08:53:38] \"\u001b[37mGET /static/css/home.css HTTP/1.1\u001b[0m\" 200 -\n",
            "INFO:werkzeug:127.0.0.1 - - [13/Jun/2021 08:53:38] \"\u001b[37mGET /static/js/responses.js HTTP/1.1\u001b[0m\" 200 -\n",
            "INFO:werkzeug:127.0.0.1 - - [13/Jun/2021 08:53:38] \"\u001b[37mGET /static/js/chat.js HTTP/1.1\u001b[0m\" 200 -\n",
            "INFO:werkzeug:127.0.0.1 - - [13/Jun/2021 08:53:46] \"\u001b[37mGET /chatbot/answer?question=what%20is%20covid%3F HTTP/1.1\u001b[0m\" 200 -\n"
          ],
          "name": "stderr"
        },
        {
          "output_type": "stream",
          "text": [
            "testing 3 message = what is covid?\n",
            "You: what is covid?\n",
            "Societal Response Category is still not available yet.\n",
            "testingCategory is still not available yet\n",
            " \n",
            "testing 3 message = what is covid\n"
          ],
          "name": "stdout"
        },
        {
          "output_type": "stream",
          "text": [
            "INFO:werkzeug:127.0.0.1 - - [13/Jun/2021 08:54:01] \"\u001b[37mGET /chatbot/answer?question=what%20is%20covid HTTP/1.1\u001b[0m\" 200 -\n"
          ],
          "name": "stderr"
        },
        {
          "output_type": "stream",
          "text": [
            "You: what is covid\n",
            "Answer : a new disease\n",
            "testinga new disease\n",
            " \n",
            "testing 3 message = where did covid start?\n"
          ],
          "name": "stdout"
        },
        {
          "output_type": "stream",
          "text": [
            "INFO:werkzeug:127.0.0.1 - - [13/Jun/2021 08:54:12] \"\u001b[37mGET /chatbot/answer?question=where%20did%20covid%20start%3F HTTP/1.1\u001b[0m\" 200 -\n"
          ],
          "name": "stderr"
        },
        {
          "output_type": "stream",
          "text": [
            "You: where did covid start?\n",
            "Answer : wuhan , china\n",
            "testingwuhan , china\n",
            " \n",
            "testing 3 message = where did covid start? :D\n"
          ],
          "name": "stdout"
        },
        {
          "output_type": "stream",
          "text": [
            "INFO:werkzeug:127.0.0.1 - - [13/Jun/2021 08:54:21] \"\u001b[37mGET /chatbot/answer?question=where%20did%20covid%20start%3F%20%3AD HTTP/1.1\u001b[0m\" 200 -\n"
          ],
          "name": "stderr"
        },
        {
          "output_type": "stream",
          "text": [
            "You: where did covid start? :D\n",
            "Answer : wuhan , china\n",
            "testingwuhan , china\n",
            "😁\n",
            "testing 3 message = i feel sick\n"
          ],
          "name": "stdout"
        },
        {
          "output_type": "stream",
          "text": [
            "INFO:werkzeug:127.0.0.1 - - [13/Jun/2021 08:54:32] \"\u001b[37mGET /chatbot/answer?question=i%20feel%20sick HTTP/1.1\u001b[0m\" 200 -\n"
          ],
          "name": "stderr"
        },
        {
          "output_type": "stream",
          "text": [
            "You: i feel sick\n",
            "Sorry i dont know\n",
            "testingSorry i dont understand that yet\n",
            ".But It Appear you are not feeling good wanna talk with a real human?\n"
          ],
          "name": "stdout"
        },
        {
          "output_type": "stream",
          "text": [
            "INFO:werkzeug:127.0.0.1 - - [13/Jun/2021 08:54:42] \"\u001b[37mGET /pricing HTTP/1.1\u001b[0m\" 200 -\n",
            "INFO:werkzeug:127.0.0.1 - - [13/Jun/2021 08:54:43] \"\u001b[35m\u001b[1mGET /static/fonts/fontawesome-webfont.woff2?v=4.5.0 HTTP/1.1\u001b[0m\" 500 -\n",
            "ERROR:werkzeug:Error on request:\n",
            "Traceback (most recent call last):\n",
            "  File \"/usr/local/lib/python3.7/dist-packages/werkzeug/serving.py\", line 323, in run_wsgi\n",
            "    execute(self.server.app)\n",
            "  File \"/usr/local/lib/python3.7/dist-packages/werkzeug/serving.py\", line 314, in execute\n",
            "    for data in application_iter:\n",
            "  File \"/usr/local/lib/python3.7/dist-packages/werkzeug/wsgi.py\", line 579, in __next__\n",
            "    data = self.file.read(self.buffer_size)\n",
            "PermissionError: [Errno 1] Operation not permitted\n",
            "INFO:werkzeug:127.0.0.1 - - [13/Jun/2021 08:54:44] \"\u001b[35m\u001b[1mGET /static/fonts/fontawesome-webfont.woff?v=4.5.0 HTTP/1.1\u001b[0m\" 500 -\n",
            "ERROR:werkzeug:Error on request:\n",
            "Traceback (most recent call last):\n",
            "  File \"/usr/local/lib/python3.7/dist-packages/werkzeug/serving.py\", line 323, in run_wsgi\n",
            "    execute(self.server.app)\n",
            "  File \"/usr/local/lib/python3.7/dist-packages/werkzeug/serving.py\", line 314, in execute\n",
            "    for data in application_iter:\n",
            "  File \"/usr/local/lib/python3.7/dist-packages/werkzeug/wsgi.py\", line 579, in __next__\n",
            "    data = self.file.read(self.buffer_size)\n",
            "PermissionError: [Errno 1] Operation not permitted\n",
            "INFO:werkzeug:127.0.0.1 - - [13/Jun/2021 08:54:45] \"\u001b[35m\u001b[1mGET /static/fonts/fontawesome-webfont.ttf?v=4.5.0 HTTP/1.1\u001b[0m\" 500 -\n",
            "ERROR:werkzeug:Error on request:\n",
            "Traceback (most recent call last):\n",
            "  File \"/usr/local/lib/python3.7/dist-packages/werkzeug/serving.py\", line 323, in run_wsgi\n",
            "    execute(self.server.app)\n",
            "  File \"/usr/local/lib/python3.7/dist-packages/werkzeug/serving.py\", line 314, in execute\n",
            "    for data in application_iter:\n",
            "  File \"/usr/local/lib/python3.7/dist-packages/werkzeug/wsgi.py\", line 579, in __next__\n",
            "    data = self.file.read(self.buffer_size)\n",
            "PermissionError: [Errno 1] Operation not permitted\n",
            "INFO:werkzeug:127.0.0.1 - - [13/Jun/2021 08:54:47] \"\u001b[37mGET /chatbotmic HTTP/1.1\u001b[0m\" 200 -\n",
            "/usr/local/lib/python3.7/dist-packages/sklearn/base.py:318: UserWarning: Trying to unpickle estimator LabelBinarizer from version 0.24.0 when using version 0.22.2.post1. This might lead to breaking code or invalid results. Use at your own risk.\n",
            "  UserWarning)\n",
            "/usr/local/lib/python3.7/dist-packages/sklearn/base.py:318: UserWarning: Trying to unpickle estimator MLPClassifier from version 0.24.0 when using version 0.22.2.post1. This might lead to breaking code or invalid results. Use at your own risk.\n",
            "  UserWarning)\n",
            "INFO:werkzeug:127.0.0.1 - - [13/Jun/2021 08:55:00] \"\u001b[37mGET /answer/voice HTTP/1.1\u001b[0m\" 200 -\n"
          ],
          "name": "stderr"
        },
        {
          "output_type": "stream",
          "text": [
            "sentiment: happy\n"
          ],
          "name": "stdout"
        }
      ]
    },
    {
      "cell_type": "code",
      "metadata": {
        "id": "BoPHJT_qt4xS",
        "colab": {
          "base_uri": "https://localhost:8080/"
        },
        "outputId": "2cafd075-0a33-496e-b823-f473eecef4f0"
      },
      "source": [
        "!ngrok authtoken 1tqnKSRNTcXG8w4GrKSnjYvPVlv_3G54329xNgebzaRBUpGeq"
      ],
      "execution_count": null,
      "outputs": [
        {
          "output_type": "stream",
          "text": [
            "Authtoken saved to configuration file: /root/.ngrok2/ngrok.yml\n"
          ],
          "name": "stdout"
        }
      ]
    },
    {
      "cell_type": "code",
      "metadata": {
        "id": "B9w8KTBJNMbr",
        "colab": {
          "base_uri": "https://localhost:8080/",
          "height": 172
        },
        "outputId": "9c2283a1-c3af-4431-8a92-49dc5feb83c7"
      },
      "source": [
        "answer"
      ],
      "execution_count": null,
      "outputs": [
        {
          "output_type": "error",
          "ename": "NameError",
          "evalue": "ignored",
          "traceback": [
            "\u001b[0;31m---------------------------------------------------------------------------\u001b[0m",
            "\u001b[0;31mNameError\u001b[0m                                 Traceback (most recent call last)",
            "\u001b[0;32m<ipython-input-83-b33788c35f07>\u001b[0m in \u001b[0;36m<module>\u001b[0;34m()\u001b[0m\n\u001b[0;32m----> 1\u001b[0;31m \u001b[0manswer\u001b[0m\u001b[0;34m\u001b[0m\u001b[0;34m\u001b[0m\u001b[0m\n\u001b[0m",
            "\u001b[0;31mNameError\u001b[0m: name 'answer' is not defined"
          ]
        }
      ]
    },
    {
      "cell_type": "markdown",
      "metadata": {
        "id": "5WdGJvqvzN32"
      },
      "source": [
        "\n",
        "\n",
        "# End of Code"
      ]
    },
    {
      "cell_type": "code",
      "metadata": {
        "id": "uDKzIEbgP5pv"
      },
      "source": [
        "# import concurrent.futures\n",
        "\n",
        "# def foo():\n",
        "#   return 2\n",
        "\n",
        "# with concurrent.futures.ThreadPoolExecutor() as executor:\n",
        "#     future = executor.submit(foo)\n",
        "#     return_value = future.result()\n",
        "#     print(return_value)"
      ],
      "execution_count": null,
      "outputs": []
    }
  ]
}