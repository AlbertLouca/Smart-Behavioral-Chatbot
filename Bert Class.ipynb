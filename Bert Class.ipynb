{
  "nbformat": 4,
  "nbformat_minor": 0,
  "metadata": {
    "colab": {
      "name": "Bert Class.ipynb",
      "provenance": [],
      "collapsed_sections": []
    },
    "kernelspec": {
      "name": "python3",
      "display_name": "Python 3"
    },
    "accelerator": "GPU"
  },
  "cells": [
    {
      "cell_type": "code",
      "metadata": {
        "colab": {
          "base_uri": "https://localhost:8080/"
        },
        "id": "SARkwx_yr_lc",
        "outputId": "59a1d122-8279-4d66-f2f6-278086185cf2"
      },
      "source": [
        "!pip install tensorflow_hub\n"
      ],
      "execution_count": null,
      "outputs": [
        {
          "output_type": "stream",
          "text": [
            "Requirement already satisfied: tensorflow_hub in /usr/local/lib/python3.7/dist-packages (0.11.0)\n",
            "Requirement already satisfied: protobuf>=3.8.0 in /usr/local/lib/python3.7/dist-packages (from tensorflow_hub) (3.12.4)\n",
            "Requirement already satisfied: numpy>=1.12.0 in /usr/local/lib/python3.7/dist-packages (from tensorflow_hub) (1.19.5)\n",
            "Requirement already satisfied: setuptools in /usr/local/lib/python3.7/dist-packages (from protobuf>=3.8.0->tensorflow_hub) (54.1.2)\n",
            "Requirement already satisfied: six>=1.9 in /usr/local/lib/python3.7/dist-packages (from protobuf>=3.8.0->tensorflow_hub) (1.15.0)\n"
          ],
          "name": "stdout"
        }
      ]
    },
    {
      "cell_type": "code",
      "metadata": {
        "colab": {
          "base_uri": "https://localhost:8080/"
        },
        "id": "0N_GCIfX8LlK",
        "outputId": "dafc5fcb-80fc-40fb-f1d9-cf50f0c640a7"
      },
      "source": [
        "pip install nltk"
      ],
      "execution_count": null,
      "outputs": [
        {
          "output_type": "stream",
          "text": [
            "Requirement already satisfied: nltk in /usr/local/lib/python3.7/dist-packages (3.2.5)\n",
            "Requirement already satisfied: six in /usr/local/lib/python3.7/dist-packages (from nltk) (1.15.0)\n"
          ],
          "name": "stdout"
        }
      ]
    },
    {
      "cell_type": "code",
      "metadata": {
        "colab": {
          "base_uri": "https://localhost:8080/"
        },
        "id": "_7-7Pvh0sIWg",
        "outputId": "24ea204e-8742-4763-d94b-af64bd280536"
      },
      "source": [
        "!pip install keras tf-models-official pydot graphviz"
      ],
      "execution_count": null,
      "outputs": [
        {
          "output_type": "stream",
          "text": [
            "Requirement already satisfied: keras in /usr/local/lib/python3.7/dist-packages (2.4.3)\n",
            "Requirement already satisfied: tf-models-official in /usr/local/lib/python3.7/dist-packages (2.4.0)\n",
            "Requirement already satisfied: pydot in /usr/local/lib/python3.7/dist-packages (1.3.0)\n",
            "Requirement already satisfied: graphviz in /usr/local/lib/python3.7/dist-packages (0.10.1)\n",
            "Requirement already satisfied: h5py in /usr/local/lib/python3.7/dist-packages (from keras) (2.10.0)\n",
            "Requirement already satisfied: scipy>=0.14 in /usr/local/lib/python3.7/dist-packages (from keras) (1.4.1)\n",
            "Requirement already satisfied: numpy>=1.9.1 in /usr/local/lib/python3.7/dist-packages (from keras) (1.19.5)\n",
            "Requirement already satisfied: pyyaml in /usr/local/lib/python3.7/dist-packages (from keras) (3.13)\n",
            "Requirement already satisfied: tf-slim>=1.1.0 in /usr/local/lib/python3.7/dist-packages (from tf-models-official) (1.1.0)\n",
            "Requirement already satisfied: google-api-python-client>=1.6.7 in /usr/local/lib/python3.7/dist-packages (from tf-models-official) (1.12.8)\n",
            "Requirement already satisfied: opencv-python-headless in /usr/local/lib/python3.7/dist-packages (from tf-models-official) (4.5.1.48)\n",
            "Requirement already satisfied: tensorflow>=2.4.0 in /usr/local/lib/python3.7/dist-packages (from tf-models-official) (2.4.1)\n",
            "Requirement already satisfied: oauth2client in /usr/local/lib/python3.7/dist-packages (from tf-models-official) (4.1.3)\n",
            "Requirement already satisfied: seqeval in /usr/local/lib/python3.7/dist-packages (from tf-models-official) (1.2.2)\n",
            "Requirement already satisfied: sentencepiece in /usr/local/lib/python3.7/dist-packages (from tf-models-official) (0.1.95)\n",
            "Requirement already satisfied: six in /usr/local/lib/python3.7/dist-packages (from tf-models-official) (1.15.0)\n",
            "Requirement already satisfied: pandas>=0.22.0 in /usr/local/lib/python3.7/dist-packages (from tf-models-official) (1.1.5)\n",
            "Requirement already satisfied: dataclasses in /usr/local/lib/python3.7/dist-packages (from tf-models-official) (0.6)\n",
            "Requirement already satisfied: psutil>=5.4.3 in /usr/local/lib/python3.7/dist-packages (from tf-models-official) (5.4.8)\n",
            "Requirement already satisfied: kaggle>=1.3.9 in /usr/local/lib/python3.7/dist-packages (from tf-models-official) (1.5.10)\n",
            "Requirement already satisfied: tensorflow-addons in /usr/local/lib/python3.7/dist-packages (from tf-models-official) (0.12.1)\n",
            "Requirement already satisfied: Pillow in /usr/local/lib/python3.7/dist-packages (from tf-models-official) (7.0.0)\n",
            "Requirement already satisfied: matplotlib in /usr/local/lib/python3.7/dist-packages (from tf-models-official) (3.2.2)\n",
            "Requirement already satisfied: google-cloud-bigquery>=0.31.0 in /usr/local/lib/python3.7/dist-packages (from tf-models-official) (1.21.0)\n",
            "Requirement already satisfied: Cython in /usr/local/lib/python3.7/dist-packages (from tf-models-official) (0.29.22)\n",
            "Requirement already satisfied: py-cpuinfo>=3.3.0 in /usr/local/lib/python3.7/dist-packages (from tf-models-official) (7.0.0)\n",
            "Requirement already satisfied: tensorflow-hub>=0.6.0 in /usr/local/lib/python3.7/dist-packages (from tf-models-official) (0.11.0)\n",
            "Requirement already satisfied: tensorflow-model-optimization>=0.4.1 in /usr/local/lib/python3.7/dist-packages (from tf-models-official) (0.5.0)\n",
            "Requirement already satisfied: tensorflow-datasets in /usr/local/lib/python3.7/dist-packages (from tf-models-official) (4.0.1)\n",
            "Requirement already satisfied: pycocotools in /usr/local/lib/python3.7/dist-packages (from tf-models-official) (2.0.2)\n",
            "Requirement already satisfied: gin-config in /usr/local/lib/python3.7/dist-packages (from tf-models-official) (0.4.0)\n",
            "Requirement already satisfied: pyparsing>=2.1.4 in /usr/local/lib/python3.7/dist-packages (from pydot) (2.4.7)\n",
            "Requirement already satisfied: absl-py>=0.2.2 in /usr/local/lib/python3.7/dist-packages (from tf-slim>=1.1.0->tf-models-official) (0.10.0)\n",
            "Requirement already satisfied: uritemplate<4dev,>=3.0.0 in /usr/local/lib/python3.7/dist-packages (from google-api-python-client>=1.6.7->tf-models-official) (3.0.1)\n",
            "Requirement already satisfied: google-api-core<2dev,>=1.21.0 in /usr/local/lib/python3.7/dist-packages (from google-api-python-client>=1.6.7->tf-models-official) (1.26.1)\n",
            "Requirement already satisfied: google-auth-httplib2>=0.0.3 in /usr/local/lib/python3.7/dist-packages (from google-api-python-client>=1.6.7->tf-models-official) (0.0.4)\n",
            "Requirement already satisfied: httplib2<1dev,>=0.15.0 in /usr/local/lib/python3.7/dist-packages (from google-api-python-client>=1.6.7->tf-models-official) (0.17.4)\n",
            "Requirement already satisfied: google-auth>=1.16.0 in /usr/local/lib/python3.7/dist-packages (from google-api-python-client>=1.6.7->tf-models-official) (1.27.1)\n",
            "Requirement already satisfied: gast==0.3.3 in /usr/local/lib/python3.7/dist-packages (from tensorflow>=2.4.0->tf-models-official) (0.3.3)\n",
            "Requirement already satisfied: protobuf>=3.9.2 in /usr/local/lib/python3.7/dist-packages (from tensorflow>=2.4.0->tf-models-official) (3.12.4)\n",
            "Requirement already satisfied: flatbuffers~=1.12.0 in /usr/local/lib/python3.7/dist-packages (from tensorflow>=2.4.0->tf-models-official) (1.12)\n",
            "Requirement already satisfied: google-pasta~=0.2 in /usr/local/lib/python3.7/dist-packages (from tensorflow>=2.4.0->tf-models-official) (0.2.0)\n",
            "Requirement already satisfied: tensorboard~=2.4 in /usr/local/lib/python3.7/dist-packages (from tensorflow>=2.4.0->tf-models-official) (2.4.1)\n",
            "Requirement already satisfied: tensorflow-estimator<2.5.0,>=2.4.0 in /usr/local/lib/python3.7/dist-packages (from tensorflow>=2.4.0->tf-models-official) (2.4.0)\n",
            "Requirement already satisfied: termcolor~=1.1.0 in /usr/local/lib/python3.7/dist-packages (from tensorflow>=2.4.0->tf-models-official) (1.1.0)\n",
            "Requirement already satisfied: typing-extensions~=3.7.4 in /usr/local/lib/python3.7/dist-packages (from tensorflow>=2.4.0->tf-models-official) (3.7.4.3)\n",
            "Requirement already satisfied: wrapt~=1.12.1 in /usr/local/lib/python3.7/dist-packages (from tensorflow>=2.4.0->tf-models-official) (1.12.1)\n",
            "Requirement already satisfied: opt-einsum~=3.3.0 in /usr/local/lib/python3.7/dist-packages (from tensorflow>=2.4.0->tf-models-official) (3.3.0)\n",
            "Requirement already satisfied: grpcio~=1.32.0 in /usr/local/lib/python3.7/dist-packages (from tensorflow>=2.4.0->tf-models-official) (1.32.0)\n",
            "Requirement already satisfied: keras-preprocessing~=1.1.2 in /usr/local/lib/python3.7/dist-packages (from tensorflow>=2.4.0->tf-models-official) (1.1.2)\n",
            "Requirement already satisfied: wheel~=0.35 in /usr/local/lib/python3.7/dist-packages (from tensorflow>=2.4.0->tf-models-official) (0.36.2)\n",
            "Requirement already satisfied: astunparse~=1.6.3 in /usr/local/lib/python3.7/dist-packages (from tensorflow>=2.4.0->tf-models-official) (1.6.3)\n",
            "Requirement already satisfied: pyasn1-modules>=0.0.5 in /usr/local/lib/python3.7/dist-packages (from oauth2client->tf-models-official) (0.2.8)\n",
            "Requirement already satisfied: pyasn1>=0.1.7 in /usr/local/lib/python3.7/dist-packages (from oauth2client->tf-models-official) (0.4.8)\n",
            "Requirement already satisfied: rsa>=3.1.4 in /usr/local/lib/python3.7/dist-packages (from oauth2client->tf-models-official) (4.7.2)\n",
            "Requirement already satisfied: scikit-learn>=0.21.3 in /usr/local/lib/python3.7/dist-packages (from seqeval->tf-models-official) (0.22.2.post1)\n",
            "Requirement already satisfied: python-dateutil>=2.7.3 in /usr/local/lib/python3.7/dist-packages (from pandas>=0.22.0->tf-models-official) (2.8.1)\n",
            "Requirement already satisfied: pytz>=2017.2 in /usr/local/lib/python3.7/dist-packages (from pandas>=0.22.0->tf-models-official) (2018.9)\n",
            "Requirement already satisfied: certifi in /usr/local/lib/python3.7/dist-packages (from kaggle>=1.3.9->tf-models-official) (2020.12.5)\n",
            "Requirement already satisfied: urllib3 in /usr/local/lib/python3.7/dist-packages (from kaggle>=1.3.9->tf-models-official) (1.24.3)\n",
            "Requirement already satisfied: tqdm in /usr/local/lib/python3.7/dist-packages (from kaggle>=1.3.9->tf-models-official) (4.41.1)\n",
            "Requirement already satisfied: requests in /usr/local/lib/python3.7/dist-packages (from kaggle>=1.3.9->tf-models-official) (2.23.0)\n",
            "Requirement already satisfied: python-slugify in /usr/local/lib/python3.7/dist-packages (from kaggle>=1.3.9->tf-models-official) (4.0.1)\n",
            "Requirement already satisfied: typeguard>=2.7 in /usr/local/lib/python3.7/dist-packages (from tensorflow-addons->tf-models-official) (2.7.1)\n",
            "Requirement already satisfied: cycler>=0.10 in /usr/local/lib/python3.7/dist-packages (from matplotlib->tf-models-official) (0.10.0)\n",
            "Requirement already satisfied: kiwisolver>=1.0.1 in /usr/local/lib/python3.7/dist-packages (from matplotlib->tf-models-official) (1.3.1)\n",
            "Requirement already satisfied: google-cloud-core<2.0dev,>=1.0.3 in /usr/local/lib/python3.7/dist-packages (from google-cloud-bigquery>=0.31.0->tf-models-official) (1.0.3)\n",
            "Requirement already satisfied: google-resumable-media!=0.4.0,<0.5.0dev,>=0.3.1 in /usr/local/lib/python3.7/dist-packages (from google-cloud-bigquery>=0.31.0->tf-models-official) (0.4.1)\n",
            "Requirement already satisfied: dm-tree~=0.1.1 in /usr/local/lib/python3.7/dist-packages (from tensorflow-model-optimization>=0.4.1->tf-models-official) (0.1.5)\n",
            "Requirement already satisfied: tensorflow-metadata in /usr/local/lib/python3.7/dist-packages (from tensorflow-datasets->tf-models-official) (0.28.0)\n",
            "Requirement already satisfied: dill in /usr/local/lib/python3.7/dist-packages (from tensorflow-datasets->tf-models-official) (0.3.3)\n",
            "Requirement already satisfied: promise in /usr/local/lib/python3.7/dist-packages (from tensorflow-datasets->tf-models-official) (2.3)\n",
            "Requirement already satisfied: attrs>=18.1.0 in /usr/local/lib/python3.7/dist-packages (from tensorflow-datasets->tf-models-official) (20.3.0)\n",
            "Requirement already satisfied: importlib-resources; python_version < \"3.9\" in /usr/local/lib/python3.7/dist-packages (from tensorflow-datasets->tf-models-official) (5.1.2)\n",
            "Requirement already satisfied: future in /usr/local/lib/python3.7/dist-packages (from tensorflow-datasets->tf-models-official) (0.16.0)\n",
            "Requirement already satisfied: setuptools>=18.0 in /usr/local/lib/python3.7/dist-packages (from pycocotools->tf-models-official) (54.1.2)\n",
            "Requirement already satisfied: packaging>=14.3 in /usr/local/lib/python3.7/dist-packages (from google-api-core<2dev,>=1.21.0->google-api-python-client>=1.6.7->tf-models-official) (20.9)\n",
            "Requirement already satisfied: googleapis-common-protos<2.0dev,>=1.6.0 in /usr/local/lib/python3.7/dist-packages (from google-api-core<2dev,>=1.21.0->google-api-python-client>=1.6.7->tf-models-official) (1.53.0)\n",
            "Requirement already satisfied: cachetools<5.0,>=2.0.0 in /usr/local/lib/python3.7/dist-packages (from google-auth>=1.16.0->google-api-python-client>=1.6.7->tf-models-official) (4.2.1)\n",
            "Requirement already satisfied: markdown>=2.6.8 in /usr/local/lib/python3.7/dist-packages (from tensorboard~=2.4->tensorflow>=2.4.0->tf-models-official) (3.3.4)\n",
            "Requirement already satisfied: tensorboard-plugin-wit>=1.6.0 in /usr/local/lib/python3.7/dist-packages (from tensorboard~=2.4->tensorflow>=2.4.0->tf-models-official) (1.8.0)\n",
            "Requirement already satisfied: google-auth-oauthlib<0.5,>=0.4.1 in /usr/local/lib/python3.7/dist-packages (from tensorboard~=2.4->tensorflow>=2.4.0->tf-models-official) (0.4.3)\n",
            "Requirement already satisfied: werkzeug>=0.11.15 in /usr/local/lib/python3.7/dist-packages (from tensorboard~=2.4->tensorflow>=2.4.0->tf-models-official) (1.0.1)\n",
            "Requirement already satisfied: joblib>=0.11 in /usr/local/lib/python3.7/dist-packages (from scikit-learn>=0.21.3->seqeval->tf-models-official) (1.0.1)\n",
            "Requirement already satisfied: idna<3,>=2.5 in /usr/local/lib/python3.7/dist-packages (from requests->kaggle>=1.3.9->tf-models-official) (2.10)\n",
            "Requirement already satisfied: chardet<4,>=3.0.2 in /usr/local/lib/python3.7/dist-packages (from requests->kaggle>=1.3.9->tf-models-official) (3.0.4)\n",
            "Requirement already satisfied: text-unidecode>=1.3 in /usr/local/lib/python3.7/dist-packages (from python-slugify->kaggle>=1.3.9->tf-models-official) (1.3)\n",
            "Requirement already satisfied: zipp>=0.4; python_version < \"3.8\" in /usr/local/lib/python3.7/dist-packages (from importlib-resources; python_version < \"3.9\"->tensorflow-datasets->tf-models-official) (3.4.1)\n",
            "Requirement already satisfied: importlib-metadata; python_version < \"3.8\" in /usr/local/lib/python3.7/dist-packages (from markdown>=2.6.8->tensorboard~=2.4->tensorflow>=2.4.0->tf-models-official) (3.7.2)\n",
            "Requirement already satisfied: requests-oauthlib>=0.7.0 in /usr/local/lib/python3.7/dist-packages (from google-auth-oauthlib<0.5,>=0.4.1->tensorboard~=2.4->tensorflow>=2.4.0->tf-models-official) (1.3.0)\n",
            "Requirement already satisfied: oauthlib>=3.0.0 in /usr/local/lib/python3.7/dist-packages (from requests-oauthlib>=0.7.0->google-auth-oauthlib<0.5,>=0.4.1->tensorboard~=2.4->tensorflow>=2.4.0->tf-models-official) (3.1.0)\n"
          ],
          "name": "stdout"
        }
      ]
    },
    {
      "cell_type": "code",
      "metadata": {
        "id": "EM1eTxd2sRSH"
      },
      "source": [
        "import os\n",
        "\n",
        "import numpy as np\n",
        "import pandas as pd\n",
        "\n",
        "import tensorflow as tf\n",
        "import tensorflow_hub as hub\n",
        "\n",
        "from keras.utils import np_utils\n",
        "\n",
        "import official.nlp.bert.bert_models\n",
        "import official.nlp.bert.configs\n",
        "import official.nlp.bert.run_classifier\n",
        "import official.nlp.bert.tokenization as tokenization\n",
        "\n",
        "from official.modeling import tf_utils\n",
        "from official import nlp\n",
        "from official.nlp import bert\n",
        "\n",
        "from sklearn.model_selection import train_test_split\n",
        "from sklearn.preprocessing import LabelEncoder\n",
        "\n",
        "import matplotlib.pyplot as plt\n"
      ],
      "execution_count": null,
      "outputs": []
    },
    {
      "cell_type": "code",
      "metadata": {
        "id": "InPiUV7fjIoJ",
        "colab": {
          "base_uri": "https://localhost:8080/",
          "height": 407
        },
        "outputId": "1c14c71c-dec8-4192-fa0b-4de290b55cf4"
      },
      "source": [
        "df=pd.read_csv(\"train20_augmented3.csv\",                \n",
        "                   \n",
        "                      names=[\n",
        "                             \n",
        "                             'Question',\n",
        "                        'Category'\n",
        "                    \n",
        "                        ])\n",
        "\n",
        "df"
      ],
      "execution_count": null,
      "outputs": [
        {
          "output_type": "execute_result",
          "data": {
            "text/html": [
              "<div>\n",
              "<style scoped>\n",
              "    .dataframe tbody tr th:only-of-type {\n",
              "        vertical-align: middle;\n",
              "    }\n",
              "\n",
              "    .dataframe tbody tr th {\n",
              "        vertical-align: top;\n",
              "    }\n",
              "\n",
              "    .dataframe thead th {\n",
              "        text-align: right;\n",
              "    }\n",
              "</style>\n",
              "<table border=\"1\" class=\"dataframe\">\n",
              "  <thead>\n",
              "    <tr style=\"text-align: right;\">\n",
              "      <th></th>\n",
              "      <th>Question</th>\n",
              "      <th>Category</th>\n",
              "    </tr>\n",
              "  </thead>\n",
              "  <tbody>\n",
              "    <tr>\n",
              "      <th>0</th>\n",
              "      <td>will covid stay and last perpetually</td>\n",
              "      <td>Speculation</td>\n",
              "    </tr>\n",
              "    <tr>\n",
              "      <th>1</th>\n",
              "      <td>will covid stay and last forever</td>\n",
              "      <td>Speculation</td>\n",
              "    </tr>\n",
              "    <tr>\n",
              "      <th>2</th>\n",
              "      <td>will covid stay forever last and</td>\n",
              "      <td>Speculation</td>\n",
              "    </tr>\n",
              "    <tr>\n",
              "      <th>3</th>\n",
              "      <td>will covid stay and forever</td>\n",
              "      <td>Speculation</td>\n",
              "    </tr>\n",
              "    <tr>\n",
              "      <th>4</th>\n",
              "      <td>will covid stay and last everlastingly</td>\n",
              "      <td>Speculation</td>\n",
              "    </tr>\n",
              "    <tr>\n",
              "      <th>...</th>\n",
              "      <td>...</td>\n",
              "      <td>...</td>\n",
              "    </tr>\n",
              "    <tr>\n",
              "      <th>4110</th>\n",
              "      <td>what should you do you suspect you have covid</td>\n",
              "      <td>Individual Response</td>\n",
              "    </tr>\n",
              "    <tr>\n",
              "      <th>4111</th>\n",
              "      <td>what should you do if suspect you you have covid</td>\n",
              "      <td>Individual Response</td>\n",
              "    </tr>\n",
              "    <tr>\n",
              "      <th>4112</th>\n",
              "      <td>what should you do if you defendant you have c...</td>\n",
              "      <td>Individual Response</td>\n",
              "    </tr>\n",
              "    <tr>\n",
              "      <th>4113</th>\n",
              "      <td>what should you if you suspect you have covid</td>\n",
              "      <td>Individual Response</td>\n",
              "    </tr>\n",
              "    <tr>\n",
              "      <th>4114</th>\n",
              "      <td>what should you do if birth you suspect you ha...</td>\n",
              "      <td>Individual Response</td>\n",
              "    </tr>\n",
              "  </tbody>\n",
              "</table>\n",
              "<p>4115 rows × 2 columns</p>\n",
              "</div>"
            ],
            "text/plain": [
              "                                               Question             Category\n",
              "0                  will covid stay and last perpetually          Speculation\n",
              "1                      will covid stay and last forever          Speculation\n",
              "2                      will covid stay forever last and          Speculation\n",
              "3                           will covid stay and forever          Speculation\n",
              "4                will covid stay and last everlastingly          Speculation\n",
              "...                                                 ...                  ...\n",
              "4110      what should you do you suspect you have covid  Individual Response\n",
              "4111   what should you do if suspect you you have covid  Individual Response\n",
              "4112  what should you do if you defendant you have c...  Individual Response\n",
              "4113      what should you if you suspect you have covid  Individual Response\n",
              "4114  what should you do if birth you suspect you ha...  Individual Response\n",
              "\n",
              "[4115 rows x 2 columns]"
            ]
          },
          "metadata": {
            "tags": []
          },
          "execution_count": 153
        }
      ]
    },
    {
      "cell_type": "code",
      "metadata": {
        "colab": {
          "base_uri": "https://localhost:8080/"
        },
        "id": "HmvSUjqNs9PA",
        "outputId": "88570a7f-dc51-47e1-ba4b-3dc4d47b1d79"
      },
      "source": [
        "df.Category.unique()\n",
        "\n"
      ],
      "execution_count": null,
      "outputs": [
        {
          "output_type": "execute_result",
          "data": {
            "text/plain": [
              "array(['Speculation', 'Testing', 'Transmission', 'Nomenclature',\n",
              "       'Reporting', 'Societal Response', 'Societal Effects', 'Origin',\n",
              "       'Prevention', 'Treatment', 'Comparison', 'Economic Effects',\n",
              "       'Symptoms', 'Having COVID', 'Individual Response'], dtype=object)"
            ]
          },
          "metadata": {
            "tags": []
          },
          "execution_count": 154
        }
      ]
    },
    {
      "cell_type": "code",
      "metadata": {
        "colab": {
          "base_uri": "https://localhost:8080/",
          "height": 265
        },
        "id": "0p5xaGIj8wo3",
        "outputId": "99e1aeb6-13fd-45fb-f421-7c37cca255de"
      },
      "source": [
        "classes = df.Category.unique()\n",
        "counts = []\n",
        "\n",
        "for i in classes:\n",
        "  count = len(df[df.Category==i])\n",
        "  counts.append(count)\n",
        "\n",
        "plt.bar(['Speculation', 'Transmission', 'Nomenclature', 'Reporting',\n",
        "       'Societal Response', 'Societal Effects', 'Origin', 'Prevention',\n",
        "       'Treatment', 'Testing', 'Comparison', 'Economic Effects',\n",
        "       'Symptoms', 'Having COVID', 'Individual Response'], counts)\n",
        "plt.show()"
      ],
      "execution_count": null,
      "outputs": [
        {
          "output_type": "display_data",
          "data": {
            "image/png": "[encoded data removed]",
            "text/plain": [
              "<Figure size 432x288 with 1 Axes>"
            ]
          },
          "metadata": {
            "tags": []
          }
        }
      ]
    },
    {
      "cell_type": "code",
      "metadata": {
        "id": "fEtqMCvZ9Vlp"
      },
      "source": [
        "indexNames = df[ df.Category == 'Individual Response' ].index"
      ],
      "execution_count": null,
      "outputs": []
    },
    {
      "cell_type": "code",
      "metadata": {
        "colab": {
          "base_uri": "https://localhost:8080/"
        },
        "id": "tFsm-QCm9m08",
        "outputId": "9d2a8800-87e2-4fc8-ccb2-98c5c332841e"
      },
      "source": [
        "indexNames"
      ],
      "execution_count": null,
      "outputs": [
        {
          "output_type": "execute_result",
          "data": {
            "text/plain": [
              "Int64Index([3823, 3824, 3825, 3826, 3827, 3828, 3829, 3830, 3831, 3832,\n",
              "            ...\n",
              "            4105, 4106, 4107, 4108, 4109, 4110, 4111, 4112, 4113, 4114],\n",
              "           dtype='int64', length=292)"
            ]
          },
          "metadata": {
            "tags": []
          },
          "execution_count": 157
        }
      ]
    },
    {
      "cell_type": "code",
      "metadata": {
        "id": "7KiXb3m_9scv"
      },
      "source": [
        "df.drop(indexNames , inplace=True)"
      ],
      "execution_count": null,
      "outputs": []
    },
    {
      "cell_type": "code",
      "metadata": {
        "colab": {
          "base_uri": "https://localhost:8080/"
        },
        "id": "e5BEiPAS9wXP",
        "outputId": "d791a710-1881-48e0-e75e-7f5564fe181f"
      },
      "source": [
        "df.Category.unique()"
      ],
      "execution_count": null,
      "outputs": [
        {
          "output_type": "execute_result",
          "data": {
            "text/plain": [
              "array(['Speculation', 'Testing', 'Transmission', 'Nomenclature',\n",
              "       'Reporting', 'Societal Response', 'Societal Effects', 'Origin',\n",
              "       'Prevention', 'Treatment', 'Comparison', 'Economic Effects',\n",
              "       'Symptoms', 'Having COVID'], dtype=object)"
            ]
          },
          "metadata": {
            "tags": []
          },
          "execution_count": 159
        }
      ]
    },
    {
      "cell_type": "code",
      "metadata": {
        "id": "5Uuk50S_97n9"
      },
      "source": [
        "indexNames = df[ df.Category == 'Reporting' ].index"
      ],
      "execution_count": null,
      "outputs": []
    },
    {
      "cell_type": "code",
      "metadata": {
        "id": "v8OVX06n-CVn"
      },
      "source": [
        "df.drop(indexNames , inplace=True)"
      ],
      "execution_count": null,
      "outputs": []
    },
    {
      "cell_type": "code",
      "metadata": {
        "colab": {
          "base_uri": "https://localhost:8080/"
        },
        "id": "Q8kIQQJb-IGR",
        "outputId": "9a650462-3d5a-4f6f-b002-8341776a5f9f"
      },
      "source": [
        "df.Category.unique()"
      ],
      "execution_count": null,
      "outputs": [
        {
          "output_type": "execute_result",
          "data": {
            "text/plain": [
              "array(['Speculation', 'Testing', 'Transmission', 'Nomenclature',\n",
              "       'Societal Response', 'Societal Effects', 'Origin', 'Prevention',\n",
              "       'Treatment', 'Comparison', 'Economic Effects', 'Symptoms',\n",
              "       'Having COVID'], dtype=object)"
            ]
          },
          "metadata": {
            "tags": []
          },
          "execution_count": 162
        }
      ]
    },
    {
      "cell_type": "code",
      "metadata": {
        "id": "8PuQgH-4-PET"
      },
      "source": [
        "indexNames = df[ df.Category == 'Having COVID' ].index"
      ],
      "execution_count": null,
      "outputs": []
    },
    {
      "cell_type": "code",
      "metadata": {
        "id": "4Ytm2Kre-Vq_"
      },
      "source": [
        "df.drop(indexNames , inplace=True)"
      ],
      "execution_count": null,
      "outputs": []
    },
    {
      "cell_type": "code",
      "metadata": {
        "colab": {
          "base_uri": "https://localhost:8080/"
        },
        "id": "jOt_8ahO-gsS",
        "outputId": "469943b1-0948-4536-d66e-3cd8fbfd6933"
      },
      "source": [
        "df.Category.unique()"
      ],
      "execution_count": null,
      "outputs": [
        {
          "output_type": "execute_result",
          "data": {
            "text/plain": [
              "array(['Speculation', 'Testing', 'Transmission', 'Nomenclature',\n",
              "       'Societal Response', 'Societal Effects', 'Origin', 'Prevention',\n",
              "       'Treatment', 'Comparison', 'Economic Effects', 'Symptoms'],\n",
              "      dtype=object)"
            ]
          },
          "metadata": {
            "tags": []
          },
          "execution_count": 165
        }
      ]
    },
    {
      "cell_type": "code",
      "metadata": {
        "id": "kbJv1uBT-ov7"
      },
      "source": [
        "indexNames = df[ df.Category == 'Societal Response' ].index"
      ],
      "execution_count": null,
      "outputs": []
    },
    {
      "cell_type": "code",
      "metadata": {
        "id": "7nxVsyWt-wtU"
      },
      "source": [
        "df.drop(indexNames , inplace=True)"
      ],
      "execution_count": null,
      "outputs": []
    },
    {
      "cell_type": "code",
      "metadata": {
        "id": "8nY0h0onuG7n"
      },
      "source": [
        "indexNames = df[ df.Category == 'Individual Response' ].index"
      ],
      "execution_count": null,
      "outputs": []
    },
    {
      "cell_type": "code",
      "metadata": {
        "id": "CDZNOUHtuGwr"
      },
      "source": [
        "df.drop(indexNames , inplace=True)"
      ],
      "execution_count": null,
      "outputs": []
    },
    {
      "cell_type": "code",
      "metadata": {
        "colab": {
          "base_uri": "https://localhost:8080/"
        },
        "id": "tkuZH9bq-yM7",
        "outputId": "105ba913-a2e4-4391-81ea-97c079949aa4"
      },
      "source": [
        "df.Category.unique()"
      ],
      "execution_count": null,
      "outputs": [
        {
          "output_type": "execute_result",
          "data": {
            "text/plain": [
              "array(['Speculation', 'Testing', 'Transmission', 'Nomenclature',\n",
              "       'Societal Effects', 'Origin', 'Prevention', 'Treatment',\n",
              "       'Comparison', 'Economic Effects', 'Symptoms'], dtype=object)"
            ]
          },
          "metadata": {
            "tags": []
          },
          "execution_count": 170
        }
      ]
    },
    {
      "cell_type": "code",
      "metadata": {
        "colab": {
          "base_uri": "https://localhost:8080/",
          "height": 265
        },
        "id": "wO3BjXzf-8GM",
        "outputId": "937d66a7-6b76-456e-d01b-f704ca8abfe4"
      },
      "source": [
        "classes = df.Category.unique()\n",
        "counts = []\n",
        "\n",
        "for i in classes:\n",
        "  count = len(df[df.Category==i])\n",
        "  counts.append(count)\n",
        "\n",
        "plt.bar(['Speculation', 'Transmission', 'Nomenclature', 'Societal Effects',\n",
        "       'Origin', 'Prevention', 'Treatment', 'Testing', 'Comparison',\n",
        "       'Economic Effects', 'Symptoms'], counts)\n",
        "plt.show()"
      ],
      "execution_count": null,
      "outputs": [
        {
          "output_type": "display_data",
          "data": {
            "image/png": "[encoded data removed]",
            "text/plain": [
              "<Figure size 432x288 with 1 Axes>"
            ]
          },
          "metadata": {
            "tags": []
          }
        }
      ]
    },
    {
      "cell_type": "code",
      "metadata": {
        "id": "_Q1rS7A97zce"
      },
      "source": [
        "df=df.dropna()\n",
        "df=df.reset_index()\n"
      ],
      "execution_count": null,
      "outputs": []
    },
    {
      "cell_type": "code",
      "metadata": {
        "colab": {
          "base_uri": "https://localhost:8080/"
        },
        "id": "umyzffO588E8",
        "outputId": "459baa8b-7ad0-4a43-c2a4-307338ffe88e"
      },
      "source": [
        "df.Question"
      ],
      "execution_count": null,
      "outputs": [
        {
          "output_type": "execute_result",
          "data": {
            "text/plain": [
              "0               will covid stay and last perpetually\n",
              "1                   will covid stay and last forever\n",
              "2                   will covid stay forever last and\n",
              "3                        will covid stay and forever\n",
              "4             will covid stay and last everlastingly\n",
              "                            ...                     \n",
              "2972    who covid world health organization symptoms\n",
              "2973                              who covid symptoms\n",
              "2974                              who symptoms covid\n",
              "2975                                    who symptoms\n",
              "2976                      who covid symptom symptoms\n",
              "Name: Question, Length: 2977, dtype: object"
            ]
          },
          "metadata": {
            "tags": []
          },
          "execution_count": 173
        }
      ]
    },
    {
      "cell_type": "code",
      "metadata": {
        "id": "23Z9MkNa9E-L"
      },
      "source": [
        "\n",
        "#df.Question=df.Question.apply(lambda x: [item for item in x if item not in stop])\n"
      ],
      "execution_count": null,
      "outputs": []
    },
    {
      "cell_type": "code",
      "metadata": {
        "colab": {
          "base_uri": "https://localhost:8080/",
          "height": 35
        },
        "id": "r-l8615Y9IMC",
        "outputId": "ddfcfba5-f086-459d-feb4-f3d0a82d658d"
      },
      "source": [
        "df.Question[0]"
      ],
      "execution_count": null,
      "outputs": [
        {
          "output_type": "execute_result",
          "data": {
            "application/vnd.google.colaboratory.intrinsic+json": {
              "type": "string"
            },
            "text/plain": [
              "'will covid stay and last perpetually'"
            ]
          },
          "metadata": {
            "tags": []
          },
          "execution_count": 175
        }
      ]
    },
    {
      "cell_type": "code",
      "metadata": {
        "colab": {
          "base_uri": "https://localhost:8080/",
          "height": 407
        },
        "id": "gvoxdPmGvpGK",
        "outputId": "1ad5a58f-d910-4373-d1d2-89602762652e"
      },
      "source": [
        "df1=pd.read_csv(\"testA.csv\",                \n",
        "                   \n",
        "                      names=[\n",
        "                             \n",
        "                             'Question',\n",
        "                        'Category'\n",
        "                    \n",
        "                        ])\n",
        "\n",
        "df1"
      ],
      "execution_count": null,
      "outputs": [
        {
          "output_type": "execute_result",
          "data": {
            "text/html": [
              "<div>\n",
              "<style scoped>\n",
              "    .dataframe tbody tr th:only-of-type {\n",
              "        vertical-align: middle;\n",
              "    }\n",
              "\n",
              "    .dataframe tbody tr th {\n",
              "        vertical-align: top;\n",
              "    }\n",
              "\n",
              "    .dataframe thead th {\n",
              "        text-align: right;\n",
              "    }\n",
              "</style>\n",
              "<table border=\"1\" class=\"dataframe\">\n",
              "  <thead>\n",
              "    <tr style=\"text-align: right;\">\n",
              "      <th></th>\n",
              "      <th>Question</th>\n",
              "      <th>Category</th>\n",
              "    </tr>\n",
              "  </thead>\n",
              "  <tbody>\n",
              "    <tr>\n",
              "      <th>0</th>\n",
              "      <td>how long will we be on lockdown for covid</td>\n",
              "      <td>Speculation</td>\n",
              "    </tr>\n",
              "    <tr>\n",
              "      <th>1</th>\n",
              "      <td>when do you think the world will stabilize aft...</td>\n",
              "      <td>Speculation</td>\n",
              "    </tr>\n",
              "    <tr>\n",
              "      <th>2</th>\n",
              "      <td>when covid will end</td>\n",
              "      <td>Speculation</td>\n",
              "    </tr>\n",
              "    <tr>\n",
              "      <th>3</th>\n",
              "      <td>when covid will stop</td>\n",
              "      <td>Speculation</td>\n",
              "    </tr>\n",
              "    <tr>\n",
              "      <th>4</th>\n",
              "      <td>if president trump opens the economy will we s...</td>\n",
              "      <td>Speculation</td>\n",
              "    </tr>\n",
              "    <tr>\n",
              "      <th>...</th>\n",
              "      <td>...</td>\n",
              "      <td>...</td>\n",
              "    </tr>\n",
              "    <tr>\n",
              "      <th>663</th>\n",
              "      <td>what are some useful tips for working at home ...</td>\n",
              "      <td>Individual Response</td>\n",
              "    </tr>\n",
              "    <tr>\n",
              "      <th>664</th>\n",
              "      <td>what is the first thing you would do after the...</td>\n",
              "      <td>Individual Response</td>\n",
              "    </tr>\n",
              "    <tr>\n",
              "      <th>665</th>\n",
              "      <td>if you were quarantined due to the covid virus...</td>\n",
              "      <td>Individual Response</td>\n",
              "    </tr>\n",
              "    <tr>\n",
              "      <th>666</th>\n",
              "      <td>how can i ease my anxiety during pandemics</td>\n",
              "      <td>Individual Response</td>\n",
              "    </tr>\n",
              "    <tr>\n",
              "      <th>667</th>\n",
              "      <td>what are suggestions for things to do in the c...</td>\n",
              "      <td>Individual Response</td>\n",
              "    </tr>\n",
              "  </tbody>\n",
              "</table>\n",
              "<p>668 rows × 2 columns</p>\n",
              "</div>"
            ],
            "text/plain": [
              "                                              Question             Category\n",
              "0            how long will we be on lockdown for covid          Speculation\n",
              "1    when do you think the world will stabilize aft...          Speculation\n",
              "2                                  when covid will end          Speculation\n",
              "3                                 when covid will stop          Speculation\n",
              "4    if president trump opens the economy will we s...          Speculation\n",
              "..                                                 ...                  ...\n",
              "663  what are some useful tips for working at home ...  Individual Response\n",
              "664  what is the first thing you would do after the...  Individual Response\n",
              "665  if you were quarantined due to the covid virus...  Individual Response\n",
              "666         how can i ease my anxiety during pandemics  Individual Response\n",
              "667  what are suggestions for things to do in the c...  Individual Response\n",
              "\n",
              "[668 rows x 2 columns]"
            ]
          },
          "metadata": {
            "tags": []
          },
          "execution_count": 176
        }
      ]
    },
    {
      "cell_type": "code",
      "metadata": {
        "colab": {
          "base_uri": "https://localhost:8080/",
          "height": 407
        },
        "id": "pbqtcAnuwWBQ",
        "outputId": "ec9242a4-3312-40b5-d414-b8338bcccaa2"
      },
      "source": [
        "indexNames = df1[ df1.Category == 'Individual Response' ].index\n",
        "df1.drop(indexNames , inplace=True)\n",
        "\n",
        "indexNames = df1[ df1.Category == 'Reporting' ].index\n",
        "df1.drop(indexNames , inplace=True)\n",
        "\n",
        "indexNames = df1[ df1.Category == 'Having COVID' ].index\n",
        "df1.drop(indexNames , inplace=True)\n",
        "indexNames = df1[ df1.Category == 'Societal Response' ].index\n",
        "df1.drop(indexNames , inplace=True)\n",
        "indexNames = df1[ df1.Category == 'Individual Response' ].index\n",
        "df1.drop(indexNames , inplace=True)\n",
        "df1"
      ],
      "execution_count": null,
      "outputs": [
        {
          "output_type": "execute_result",
          "data": {
            "text/html": [
              "<div>\n",
              "<style scoped>\n",
              "    .dataframe tbody tr th:only-of-type {\n",
              "        vertical-align: middle;\n",
              "    }\n",
              "\n",
              "    .dataframe tbody tr th {\n",
              "        vertical-align: top;\n",
              "    }\n",
              "\n",
              "    .dataframe thead th {\n",
              "        text-align: right;\n",
              "    }\n",
              "</style>\n",
              "<table border=\"1\" class=\"dataframe\">\n",
              "  <thead>\n",
              "    <tr style=\"text-align: right;\">\n",
              "      <th></th>\n",
              "      <th>Question</th>\n",
              "      <th>Category</th>\n",
              "    </tr>\n",
              "  </thead>\n",
              "  <tbody>\n",
              "    <tr>\n",
              "      <th>0</th>\n",
              "      <td>how long will we be on lockdown for covid</td>\n",
              "      <td>Speculation</td>\n",
              "    </tr>\n",
              "    <tr>\n",
              "      <th>1</th>\n",
              "      <td>when do you think the world will stabilize aft...</td>\n",
              "      <td>Speculation</td>\n",
              "    </tr>\n",
              "    <tr>\n",
              "      <th>2</th>\n",
              "      <td>when covid will end</td>\n",
              "      <td>Speculation</td>\n",
              "    </tr>\n",
              "    <tr>\n",
              "      <th>3</th>\n",
              "      <td>when covid will stop</td>\n",
              "      <td>Speculation</td>\n",
              "    </tr>\n",
              "    <tr>\n",
              "      <th>4</th>\n",
              "      <td>if president trump opens the economy will we s...</td>\n",
              "      <td>Speculation</td>\n",
              "    </tr>\n",
              "    <tr>\n",
              "      <th>...</th>\n",
              "      <td>...</td>\n",
              "      <td>...</td>\n",
              "    </tr>\n",
              "    <tr>\n",
              "      <th>620</th>\n",
              "      <td>can covid cause a stroke</td>\n",
              "      <td>Symptoms</td>\n",
              "    </tr>\n",
              "    <tr>\n",
              "      <th>621</th>\n",
              "      <td>what symptoms might people experience with covid</td>\n",
              "      <td>Symptoms</td>\n",
              "    </tr>\n",
              "    <tr>\n",
              "      <th>622</th>\n",
              "      <td>does the covid provoke a fever</td>\n",
              "      <td>Symptoms</td>\n",
              "    </tr>\n",
              "    <tr>\n",
              "      <th>623</th>\n",
              "      <td>when does fever start with covid</td>\n",
              "      <td>Symptoms</td>\n",
              "    </tr>\n",
              "    <tr>\n",
              "      <th>624</th>\n",
              "      <td>what are the symptoms of covid</td>\n",
              "      <td>Symptoms</td>\n",
              "    </tr>\n",
              "  </tbody>\n",
              "</table>\n",
              "<p>518 rows × 2 columns</p>\n",
              "</div>"
            ],
            "text/plain": [
              "                                              Question     Category\n",
              "0            how long will we be on lockdown for covid  Speculation\n",
              "1    when do you think the world will stabilize aft...  Speculation\n",
              "2                                  when covid will end  Speculation\n",
              "3                                 when covid will stop  Speculation\n",
              "4    if president trump opens the economy will we s...  Speculation\n",
              "..                                                 ...          ...\n",
              "620                           can covid cause a stroke     Symptoms\n",
              "621   what symptoms might people experience with covid     Symptoms\n",
              "622                     does the covid provoke a fever     Symptoms\n",
              "623                   when does fever start with covid     Symptoms\n",
              "624                     what are the symptoms of covid     Symptoms\n",
              "\n",
              "[518 rows x 2 columns]"
            ]
          },
          "metadata": {
            "tags": []
          },
          "execution_count": 177
        }
      ]
    },
    {
      "cell_type": "code",
      "metadata": {
        "id": "J7uVQqFrv460"
      },
      "source": [
        "df2=pd.read_csv(\"testB.csv\",                \n",
        "                   \n",
        "                      names=[\n",
        "                             \n",
        "                             'Question',\n",
        "                        'Category'\n",
        "                    \n",
        "                        ])\n",
        "\n"
      ],
      "execution_count": null,
      "outputs": []
    },
    {
      "cell_type": "code",
      "metadata": {
        "colab": {
          "base_uri": "https://localhost:8080/",
          "height": 407
        },
        "id": "JbR7qhn-wtUu",
        "outputId": "b8318a89-8730-4f62-f246-e2638cef94fc"
      },
      "source": [
        "indexNames = df2[ df2.Category == 'Individual Response' ].index\n",
        "df2.drop(indexNames , inplace=True)\n",
        "\n",
        "indexNames = df2[ df2.Category == 'Reporting' ].index\n",
        "df2.drop(indexNames , inplace=True)\n",
        "\n",
        "indexNames = df2[ df2.Category == 'Having COVID' ].index\n",
        "df2.drop(indexNames , inplace=True)\n",
        "indexNames = df2[ df2.Category == 'Societal Response' ].index\n",
        "df2.drop(indexNames , inplace=True)\n",
        "indexNames = df2[ df2.Category == 'Individual Response' ].index\n",
        "df2.drop(indexNames , inplace=True)\n",
        "df2\n",
        "\n"
      ],
      "execution_count": null,
      "outputs": [
        {
          "output_type": "execute_result",
          "data": {
            "text/html": [
              "<div>\n",
              "<style scoped>\n",
              "    .dataframe tbody tr th:only-of-type {\n",
              "        vertical-align: middle;\n",
              "    }\n",
              "\n",
              "    .dataframe tbody tr th {\n",
              "        vertical-align: top;\n",
              "    }\n",
              "\n",
              "    .dataframe thead th {\n",
              "        text-align: right;\n",
              "    }\n",
              "</style>\n",
              "<table border=\"1\" class=\"dataframe\">\n",
              "  <thead>\n",
              "    <tr style=\"text-align: right;\">\n",
              "      <th></th>\n",
              "      <th>Question</th>\n",
              "      <th>Category</th>\n",
              "    </tr>\n",
              "  </thead>\n",
              "  <tbody>\n",
              "    <tr>\n",
              "      <th>0</th>\n",
              "      <td>is it possible for covid to come again</td>\n",
              "      <td>Speculation</td>\n",
              "    </tr>\n",
              "    <tr>\n",
              "      <th>1</th>\n",
              "      <td>can covid return after lockdown is lifted</td>\n",
              "      <td>Speculation</td>\n",
              "    </tr>\n",
              "    <tr>\n",
              "      <th>2</th>\n",
              "      <td>what are the chances that covid will hit again</td>\n",
              "      <td>Speculation</td>\n",
              "    </tr>\n",
              "    <tr>\n",
              "      <th>3</th>\n",
              "      <td>in what ways can covid infect medical staff</td>\n",
              "      <td>Transmission</td>\n",
              "    </tr>\n",
              "    <tr>\n",
              "      <th>4</th>\n",
              "      <td>is it possible to be infected by an asymptomat...</td>\n",
              "      <td>Transmission</td>\n",
              "    </tr>\n",
              "    <tr>\n",
              "      <th>...</th>\n",
              "      <td>...</td>\n",
              "      <td>...</td>\n",
              "    </tr>\n",
              "    <tr>\n",
              "      <th>211</th>\n",
              "      <td>are there other illnesses that result from covid</td>\n",
              "      <td>Symptoms</td>\n",
              "    </tr>\n",
              "    <tr>\n",
              "      <th>212</th>\n",
              "      <td>what other disease will covid result in</td>\n",
              "      <td>Symptoms</td>\n",
              "    </tr>\n",
              "    <tr>\n",
              "      <th>213</th>\n",
              "      <td>how do covid symptom start</td>\n",
              "      <td>Symptoms</td>\n",
              "    </tr>\n",
              "    <tr>\n",
              "      <th>214</th>\n",
              "      <td>which disease does covid cause</td>\n",
              "      <td>Symptoms</td>\n",
              "    </tr>\n",
              "    <tr>\n",
              "      <th>215</th>\n",
              "      <td>do covid patients get strokes</td>\n",
              "      <td>Symptoms</td>\n",
              "    </tr>\n",
              "  </tbody>\n",
              "</table>\n",
              "<p>189 rows × 2 columns</p>\n",
              "</div>"
            ],
            "text/plain": [
              "                                              Question      Category\n",
              "0               is it possible for covid to come again   Speculation\n",
              "1            can covid return after lockdown is lifted   Speculation\n",
              "2       what are the chances that covid will hit again   Speculation\n",
              "3          in what ways can covid infect medical staff  Transmission\n",
              "4    is it possible to be infected by an asymptomat...  Transmission\n",
              "..                                                 ...           ...\n",
              "211   are there other illnesses that result from covid      Symptoms\n",
              "212            what other disease will covid result in      Symptoms\n",
              "213                         how do covid symptom start      Symptoms\n",
              "214                     which disease does covid cause      Symptoms\n",
              "215                      do covid patients get strokes      Symptoms\n",
              "\n",
              "[189 rows x 2 columns]"
            ]
          },
          "metadata": {
            "tags": []
          },
          "execution_count": 179
        }
      ]
    },
    {
      "cell_type": "code",
      "metadata": {
        "colab": {
          "base_uri": "https://localhost:8080/",
          "height": 407
        },
        "id": "m37ZKKumxsGx",
        "outputId": "08bebf53-c810-4b1c-e660-131c0f6b1b92"
      },
      "source": [
        "df3=df2.append(df1)\n",
        "df3"
      ],
      "execution_count": null,
      "outputs": [
        {
          "output_type": "execute_result",
          "data": {
            "text/html": [
              "<div>\n",
              "<style scoped>\n",
              "    .dataframe tbody tr th:only-of-type {\n",
              "        vertical-align: middle;\n",
              "    }\n",
              "\n",
              "    .dataframe tbody tr th {\n",
              "        vertical-align: top;\n",
              "    }\n",
              "\n",
              "    .dataframe thead th {\n",
              "        text-align: right;\n",
              "    }\n",
              "</style>\n",
              "<table border=\"1\" class=\"dataframe\">\n",
              "  <thead>\n",
              "    <tr style=\"text-align: right;\">\n",
              "      <th></th>\n",
              "      <th>Question</th>\n",
              "      <th>Category</th>\n",
              "    </tr>\n",
              "  </thead>\n",
              "  <tbody>\n",
              "    <tr>\n",
              "      <th>0</th>\n",
              "      <td>is it possible for covid to come again</td>\n",
              "      <td>Speculation</td>\n",
              "    </tr>\n",
              "    <tr>\n",
              "      <th>1</th>\n",
              "      <td>can covid return after lockdown is lifted</td>\n",
              "      <td>Speculation</td>\n",
              "    </tr>\n",
              "    <tr>\n",
              "      <th>2</th>\n",
              "      <td>what are the chances that covid will hit again</td>\n",
              "      <td>Speculation</td>\n",
              "    </tr>\n",
              "    <tr>\n",
              "      <th>3</th>\n",
              "      <td>in what ways can covid infect medical staff</td>\n",
              "      <td>Transmission</td>\n",
              "    </tr>\n",
              "    <tr>\n",
              "      <th>4</th>\n",
              "      <td>is it possible to be infected by an asymptomat...</td>\n",
              "      <td>Transmission</td>\n",
              "    </tr>\n",
              "    <tr>\n",
              "      <th>...</th>\n",
              "      <td>...</td>\n",
              "      <td>...</td>\n",
              "    </tr>\n",
              "    <tr>\n",
              "      <th>620</th>\n",
              "      <td>can covid cause a stroke</td>\n",
              "      <td>Symptoms</td>\n",
              "    </tr>\n",
              "    <tr>\n",
              "      <th>621</th>\n",
              "      <td>what symptoms might people experience with covid</td>\n",
              "      <td>Symptoms</td>\n",
              "    </tr>\n",
              "    <tr>\n",
              "      <th>622</th>\n",
              "      <td>does the covid provoke a fever</td>\n",
              "      <td>Symptoms</td>\n",
              "    </tr>\n",
              "    <tr>\n",
              "      <th>623</th>\n",
              "      <td>when does fever start with covid</td>\n",
              "      <td>Symptoms</td>\n",
              "    </tr>\n",
              "    <tr>\n",
              "      <th>624</th>\n",
              "      <td>what are the symptoms of covid</td>\n",
              "      <td>Symptoms</td>\n",
              "    </tr>\n",
              "  </tbody>\n",
              "</table>\n",
              "<p>707 rows × 2 columns</p>\n",
              "</div>"
            ],
            "text/plain": [
              "                                              Question      Category\n",
              "0               is it possible for covid to come again   Speculation\n",
              "1            can covid return after lockdown is lifted   Speculation\n",
              "2       what are the chances that covid will hit again   Speculation\n",
              "3          in what ways can covid infect medical staff  Transmission\n",
              "4    is it possible to be infected by an asymptomat...  Transmission\n",
              "..                                                 ...           ...\n",
              "620                           can covid cause a stroke      Symptoms\n",
              "621   what symptoms might people experience with covid      Symptoms\n",
              "622                     does the covid provoke a fever      Symptoms\n",
              "623                   when does fever start with covid      Symptoms\n",
              "624                     what are the symptoms of covid      Symptoms\n",
              "\n",
              "[707 rows x 2 columns]"
            ]
          },
          "metadata": {
            "tags": []
          },
          "execution_count": 180
        }
      ]
    },
    {
      "cell_type": "code",
      "metadata": {
        "colab": {
          "base_uri": "https://localhost:8080/",
          "height": 407
        },
        "id": "WLIYNBD98cFi",
        "outputId": "d127c721-d46c-4d62-9a53-bea4614c338c"
      },
      "source": [
        "df3=df3.dropna()\n",
        "df3=df3.reset_index()\n",
        "df3"
      ],
      "execution_count": null,
      "outputs": [
        {
          "output_type": "execute_result",
          "data": {
            "text/html": [
              "<div>\n",
              "<style scoped>\n",
              "    .dataframe tbody tr th:only-of-type {\n",
              "        vertical-align: middle;\n",
              "    }\n",
              "\n",
              "    .dataframe tbody tr th {\n",
              "        vertical-align: top;\n",
              "    }\n",
              "\n",
              "    .dataframe thead th {\n",
              "        text-align: right;\n",
              "    }\n",
              "</style>\n",
              "<table border=\"1\" class=\"dataframe\">\n",
              "  <thead>\n",
              "    <tr style=\"text-align: right;\">\n",
              "      <th></th>\n",
              "      <th>index</th>\n",
              "      <th>Question</th>\n",
              "      <th>Category</th>\n",
              "    </tr>\n",
              "  </thead>\n",
              "  <tbody>\n",
              "    <tr>\n",
              "      <th>0</th>\n",
              "      <td>0</td>\n",
              "      <td>is it possible for covid to come again</td>\n",
              "      <td>Speculation</td>\n",
              "    </tr>\n",
              "    <tr>\n",
              "      <th>1</th>\n",
              "      <td>1</td>\n",
              "      <td>can covid return after lockdown is lifted</td>\n",
              "      <td>Speculation</td>\n",
              "    </tr>\n",
              "    <tr>\n",
              "      <th>2</th>\n",
              "      <td>2</td>\n",
              "      <td>what are the chances that covid will hit again</td>\n",
              "      <td>Speculation</td>\n",
              "    </tr>\n",
              "    <tr>\n",
              "      <th>3</th>\n",
              "      <td>3</td>\n",
              "      <td>in what ways can covid infect medical staff</td>\n",
              "      <td>Transmission</td>\n",
              "    </tr>\n",
              "    <tr>\n",
              "      <th>4</th>\n",
              "      <td>4</td>\n",
              "      <td>is it possible to be infected by an asymptomat...</td>\n",
              "      <td>Transmission</td>\n",
              "    </tr>\n",
              "    <tr>\n",
              "      <th>...</th>\n",
              "      <td>...</td>\n",
              "      <td>...</td>\n",
              "      <td>...</td>\n",
              "    </tr>\n",
              "    <tr>\n",
              "      <th>701</th>\n",
              "      <td>620</td>\n",
              "      <td>can covid cause a stroke</td>\n",
              "      <td>Symptoms</td>\n",
              "    </tr>\n",
              "    <tr>\n",
              "      <th>702</th>\n",
              "      <td>621</td>\n",
              "      <td>what symptoms might people experience with covid</td>\n",
              "      <td>Symptoms</td>\n",
              "    </tr>\n",
              "    <tr>\n",
              "      <th>703</th>\n",
              "      <td>622</td>\n",
              "      <td>does the covid provoke a fever</td>\n",
              "      <td>Symptoms</td>\n",
              "    </tr>\n",
              "    <tr>\n",
              "      <th>704</th>\n",
              "      <td>623</td>\n",
              "      <td>when does fever start with covid</td>\n",
              "      <td>Symptoms</td>\n",
              "    </tr>\n",
              "    <tr>\n",
              "      <th>705</th>\n",
              "      <td>624</td>\n",
              "      <td>what are the symptoms of covid</td>\n",
              "      <td>Symptoms</td>\n",
              "    </tr>\n",
              "  </tbody>\n",
              "</table>\n",
              "<p>706 rows × 3 columns</p>\n",
              "</div>"
            ],
            "text/plain": [
              "     index                                           Question      Category\n",
              "0        0             is it possible for covid to come again   Speculation\n",
              "1        1          can covid return after lockdown is lifted   Speculation\n",
              "2        2     what are the chances that covid will hit again   Speculation\n",
              "3        3        in what ways can covid infect medical staff  Transmission\n",
              "4        4  is it possible to be infected by an asymptomat...  Transmission\n",
              "..     ...                                                ...           ...\n",
              "701    620                           can covid cause a stroke      Symptoms\n",
              "702    621   what symptoms might people experience with covid      Symptoms\n",
              "703    622                     does the covid provoke a fever      Symptoms\n",
              "704    623                   when does fever start with covid      Symptoms\n",
              "705    624                     what are the symptoms of covid      Symptoms\n",
              "\n",
              "[706 rows x 3 columns]"
            ]
          },
          "metadata": {
            "tags": []
          },
          "execution_count": 181
        }
      ]
    },
    {
      "cell_type": "code",
      "metadata": {
        "colab": {
          "base_uri": "https://localhost:8080/"
        },
        "id": "otxOD9zK8CbQ",
        "outputId": "9072d693-a0af-4768-e617-7775853ee993"
      },
      "source": [
        "from nltk.corpus import stopwords\n",
        "import nltk \n",
        "nltk.download('stopwords')\n",
        "stop = stopwords.words('english')"
      ],
      "execution_count": null,
      "outputs": [
        {
          "output_type": "stream",
          "text": [
            "[nltk_data] Downloading package stopwords to /root/nltk_data...\n",
            "[nltk_data]   Unzipping corpora/stopwords.zip.\n"
          ],
          "name": "stdout"
        }
      ]
    },
    {
      "cell_type": "code",
      "metadata": {
        "id": "zPsLRi5Nczmp"
      },
      "source": [
        "stop1=['will','was','when','how','long','what','can','do','are','has','why','have','for','whome','who','should','where','shouldnt','did','you','your','has','am','does']"
      ],
      "execution_count": null,
      "outputs": []
    },
    {
      "cell_type": "code",
      "metadata": {
        "colab": {
          "base_uri": "https://localhost:8080/"
        },
        "id": "66ZedtP9cCuA",
        "outputId": "2684d4e7-7b81-4dcb-dd5b-e18862babc6a"
      },
      "source": [
        "stop"
      ],
      "execution_count": null,
      "outputs": [
        {
          "output_type": "execute_result",
          "data": {
            "text/plain": [
              "['i',\n",
              " 'me',\n",
              " 'my',\n",
              " 'myself',\n",
              " 'we',\n",
              " 'our',\n",
              " 'ours',\n",
              " 'ourselves',\n",
              " 'you',\n",
              " \"you're\",\n",
              " \"you've\",\n",
              " \"you'll\",\n",
              " \"you'd\",\n",
              " 'your',\n",
              " 'yours',\n",
              " 'yourself',\n",
              " 'yourselves',\n",
              " 'he',\n",
              " 'him',\n",
              " 'his',\n",
              " 'himself',\n",
              " 'she',\n",
              " \"she's\",\n",
              " 'her',\n",
              " 'hers',\n",
              " 'herself',\n",
              " 'it',\n",
              " \"it's\",\n",
              " 'its',\n",
              " 'itself',\n",
              " 'they',\n",
              " 'them',\n",
              " 'their',\n",
              " 'theirs',\n",
              " 'themselves',\n",
              " 'what',\n",
              " 'which',\n",
              " 'who',\n",
              " 'whom',\n",
              " 'this',\n",
              " 'that',\n",
              " \"that'll\",\n",
              " 'these',\n",
              " 'those',\n",
              " 'am',\n",
              " 'is',\n",
              " 'are',\n",
              " 'was',\n",
              " 'were',\n",
              " 'be',\n",
              " 'been',\n",
              " 'being',\n",
              " 'have',\n",
              " 'has',\n",
              " 'had',\n",
              " 'having',\n",
              " 'do',\n",
              " 'does',\n",
              " 'did',\n",
              " 'doing',\n",
              " 'a',\n",
              " 'an',\n",
              " 'the',\n",
              " 'and',\n",
              " 'but',\n",
              " 'if',\n",
              " 'or',\n",
              " 'because',\n",
              " 'as',\n",
              " 'until',\n",
              " 'while',\n",
              " 'of',\n",
              " 'at',\n",
              " 'by',\n",
              " 'for',\n",
              " 'with',\n",
              " 'about',\n",
              " 'against',\n",
              " 'between',\n",
              " 'into',\n",
              " 'through',\n",
              " 'during',\n",
              " 'before',\n",
              " 'after',\n",
              " 'above',\n",
              " 'below',\n",
              " 'to',\n",
              " 'from',\n",
              " 'up',\n",
              " 'down',\n",
              " 'in',\n",
              " 'out',\n",
              " 'on',\n",
              " 'off',\n",
              " 'over',\n",
              " 'under',\n",
              " 'again',\n",
              " 'further',\n",
              " 'then',\n",
              " 'once',\n",
              " 'here',\n",
              " 'there',\n",
              " 'when',\n",
              " 'where',\n",
              " 'why',\n",
              " 'how',\n",
              " 'all',\n",
              " 'any',\n",
              " 'both',\n",
              " 'each',\n",
              " 'few',\n",
              " 'more',\n",
              " 'most',\n",
              " 'other',\n",
              " 'some',\n",
              " 'such',\n",
              " 'no',\n",
              " 'nor',\n",
              " 'not',\n",
              " 'only',\n",
              " 'own',\n",
              " 'same',\n",
              " 'so',\n",
              " 'than',\n",
              " 'too',\n",
              " 'very',\n",
              " 's',\n",
              " 't',\n",
              " 'can',\n",
              " 'will',\n",
              " 'just',\n",
              " 'don',\n",
              " \"don't\",\n",
              " 'should',\n",
              " \"should've\",\n",
              " 'now',\n",
              " 'd',\n",
              " 'll',\n",
              " 'm',\n",
              " 'o',\n",
              " 're',\n",
              " 've',\n",
              " 'y',\n",
              " 'ain',\n",
              " 'aren',\n",
              " \"aren't\",\n",
              " 'couldn',\n",
              " \"couldn't\",\n",
              " 'didn',\n",
              " \"didn't\",\n",
              " 'doesn',\n",
              " \"doesn't\",\n",
              " 'hadn',\n",
              " \"hadn't\",\n",
              " 'hasn',\n",
              " \"hasn't\",\n",
              " 'haven',\n",
              " \"haven't\",\n",
              " 'isn',\n",
              " \"isn't\",\n",
              " 'ma',\n",
              " 'mightn',\n",
              " \"mightn't\",\n",
              " 'mustn',\n",
              " \"mustn't\",\n",
              " 'needn',\n",
              " \"needn't\",\n",
              " 'shan',\n",
              " \"shan't\",\n",
              " 'shouldn',\n",
              " \"shouldn't\",\n",
              " 'wasn',\n",
              " \"wasn't\",\n",
              " 'weren',\n",
              " \"weren't\",\n",
              " 'won',\n",
              " \"won't\",\n",
              " 'wouldn',\n",
              " \"wouldn't\"]"
            ]
          },
          "metadata": {
            "tags": []
          },
          "execution_count": 151
        }
      ]
    },
    {
      "cell_type": "code",
      "metadata": {
        "colab": {
          "base_uri": "https://localhost:8080/"
        },
        "id": "X2flTxr_8VX7",
        "outputId": "ee3724c9-5e6a-438d-b91d-19ac76f53dec"
      },
      "source": [
        "df.Question\n"
      ],
      "execution_count": null,
      "outputs": [
        {
          "output_type": "execute_result",
          "data": {
            "text/plain": [
              "0               will covid stay and last perpetually\n",
              "1                   will covid stay and last forever\n",
              "2                   will covid stay forever last and\n",
              "3                        will covid stay and forever\n",
              "4             will covid stay and last everlastingly\n",
              "                            ...                     \n",
              "2972    who covid world health organization symptoms\n",
              "2973                              who covid symptoms\n",
              "2974                              who symptoms covid\n",
              "2975                                    who symptoms\n",
              "2976                      who covid symptom symptoms\n",
              "Name: Question, Length: 2977, dtype: object"
            ]
          },
          "metadata": {
            "tags": []
          },
          "execution_count": 35
        }
      ]
    },
    {
      "cell_type": "code",
      "metadata": {
        "id": "GqeebEdS8jyz"
      },
      "source": [
        ""
      ],
      "execution_count": null,
      "outputs": []
    },
    {
      "cell_type": "code",
      "metadata": {
        "colab": {
          "base_uri": "https://localhost:8080/"
        },
        "id": "ldrJ_teyWaRl",
        "outputId": "07df6257-0e71-4535-e760-e02697d2756d"
      },
      "source": [
        "df.Question"
      ],
      "execution_count": null,
      "outputs": [
        {
          "output_type": "execute_result",
          "data": {
            "text/plain": [
              "0               will covid stay and last perpetually\n",
              "1                   will covid stay and last forever\n",
              "2                   will covid stay forever last and\n",
              "3                        will covid stay and forever\n",
              "4             will covid stay and last everlastingly\n",
              "                            ...                     \n",
              "2972    who covid world health organization symptoms\n",
              "2973                              who covid symptoms\n",
              "2974                              who symptoms covid\n",
              "2975                                    who symptoms\n",
              "2976                      who covid symptom symptoms\n",
              "Name: Question, Length: 2977, dtype: object"
            ]
          },
          "metadata": {
            "tags": []
          },
          "execution_count": 36
        }
      ]
    },
    {
      "cell_type": "code",
      "metadata": {
        "id": "Nd-igHIWuYpl"
      },
      "source": [
        "y = df3.Category"
      ],
      "execution_count": null,
      "outputs": []
    },
    {
      "cell_type": "code",
      "metadata": {
        "id": "VMexzLv0ulEn",
        "colab": {
          "base_uri": "https://localhost:8080/"
        },
        "outputId": "effb82e0-7f24-40c2-aec4-ebd24a7339d9"
      },
      "source": [
        "y"
      ],
      "execution_count": null,
      "outputs": [
        {
          "output_type": "execute_result",
          "data": {
            "text/plain": [
              "0       Speculation\n",
              "1       Speculation\n",
              "2       Speculation\n",
              "3       Speculation\n",
              "4       Speculation\n",
              "           ...     \n",
              "2970       Symptoms\n",
              "2971       Symptoms\n",
              "2972       Symptoms\n",
              "2973       Symptoms\n",
              "2974       Symptoms\n",
              "Name: Category, Length: 2975, dtype: object"
            ]
          },
          "metadata": {
            "tags": []
          },
          "execution_count": 45
        }
      ]
    },
    {
      "cell_type": "code",
      "metadata": {
        "id": "GfhZozEAu48-",
        "colab": {
          "base_uri": "https://localhost:8080/"
        },
        "outputId": "eb19d94c-fea4-4210-a013-9b76c68444e4"
      },
      "source": [
        "x = df3.Question\n",
        "x"
      ],
      "execution_count": null,
      "outputs": [
        {
          "output_type": "execute_result",
          "data": {
            "text/plain": [
              "0                 is it possible for covid to come again\n",
              "1              can covid return after lockdown is lifted\n",
              "2         what are the chances that covid will hit again\n",
              "3            in what ways can covid infect medical staff\n",
              "4      is it possible to be infected by an asymptomat...\n",
              "                             ...                        \n",
              "701                             can covid cause a stroke\n",
              "702     what symptoms might people experience with covid\n",
              "703                       does the covid provoke a fever\n",
              "704                     when does fever start with covid\n",
              "705                       what are the symptoms of covid\n",
              "Name: Question, Length: 706, dtype: object"
            ]
          },
          "metadata": {
            "tags": []
          },
          "execution_count": 185
        }
      ]
    },
    {
      "cell_type": "code",
      "metadata": {
        "id": "UrKeNDOovD0u"
      },
      "source": [
        "#malhash lazma\n",
        "sample_size = int(len(df)*0.05)\n",
        "sampleDf = df.sample(sample_size, random_state=23)"
      ],
      "execution_count": null,
      "outputs": []
    },
    {
      "cell_type": "code",
      "metadata": {
        "id": "Hsbipib9x_QD"
      },
      "source": [
        "#  x_train=df.Question\n",
        "#  y_train=df.Category\n",
        "#  x_test=df3.Question\n",
        "#  y_test=df3.Category\n"
      ],
      "execution_count": null,
      "outputs": []
    },
    {
      "cell_type": "code",
      "metadata": {
        "id": "Ffb7lK66vKVG"
      },
      "source": [
        "x_train, x_test, y_train, y_test = train_test_split(x, y, test_size=0.20, random_state=32)\n",
        "\n"
      ],
      "execution_count": null,
      "outputs": []
    },
    {
      "cell_type": "code",
      "metadata": {
        "colab": {
          "base_uri": "https://localhost:8080/"
        },
        "id": "A8CV6Zvb7eea",
        "outputId": "41981a30-ebb6-4c2f-8a1c-326d7eba672c"
      },
      "source": [
        "x_test\n",
        "#x_test"
      ],
      "execution_count": null,
      "outputs": [
        {
          "output_type": "execute_result",
          "data": {
            "text/plain": [
              "485    when was the first case of covid confirmed in ...\n",
              "13                  is it dangerous to get donated blood\n",
              "693    is it safe to invest in buying property during...\n",
              "495                           was covid created in a lab\n",
              "230    can humans become infected with the covid from...\n",
              "                             ...                        \n",
              "451                what are the bad impacts of the covid\n",
              "58     is my child still able to learn while in lockdown\n",
              "630                                  how is covid tested\n",
              "487                      what is the source of the virus\n",
              "15           am i more likely to get covid from contacts\n",
              "Name: Question, Length: 142, dtype: object"
            ]
          },
          "metadata": {
            "tags": []
          },
          "execution_count": 191
        }
      ]
    },
    {
      "cell_type": "code",
      "metadata": {
        "colab": {
          "base_uri": "https://localhost:8080/"
        },
        "id": "5VdK_9raWvvB",
        "outputId": "7fcf5c43-30bc-470b-f809-495249a93db2"
      },
      "source": [
        "x_train"
      ],
      "execution_count": null,
      "outputs": [
        {
          "output_type": "execute_result",
          "data": {
            "text/plain": [
              "94                              is it still safe to work\n",
              "317          how long does the virus survive on surfaces\n",
              "312    what temperature kills the virus that causes c...\n",
              "250                     will covid come back in the fall\n",
              "667              how does covid compare to other viruses\n",
              "                             ...                        \n",
              "252                                    how covid spreads\n",
              "403    is the covid virus a sign of an upcoming apoca...\n",
              "88     what should i do to stop my kids from getting ...\n",
              "310    how long is someone contagious after getting c...\n",
              "555    what steps should parents take to protect chil...\n",
              "Name: Question, Length: 564, dtype: object"
            ]
          },
          "metadata": {
            "tags": []
          },
          "execution_count": 192
        }
      ]
    },
    {
      "cell_type": "code",
      "metadata": {
        "id": "arLOD_8UV5Cz",
        "colab": {
          "base_uri": "https://localhost:8080/",
          "height": 272
        },
        "outputId": "9da055a7-d954-4bd3-e9de-2d8f95630bc0"
      },
      "source": [
        "#x_train = x_train.apply(lambda x: ' '.join([word for word in x.split() if word not in (stop1)]))\n"
      ],
      "execution_count": null,
      "outputs": [
        {
          "output_type": "error",
          "ename": "NameError",
          "evalue": "ignored",
          "traceback": [
            "\u001b[0;31m---------------------------------------------------------------------------\u001b[0m",
            "\u001b[0;31mNameError\u001b[0m                                 Traceback (most recent call last)",
            "\u001b[0;32m<ipython-input-82-7907a57ef71c>\u001b[0m in \u001b[0;36m<module>\u001b[0;34m()\u001b[0m\n\u001b[0;32m----> 1\u001b[0;31m \u001b[0mx_train\u001b[0m \u001b[0;34m=\u001b[0m \u001b[0mx_train\u001b[0m\u001b[0;34m.\u001b[0m\u001b[0mapply\u001b[0m\u001b[0;34m(\u001b[0m\u001b[0;32mlambda\u001b[0m \u001b[0mx\u001b[0m\u001b[0;34m:\u001b[0m \u001b[0;34m' '\u001b[0m\u001b[0;34m.\u001b[0m\u001b[0mjoin\u001b[0m\u001b[0;34m(\u001b[0m\u001b[0;34m[\u001b[0m\u001b[0mword\u001b[0m \u001b[0;32mfor\u001b[0m \u001b[0mword\u001b[0m \u001b[0;32min\u001b[0m \u001b[0mx\u001b[0m\u001b[0;34m.\u001b[0m\u001b[0msplit\u001b[0m\u001b[0;34m(\u001b[0m\u001b[0;34m)\u001b[0m \u001b[0;32mif\u001b[0m \u001b[0mword\u001b[0m \u001b[0;32mnot\u001b[0m \u001b[0;32min\u001b[0m \u001b[0;34m(\u001b[0m\u001b[0mstop1\u001b[0m\u001b[0;34m)\u001b[0m\u001b[0;34m]\u001b[0m\u001b[0;34m)\u001b[0m\u001b[0;34m)\u001b[0m\u001b[0;34m\u001b[0m\u001b[0;34m\u001b[0m\u001b[0m\n\u001b[0m",
            "\u001b[0;32m/usr/local/lib/python3.7/dist-packages/pandas/core/series.py\u001b[0m in \u001b[0;36mapply\u001b[0;34m(self, func, convert_dtype, args, **kwds)\u001b[0m\n\u001b[1;32m   4211\u001b[0m             \u001b[0;32melse\u001b[0m\u001b[0;34m:\u001b[0m\u001b[0;34m\u001b[0m\u001b[0;34m\u001b[0m\u001b[0m\n\u001b[1;32m   4212\u001b[0m                 \u001b[0mvalues\u001b[0m \u001b[0;34m=\u001b[0m \u001b[0mself\u001b[0m\u001b[0;34m.\u001b[0m\u001b[0mastype\u001b[0m\u001b[0;34m(\u001b[0m\u001b[0mobject\u001b[0m\u001b[0;34m)\u001b[0m\u001b[0;34m.\u001b[0m\u001b[0m_values\u001b[0m\u001b[0;34m\u001b[0m\u001b[0;34m\u001b[0m\u001b[0m\n\u001b[0;32m-> 4213\u001b[0;31m                 \u001b[0mmapped\u001b[0m \u001b[0;34m=\u001b[0m \u001b[0mlib\u001b[0m\u001b[0;34m.\u001b[0m\u001b[0mmap_infer\u001b[0m\u001b[0;34m(\u001b[0m\u001b[0mvalues\u001b[0m\u001b[0;34m,\u001b[0m \u001b[0mf\u001b[0m\u001b[0;34m,\u001b[0m \u001b[0mconvert\u001b[0m\u001b[0;34m=\u001b[0m\u001b[0mconvert_dtype\u001b[0m\u001b[0;34m)\u001b[0m\u001b[0;34m\u001b[0m\u001b[0;34m\u001b[0m\u001b[0m\n\u001b[0m\u001b[1;32m   4214\u001b[0m \u001b[0;34m\u001b[0m\u001b[0m\n\u001b[1;32m   4215\u001b[0m         \u001b[0;32mif\u001b[0m \u001b[0mlen\u001b[0m\u001b[0;34m(\u001b[0m\u001b[0mmapped\u001b[0m\u001b[0;34m)\u001b[0m \u001b[0;32mand\u001b[0m \u001b[0misinstance\u001b[0m\u001b[0;34m(\u001b[0m\u001b[0mmapped\u001b[0m\u001b[0;34m[\u001b[0m\u001b[0;36m0\u001b[0m\u001b[0;34m]\u001b[0m\u001b[0;34m,\u001b[0m \u001b[0mSeries\u001b[0m\u001b[0;34m)\u001b[0m\u001b[0;34m:\u001b[0m\u001b[0;34m\u001b[0m\u001b[0;34m\u001b[0m\u001b[0m\n",
            "\u001b[0;32mpandas/_libs/lib.pyx\u001b[0m in \u001b[0;36mpandas._libs.lib.map_infer\u001b[0;34m()\u001b[0m\n",
            "\u001b[0;32m<ipython-input-82-7907a57ef71c>\u001b[0m in \u001b[0;36m<lambda>\u001b[0;34m(x)\u001b[0m\n\u001b[0;32m----> 1\u001b[0;31m \u001b[0mx_train\u001b[0m \u001b[0;34m=\u001b[0m \u001b[0mx_train\u001b[0m\u001b[0;34m.\u001b[0m\u001b[0mapply\u001b[0m\u001b[0;34m(\u001b[0m\u001b[0;32mlambda\u001b[0m \u001b[0mx\u001b[0m\u001b[0;34m:\u001b[0m \u001b[0;34m' '\u001b[0m\u001b[0;34m.\u001b[0m\u001b[0mjoin\u001b[0m\u001b[0;34m(\u001b[0m\u001b[0;34m[\u001b[0m\u001b[0mword\u001b[0m \u001b[0;32mfor\u001b[0m \u001b[0mword\u001b[0m \u001b[0;32min\u001b[0m \u001b[0mx\u001b[0m\u001b[0;34m.\u001b[0m\u001b[0msplit\u001b[0m\u001b[0;34m(\u001b[0m\u001b[0;34m)\u001b[0m \u001b[0;32mif\u001b[0m \u001b[0mword\u001b[0m \u001b[0;32mnot\u001b[0m \u001b[0;32min\u001b[0m \u001b[0;34m(\u001b[0m\u001b[0mstop1\u001b[0m\u001b[0;34m)\u001b[0m\u001b[0;34m]\u001b[0m\u001b[0;34m)\u001b[0m\u001b[0;34m)\u001b[0m\u001b[0;34m\u001b[0m\u001b[0;34m\u001b[0m\u001b[0m\n\u001b[0m",
            "\u001b[0;32m<ipython-input-82-7907a57ef71c>\u001b[0m in \u001b[0;36m<listcomp>\u001b[0;34m(.0)\u001b[0m\n\u001b[0;32m----> 1\u001b[0;31m \u001b[0mx_train\u001b[0m \u001b[0;34m=\u001b[0m \u001b[0mx_train\u001b[0m\u001b[0;34m.\u001b[0m\u001b[0mapply\u001b[0m\u001b[0;34m(\u001b[0m\u001b[0;32mlambda\u001b[0m \u001b[0mx\u001b[0m\u001b[0;34m:\u001b[0m \u001b[0;34m' '\u001b[0m\u001b[0;34m.\u001b[0m\u001b[0mjoin\u001b[0m\u001b[0;34m(\u001b[0m\u001b[0;34m[\u001b[0m\u001b[0mword\u001b[0m \u001b[0;32mfor\u001b[0m \u001b[0mword\u001b[0m \u001b[0;32min\u001b[0m \u001b[0mx\u001b[0m\u001b[0;34m.\u001b[0m\u001b[0msplit\u001b[0m\u001b[0;34m(\u001b[0m\u001b[0;34m)\u001b[0m \u001b[0;32mif\u001b[0m \u001b[0mword\u001b[0m \u001b[0;32mnot\u001b[0m \u001b[0;32min\u001b[0m \u001b[0;34m(\u001b[0m\u001b[0mstop1\u001b[0m\u001b[0;34m)\u001b[0m\u001b[0;34m]\u001b[0m\u001b[0;34m)\u001b[0m\u001b[0;34m)\u001b[0m\u001b[0;34m\u001b[0m\u001b[0;34m\u001b[0m\u001b[0m\n\u001b[0m",
            "\u001b[0;31mNameError\u001b[0m: name 'stop1' is not defined"
          ]
        }
      ]
    },
    {
      "cell_type": "code",
      "metadata": {
        "colab": {
          "base_uri": "https://localhost:8080/"
        },
        "id": "PAaCcInUW_ws",
        "outputId": "aeec0e26-72ab-4ebf-a598-74f73d9c36bf"
      },
      "source": [
        "x_train"
      ],
      "execution_count": null,
      "outputs": [
        {
          "output_type": "execute_result",
          "data": {
            "text/plain": [
              "94                              is it still safe to work\n",
              "317          how long does the virus survive on surfaces\n",
              "312    what temperature kills the virus that causes c...\n",
              "250                     will covid come back in the fall\n",
              "667              how does covid compare to other viruses\n",
              "                             ...                        \n",
              "252                                    how covid spreads\n",
              "403    is the covid virus a sign of an upcoming apoca...\n",
              "88     what should i do to stop my kids from getting ...\n",
              "310    how long is someone contagious after getting c...\n",
              "555    what steps should parents take to protect chil...\n",
              "Name: Question, Length: 564, dtype: object"
            ]
          },
          "metadata": {
            "tags": []
          },
          "execution_count": 193
        }
      ]
    },
    {
      "cell_type": "code",
      "metadata": {
        "colab": {
          "base_uri": "https://localhost:8080/"
        },
        "id": "XWFpomt7XDMT",
        "outputId": "960d1525-da46-4541-aa12-ac89631116e2"
      },
      "source": [
        "x_test"
      ],
      "execution_count": null,
      "outputs": [
        {
          "output_type": "execute_result",
          "data": {
            "text/plain": [
              "485    when was the first case of covid confirmed in ...\n",
              "13                  is it dangerous to get donated blood\n",
              "693    is it safe to invest in buying property during...\n",
              "495                           was covid created in a lab\n",
              "230    can humans become infected with the covid from...\n",
              "                             ...                        \n",
              "451                what are the bad impacts of the covid\n",
              "58     is my child still able to learn while in lockdown\n",
              "630                                  how is covid tested\n",
              "487                      what is the source of the virus\n",
              "15           am i more likely to get covid from contacts\n",
              "Name: Question, Length: 142, dtype: object"
            ]
          },
          "metadata": {
            "tags": []
          },
          "execution_count": 194
        }
      ]
    },
    {
      "cell_type": "code",
      "metadata": {
        "colab": {
          "base_uri": "https://localhost:8080/"
        },
        "id": "wXdRdjc40BvM",
        "outputId": "bd1e1fae-efaa-43b1-dc57-3dbf61eeb01c"
      },
      "source": [
        "y_test"
      ],
      "execution_count": null,
      "outputs": [
        {
          "output_type": "execute_result",
          "data": {
            "text/plain": [
              "485              Origin\n",
              "13         Transmission\n",
              "693    Economic Effects\n",
              "495              Origin\n",
              "230        Transmission\n",
              "             ...       \n",
              "451    Societal Effects\n",
              "58     Societal Effects\n",
              "630             Testing\n",
              "487              Origin\n",
              "15         Transmission\n",
              "Name: Category, Length: 142, dtype: object"
            ]
          },
          "metadata": {
            "tags": []
          },
          "execution_count": 195
        }
      ]
    },
    {
      "cell_type": "code",
      "metadata": {
        "id": "I2lXe2c1vTjG",
        "colab": {
          "base_uri": "https://localhost:8080/"
        },
        "outputId": "67ce1984-ac75-46a3-f830-c5c3533ae1ff"
      },
      "source": [
        "y_train"
      ],
      "execution_count": null,
      "outputs": [
        {
          "output_type": "execute_result",
          "data": {
            "text/plain": [
              "94           Prevention\n",
              "317        Transmission\n",
              "312        Transmission\n",
              "250        Transmission\n",
              "667          Comparison\n",
              "             ...       \n",
              "252        Transmission\n",
              "403    Societal Effects\n",
              "88           Prevention\n",
              "310        Transmission\n",
              "555          Prevention\n",
              "Name: Category, Length: 564, dtype: object"
            ]
          },
          "metadata": {
            "tags": []
          },
          "execution_count": 196
        }
      ]
    },
    {
      "cell_type": "code",
      "metadata": {
        "id": "C7A8JogavVD2"
      },
      "source": [
        "\n",
        "encoder = LabelEncoder()\n",
        "encoder.fit(y)\n",
        "encoded_Y_test = encoder.transform(y_test)\n",
        "encoded_Y_train = encoder.transform(y_train)\n",
        "\n",
        "# convert integers to dummy variables (i.e. one hot encoded)\n",
        "dummy_y_test = np_utils.to_categorical(encoded_Y_test)\n",
        "dummy_y_train = np_utils.to_categorical(encoded_Y_train)"
      ],
      "execution_count": null,
      "outputs": []
    },
    {
      "cell_type": "code",
      "metadata": {
        "id": "RwhlOwKovvDm",
        "colab": {
          "base_uri": "https://localhost:8080/"
        },
        "outputId": "b19acbfa-a0dd-4f1a-d55d-f497a1ff9132"
      },
      "source": [
        "encoded_Y_train"
      ],
      "execution_count": null,
      "outputs": [
        {
          "output_type": "execute_result",
          "data": {
            "text/plain": [
              "array([ 4,  9,  9,  9,  0,  8,  4,  5,  9,  7,  1,  3,  6,  9, 10,  3,  9,\n",
              "        2, 10,  1,  9,  6,  9,  3,  9,  8,  9,  1,  0,  5, 10,  6,  6, 10,\n",
              "        9,  8,  5,  1,  9,  0,  9,  1,  6,  3, 10,  1,  9,  9,  6,  4,  9,\n",
              "        3,  5,  3,  9,  6,  9,  9,  6,  2, 10,  5,  5,  8,  0,  8,  9,  4,\n",
              "       10,  9,  8,  5,  9,  3,  9,  0,  4,  5,  9,  4,  9,  9,  5, 10,  5,\n",
              "        4,  1,  5,  5,  1,  9, 10,  0,  4,  2,  5,  3,  2,  5,  9,  1, 10,\n",
              "        9, 10,  1,  9,  3,  9,  0,  9,  8,  4,  4,  4,  2,  0,  2,  5,  4,\n",
              "        4,  1,  3,  5,  2,  5,  5,  4,  9,  9, 10,  9,  9,  5,  9,  3, 10,\n",
              "        4,  9,  9, 10,  2, 10,  6,  9,  3,  9,  9,  8,  6,  6,  3,  1,  2,\n",
              "        0,  8,  3,  5,  4,  9, 10,  9,  9,  9,  4,  5,  0,  4,  8,  9,  4,\n",
              "        4,  5,  9,  9,  5,  5,  1,  9,  9,  9,  4,  5,  4,  9,  3,  9,  9,\n",
              "        3,  0,  4,  4,  4,  9,  5, 10,  4,  4,  1,  9,  9,  9,  7,  9,  9,\n",
              "        3,  5,  6,  9,  8,  9,  3,  4,  1,  0,  9,  4,  9,  3,  9, 10,  8,\n",
              "        1,  1,  4,  6,  4,  0,  1,  8,  4,  9,  1,  4,  4,  0,  5,  9,  9,\n",
              "        9, 10,  7,  4,  9,  0,  0,  9,  3,  9,  9,  9,  9,  9,  5,  4,  9,\n",
              "        9,  4,  9,  9,  4, 10,  9,  5,  9,  0,  1,  9, 10,  3, 10,  4,  7,\n",
              "        5, 10,  5,  9,  9,  8,  9,  0,  4,  7,  9,  1,  4,  5,  6,  8,  4,\n",
              "        9,  9,  6,  9, 10,  9,  4, 10, 10,  8,  9,  8,  9,  6,  4, 10,  8,\n",
              "        8,  9,  5,  9,  9,  9,  3,  5,  5,  7,  0,  9,  6,  5,  3,  5,  4,\n",
              "        4,  5, 10,  8,  9, 10,  1,  5,  9,  9,  8,  7,  9,  8, 10,  9,  3,\n",
              "        9, 10,  9,  9,  7,  8,  9,  4, 10,  4,  4,  5,  4,  9,  5,  4,  2,\n",
              "        5,  5,  5,  9,  5,  4,  0,  9,  9,  9,  8,  9,  7,  5,  3,  1,  4,\n",
              "        5,  0,  9,  9,  0,  4,  9,  5,  4,  9,  4,  9,  3,  4,  7,  0,  9,\n",
              "       10,  5,  9,  6,  9,  6, 10,  0,  9,  5,  9,  4,  1,  9,  8,  5,  0,\n",
              "        9,  9,  0,  5,  3,  9,  6,  5,  5,  3, 10,  9,  9,  9,  9,  3,  9,\n",
              "        1,  4,  5,  2,  4,  4,  7,  9,  9,  4,  5,  9,  9,  9,  2,  9,  9,\n",
              "        5,  4,  0,  6,  9,  9,  9,  4,  8,  9,  9,  3,  4,  7,  7,  4,  4,\n",
              "        5,  0,  8,  5,  6,  5,  5, 10,  9,  9,  5,  9,  3, 10,  1, 10,  9,\n",
              "        5,  6,  9,  3, 10,  8,  9,  5,  3,  3,  4,  5,  8,  2,  3, 10,  5,\n",
              "        4, 10,  9,  9,  0,  4,  5,  6,  3,  6,  9,  7,  9,  5,  4,  9,  4,\n",
              "        4,  7,  6,  5,  3,  8,  1,  4,  4,  4,  9,  9,  6,  3,  4,  9,  8,\n",
              "        1,  5,  4,  9,  4,  0,  5, 10,  2,  5,  4,  0,  9,  7,  4, 10,  5,\n",
              "        0, 10,  4,  9,  5,  4,  9,  5,  0,  9,  9,  9, 10,  3,  3,  9,  5,\n",
              "        4,  9,  4])"
            ]
          },
          "metadata": {
            "tags": []
          },
          "execution_count": 198
        }
      ]
    },
    {
      "cell_type": "code",
      "metadata": {
        "id": "rpay_qC_xIC-",
        "colab": {
          "base_uri": "https://localhost:8080/"
        },
        "outputId": "a66db88d-4062-49d7-a5d6-74d4e01dd370"
      },
      "source": [
        "dummy_y_train"
      ],
      "execution_count": null,
      "outputs": [
        {
          "output_type": "execute_result",
          "data": {
            "text/plain": [
              "array([[0., 0., 0., ..., 0., 0., 0.],\n",
              "       [0., 0., 0., ..., 0., 1., 0.],\n",
              "       [0., 0., 0., ..., 0., 1., 0.],\n",
              "       ...,\n",
              "       [0., 0., 0., ..., 0., 0., 0.],\n",
              "       [0., 0., 0., ..., 0., 1., 0.],\n",
              "       [0., 0., 0., ..., 0., 0., 0.]], dtype=float32)"
            ]
          },
          "metadata": {
            "tags": []
          },
          "execution_count": 199
        }
      ]
    },
    {
      "cell_type": "code",
      "metadata": {
        "id": "csRAaRJ_xNaV"
      },
      "source": [
        "bert_layer = hub.KerasLayer(\"https://tfhub.dev/tensorflow/bert_multi_cased_L-12_H-768_A-12/2\",\n",
        "                            trainable=True)"
      ],
      "execution_count": null,
      "outputs": []
    },
    {
      "cell_type": "code",
      "metadata": {
        "id": "90ZI-YLxxdpG"
      },
      "source": [
        "vocab_file = bert_layer.resolved_object.vocab_file.asset_path.numpy()\n",
        "do_lower_case = bert_layer.resolved_object.do_lower_case.numpy()\n",
        "tokenizer = tokenization.FullTokenizer(vocab_file, do_lower_case)"
      ],
      "execution_count": null,
      "outputs": []
    },
    {
      "cell_type": "code",
      "metadata": {
        "id": "lMG-SOIZxkwW",
        "colab": {
          "base_uri": "https://localhost:8080/"
        },
        "outputId": "be62a081-9f59-4ba5-c68d-315c33975e5d"
      },
      "source": [
        "do_lower_case\n"
      ],
      "execution_count": null,
      "outputs": [
        {
          "output_type": "execute_result",
          "data": {
            "text/plain": [
              "False"
            ]
          },
          "metadata": {
            "tags": []
          },
          "execution_count": 202
        }
      ]
    },
    {
      "cell_type": "code",
      "metadata": {
        "id": "yjR3VoeqxnNW",
        "colab": {
          "base_uri": "https://localhost:8080/"
        },
        "outputId": "7babd702-8a72-4eaf-bf9f-4d56428725c3"
      },
      "source": [
        "tokenizer.convert_tokens_to_ids(['[CLS]', '[SEP]'])\n"
      ],
      "execution_count": null,
      "outputs": [
        {
          "output_type": "execute_result",
          "data": {
            "text/plain": [
              "[101, 102]"
            ]
          },
          "metadata": {
            "tags": []
          },
          "execution_count": 203
        }
      ]
    },
    {
      "cell_type": "code",
      "metadata": {
        "id": "P4wYruenxpAG"
      },
      "source": [
        "\n",
        "def encode_names(n):\n",
        "   tokens = list(tokenizer.tokenize(n))\n",
        "   tokens.append('[SEP]')  # seperation token. Would bemuch more useful if you had a multiple text input.\n",
        "   return tokenizer.convert_tokens_to_ids(tokens)\n",
        "\n",
        "tweets = tf.ragged.constant([\n",
        "    encode_names(n) for n in x_train])"
      ],
      "execution_count": null,
      "outputs": []
    },
    {
      "cell_type": "code",
      "metadata": {
        "id": "JaonTfMLx0Hl",
        "colab": {
          "base_uri": "https://localhost:8080/"
        },
        "outputId": "76cf9d0d-1e1b-4aa3-c3b0-b09271db3fc1"
      },
      "source": [
        "\n",
        "print('Tokenized Tweets shape', tweets.shape.as_list())"
      ],
      "execution_count": null,
      "outputs": [
        {
          "output_type": "stream",
          "text": [
            "Tokenized Tweets shape [564, None]\n"
          ],
          "name": "stdout"
        }
      ]
    },
    {
      "cell_type": "code",
      "metadata": {
        "id": "NwVBMlRxx3DG",
        "colab": {
          "base_uri": "https://localhost:8080/"
        },
        "outputId": "0dc20701-471f-474e-a599-19e984094caf"
      },
      "source": [
        "tweets[0]\n"
      ],
      "execution_count": null,
      "outputs": [
        {
          "output_type": "execute_result",
          "data": {
            "text/plain": [
              "<tf.Tensor: shape=(7,), dtype=int32, numpy=array([10124, 10271, 12647, 43966, 10114, 11424,   102], dtype=int32)>"
            ]
          },
          "metadata": {
            "tags": []
          },
          "execution_count": 206
        }
      ]
    },
    {
      "cell_type": "code",
      "metadata": {
        "id": "GEE1-LIFx7cW",
        "colab": {
          "base_uri": "https://localhost:8080/",
          "height": 35
        },
        "outputId": "fc32c0eb-04e6-4f5b-8a84-60821582311a"
      },
      "source": [
        "x_train[0]\n"
      ],
      "execution_count": null,
      "outputs": [
        {
          "output_type": "execute_result",
          "data": {
            "application/vnd.google.colaboratory.intrinsic+json": {
              "type": "string"
            },
            "text/plain": [
              "'is it possible for covid to come again'"
            ]
          },
          "metadata": {
            "tags": []
          },
          "execution_count": 207
        }
      ]
    },
    {
      "cell_type": "code",
      "metadata": {
        "id": "07FssaMox_i-",
        "colab": {
          "base_uri": "https://localhost:8080/"
        },
        "outputId": "04ce8889-559a-4ab8-fad9-28b187c7285c"
      },
      "source": [
        "#fffff\n",
        "tokenizedQuestion = tokenizer.tokenize(x_train[0])\n",
        "for i in tokenizedQuestion:\n",
        "  print(i, tokenizer.convert_tokens_to_ids([i]))"
      ],
      "execution_count": null,
      "outputs": [
        {
          "output_type": "stream",
          "text": [
            "is [10124]\n",
            "it [10271]\n",
            "possible [14128]\n",
            "for [10142]\n",
            "co [11170]\n",
            "##vid [32194]\n",
            "to [10114]\n",
            "come [10678]\n",
            "again [13123]\n"
          ],
          "name": "stdout"
        }
      ]
    },
    {
      "cell_type": "code",
      "metadata": {
        "id": "GD1lBvwdyJf-",
        "colab": {
          "base_uri": "https://localhost:8080/",
          "height": 269
        },
        "outputId": "30ecf6fc-86dd-4c40-856b-c445bba56b43"
      },
      "source": [
        "cls = [tokenizer.convert_tokens_to_ids(['[CLS]'])]*tweets.shape[0]\n",
        "input_word_ids = tf.concat([cls, tweets], axis=-1)\n",
        "_ = plt.pcolormesh(input_word_ids[0:10].to_tensor())"
      ],
      "execution_count": null,
      "outputs": [
        {
          "output_type": "display_data",
          "data": {
            "image/png": "[encoded data removed]",
            "text/plain": [
              "<Figure size 432x288 with 1 Axes>"
            ]
          },
          "metadata": {
            "tags": []
          }
        }
      ]
    },
    {
      "cell_type": "code",
      "metadata": {
        "id": "2qworuq6yQ9m",
        "colab": {
          "base_uri": "https://localhost:8080/"
        },
        "outputId": "f0124044-e295-426c-af9f-506fe872179d"
      },
      "source": [
        "input_word_ids\n"
      ],
      "execution_count": null,
      "outputs": [
        {
          "output_type": "execute_result",
          "data": {
            "text/plain": [
              "<tf.RaggedTensor [[101, 10124, 10271, 12647, 43966, 10114, 11424, 102], [101, 14796, 11695, 15107, 10105, 20399, 55681, 10135, 57445, 102], [101, 12976, 23509, 69179, 10105, 20399, 10189, 25781, 11170, 32194, 102], [101, 11337, 11170, 32194, 10678, 12014, 10106, 10105, 18042, 102], [101, 14796, 15107, 11170, 32194, 52860, 10114, 10684, 20399, 10171, 102], [101, 10149, 177, 17367, 10114, 15329, 15127, 32784, 65984, 10142, 11170, 32194, 102], [101, 10479, 11823, 10105, 10321, 28217, 10238, 10142, 11170, 32194, 102], [101, 12976, 10301, 11152, 19182, 10751, 31515, 12387, 10189, 11206, 12888, 10662, 11170, 32194, 102], [101, 10124, 10271, 43966, 10114, 26286, 169, 62432, 10188, 11178, 11168, 10940, 11170, 32194, 10393, 10590, 15943, 102], [101, 10319, 21911, 15107, 11170, 32194, 15311, 102], [101, 12976, 10124, 10105, 27949, 10230, 17155, 11170, 32194, 60600, 10230, 10105, 20511, 17313, 102], [101, 12172, 11170, 32194, 15148, 10169, 11519, 10107, 102], [101, 10124, 11155, 169, 24179, 10108, 169, 11132, 32981, 10108, 11170, 32194, 11850, 10105, 11132, 32981, 10108, 10105, 51551, 15529, 58768, 10138, 10319, 15875, 10798, 11426, 25626, 10114, 10105, 10422, 32981, 102], [101, 10301, 82495, 13190, 10798, 109036, 10114, 10105, 11170, 32194, 20399, 10111, 11337, 10271, 105999, 10105, 19335, 10251, 102], [101, 10301, 14249, 16813, 26409, 26874, 10106, 102324, 10345, 81634, 10230, 10105, 11170, 32194, 102], [101, 10124, 10271, 22024, 10189, 126, 10240, 25609, 10107, 10105, 11170, 32194, 102], [101, 10944, 177, 15329, 10105, 11170, 32194, 10188, 18301, 18301, 78978, 43569, 10345, 18301, 36003, 10901, 10111, 59386, 11168, 102], [101, 12976, 15107, 10271, 36110, 10189, 11170, 32194, 10124, 14671, 102], [101, 10301, 56888, 86821, 14950, 12090, 54265, 63251, 10111, 10360, 28229, 25750, 10157, 43093, 10105, 12504, 21379, 69937, 10142, 11170, 32194, 102], [101, 10106, 12976, 30360, 10393, 10105, 10271, 17425, 10590, 36276, 10155, 11170, 32194, 102], [101, 10944, 11519, 10107, 10106, 89284, 16316, 25609, 11170, 32194, 12014, 10114, 11426, 102], [101, 14796, 11695, 11337, 12142, 27920, 12059, 19113, 10142, 11170, 32194, 12469, 102], [101, 12976, 10124, 10105, 23509, 17468, 10114, 32099, 11170, 32194, 102], [101, 12172, 11170, 32194, 10678, 10188, 169, 11519, 102], [101, 15107, 11170, 32194, 32099, 22528, 102], [101, 10301, 11170, 32194, 34926, 14579, 102], [101, 15107, 11170, 32194, 10128, 10106, 42230, 24310, 102], [101, 10124, 11170, 32194, 10151, 13925, 24960, 108986, 10350, 102], [101, 14796, 10124, 10105, 11170, 32194, 20399, 10798, 57195, 11084, 10105, 15670, 58768, 10138, 102], [101, 14796, 11337, 12103, 10347, 17695, 12277, 10106, 10105, 13451, 71328, 11155, 10124, 12647, 10192, 10321, 28217, 10238, 10142, 11170, 32194, 102], [101, 10149, 13028, 17367, 15217, 33989, 54006, 10230, 12277, 13028, 10529, 11170, 32194, 102], [101, 11337, 11170, 32194, 15079, 13451, 10924, 102], [101, 10134, 10105, 11170, 32194, 98075, 10155, 51747, 102], [101, 14796, 10944, 11170, 32194, 25965, 10347, 45369, 102], [101, 14796, 11695, 15107, 11170, 32194, 29597, 57057, 10135, 57445, 102], [101, 11337, 177, 10347, 38253, 10142, 169, 11170, 32194, 15839, 102], [101, 12976, 10124, 20442, 36304, 30419, 10939, 11170, 32194, 102], [101, 12976, 10124, 10105, 21316, 10108, 11170, 32194, 10114, 20442, 14155, 102], [101, 10944, 177, 15329, 11170, 32194, 10188, 15127, 32784, 10345, 10684, 22528, 102], [101, 31237, 10124, 11170, 32194, 13172, 85688, 11084, 16741, 31206, 20399, 10171, 102], [101, 10944, 11170, 32194, 10347, 39797, 10188, 169, 15042, 10479, 10393, 10192, 62319, 102], [101, 11337, 78069, 13461, 25212, 65211, 10662, 11170, 32194, 102], [101, 11337, 11170, 32194, 11783, 14942, 102], [101, 10940, 12172, 11170, 32194, 71321, 10216, 102], [101, 10106, 77268, 56542, 10108, 14249, 90414, 10161, 22205, 10108, 18643, 12090, 54265, 63251, 113, 171, 11703, 114, 10111, 56888, 86821, 14950, 12090, 54265, 63251, 113, 176, 57462, 114, 11327, 11170, 32194, 102], [101, 14796, 12174, 10105, 11170, 32194, 63831, 15633, 25749, 169, 11922, 13925, 11639, 14585, 17467, 10106, 10105, 19626, 102], [101, 10944, 10105, 20399, 10189, 25781, 11170, 32194, 10347, 25609, 11222, 18301, 102], [101, 10944, 75091, 14499, 10911, 10160, 24179, 10142, 11170, 32194, 102], [101, 10124, 34497, 92754, 57154, 31237, 11299, 27874, 10261, 10124, 17155, 10531, 11170, 32194, 22859, 102], [101, 14796, 10944, 177, 12504, 32099, 11170, 32194, 102], [101, 14796, 10124, 11170, 32194, 10106, 84732, 10230, 19436, 80602, 63051, 10107, 102], [101, 10134, 11170, 32194, 11019, 10106, 169, 93409, 102], [101, 10149, 13028, 27874, 11155, 11337, 10347, 10798, 11859, 65571, 10939, 11170, 32194, 102], [101, 12172, 11170, 32194, 15148, 10106, 169, 93409, 102], [101, 14819, 11170, 32194, 12557, 10347, 171, 56318, 11912, 102], [101, 10124, 10271, 14128, 10142, 11170, 32194, 10114, 10678, 13123, 102], [101, 14819, 177, 27920, 10245, 84732, 15127, 30518, 45596, 15388, 102], [101, 14796, 11695, 15107, 11170, 32194, 12962, 10135, 17368, 102], [101, 11337, 11170, 32194, 36474, 21092, 10354, 102], [101, 10124, 11155, 169, 27949, 10189, 11170, 32194, 10124, 11552, 169, 24960, 108986, 10350, 11858, 102], [101, 10944, 11170, 32194, 10347, 45369, 10169, 14249, 16813, 26409, 102], [101, 10124, 11155, 11178, 10718, 63400, 10106, 27920, 55818, 10341, 10188, 10531, 11170, 32194, 24960, 108986, 10350, 102], [101, 12277, 11393, 10124, 60557, 14796, 11337, 15127, 10879, 10162, 42671, 102], [101, 14796, 10944, 177, 15329, 65984, 10142, 11170, 32194, 102], [101, 31237, 10108, 10435, 10105, 11486, 10108, 10105, 71393, 23958, 10124, 11170, 32194, 10798, 17217, 10111, 23457, 30161, 102], [101, 10319, 11170, 32194, 15839, 10124, 10992, 54616, 102], [101, 10944, 177, 15329, 11170, 32194, 10188, 15127, 32784, 10107, 10345, 10684, 22528, 102], [101, 10301, 11951, 12647, 62052, 10142, 169, 10321, 28217, 10238, 10142, 11170, 32194, 102], [101, 10124, 11178, 27920, 10245, 84732, 11236, 91879, 14579, 10142, 11170, 32194, 102], [101, 10301, 82808, 10798, 10160, 24179, 102], [101, 14796, 10301, 11426, 65984, 10142, 11170, 32194, 102], [101, 11337, 11170, 32194, 14107, 10114, 10105, 34394, 10142, 67519, 10106, 78069, 102], [101, 10944, 177, 15329, 11170, 32194, 11222, 18301, 102], [101, 31237, 11170, 32194, 44936, 102], [101, 10944, 177, 15329, 11170, 32194, 10188, 12286, 102], [101, 12976, 11170, 30168, 10309, 11053, 10114, 10106, 84732, 26058, 11360, 11691, 19493, 102], [101, 14796, 14819, 11426, 10106, 10105, 11561, 13215, 15329, 42374, 10142, 11170, 32194, 102], [101, 12976, 10124, 10105, 12504, 40414, 10189, 10393, 44936, 10114, 13028, 10939, 10105, 11170, 32194, 79601, 27160, 13127, 102], [101, 10124, 11170, 32194, 34248, 10798, 28950, 10107, 10345, 50202, 10107, 102], [101, 14796, 11695, 11337, 10271, 13574, 10142, 49871, 10114, 26800, 169, 10321, 28217, 10238, 10114, 11170, 32194, 102], [101, 10944, 177, 61093, 10105, 20399, 10188, 11223, 10106, 10151, 10110, 75379, 16199, 10106, 16065, 96993, 10114, 30455, 10479, 47798, 10123, 10529, 52812, 56610, 21493, 62319, 102], [101, 10944, 11170, 32194, 12962, 10106, 12286, 102], [101, 12174, 11170, 32194, 23040, 11355, 10950, 10105, 14179, 14025, 102], [101, 10124, 11155, 169, 21379, 10142, 11170, 32194, 21833, 102], [101, 11371, 16009, 10950, 14796, 10944, 177, 15217, 15127, 18048, 17734, 26901, 102], [101, 14796, 14819, 17293, 23819, 12694, 43966, 102], [101, 10142, 12976, 27949, 10124, 10105, 20511, 17313, 36276, 10155, 11170, 32194, 102], [101, 10124, 11170, 32194, 10571, 37249, 10376, 17446, 33700, 102], [101, 12976, 11337, 84630, 12277, 10105, 12931, 10108, 10105, 15610, 30811, 11170, 32194, 102], [101, 12976, 10301, 11152, 43605, 10189, 11337, 10347, 27185, 17695, 10345, 24089, 10155, 11170, 32194, 102], [101, 10392, 177, 10160, 24179, 12277, 177, 54981, 30455, 10479, 12482, 10108, 11170, 32194, 10662, 10689, 10529, 20006, 14942, 102], [101, 10149, 11170, 32194, 10529, 77298, 102], [101, 14796, 10124, 11170, 32194, 57195, 102], [101, 11337, 177, 15329, 11170, 32194, 12277, 177, 11783, 17555, 102], [101, 31237, 10124, 10271, 11552, 169, 11170, 32194, 102], [101, 14796, 11337, 10105, 11170, 32194, 24960, 108986, 10350, 15453, 78069, 10107, 19808, 10169, 10105, 13735, 102], [101, 12172, 11170, 32194, 10678, 10188, 92176, 10107, 102], [101, 12976, 10124, 169, 11170, 32194, 102], [101, 12976, 10894, 10347, 10105, 12504, 13170, 10114, 18500, 78069, 23200, 13096, 10142, 11170, 32194, 102], [101, 10319, 18882, 15362, 11170, 32194, 102], [101, 14796, 10529, 10105, 12077, 100986, 18866, 10590, 36276, 10155, 11170, 32194, 102], [101, 10319, 10301, 10105, 28219, 10107, 15313, 11223, 11031, 10114, 81634, 11170, 32194, 102], [101, 10479, 10124, 10160, 17981, 24179, 10142, 32342, 56507, 10188, 11170, 32194, 102], [101, 10124, 10271, 14128, 10114, 77298, 11170, 32194, 102], [101, 10124, 10271, 169, 15198, 14932, 10114, 47715, 17684, 10812, 10245, 10939, 10105, 11170, 32194, 24960, 108986, 10350, 102], [101, 10944, 11170, 32194, 10347, 14541, 11222, 10105, 30049, 102], [101, 10106, 12976, 10542, 12172, 10105, 11170, 32194, 20399, 22497, 71321, 10216, 102], [101, 10944, 11170, 32194, 55681, 10106, 33955, 102], [101, 10301, 11155, 11170, 32194, 10107, 11360, 10531, 10464, 102], [101, 14796, 15107, 11223, 169, 100332, 10129, 21316, 11170, 32194, 38607, 18213, 102], [101, 10301, 11155, 39282, 10114, 10347, 65984, 102], [101, 10124, 11155, 42819, 177, 10944, 11760, 10114, 32099, 11170, 32194, 102], [101, 10393, 30455, 11019, 169, 10321, 28217, 10238, 10142, 11170, 32194, 21833, 102], [101, 10944, 177, 32099, 11170, 32194, 13663, 15230, 14608, 13903, 14210, 102], [101, 12976, 11170, 32194, 17574, 102], [101, 31237, 11170, 32194, 57195, 102], [101, 31237, 10124, 11170, 32194, 169, 24960, 108986, 10350, 102], [101, 11337, 10105, 11170, 32194, 60600, 12931, 34010, 12620, 32221, 67299, 10107, 11639, 13685, 102], [101, 10944, 177, 12647, 11783, 10114, 11424, 102], [101, 15107, 189, 10477, 15765, 32099, 10105, 11170, 32194, 102], [101, 11337, 10992, 67878, 10107, 11783, 19423, 46791, 10662, 10105, 11170, 32194, 24960, 108986, 10350, 102], [101, 14796, 22497, 10124, 10271, 10189, 10105, 11170, 32194, 20399, 10134, 13745, 10155, 10105, 14325, 33550, 10146, 169, 48806, 54157, 102], [101, 14796, 10124, 11170, 32194, 43068, 10105, 11356, 10142, 18322, 10111, 10142, 110353, 102], [101, 14796, 10124, 10105, 14671, 11170, 32194, 12902, 102], [101, 12976, 10301, 10105, 10751, 24682, 11170, 32194, 10393, 26015, 13028, 102], [101, 12976, 83258, 11337, 10105, 11356, 42671, 10188, 11170, 32194, 102], [101, 12976, 50879, 10944, 15127, 11365, 13574, 10114, 29888, 17446, 24179, 10108, 34875, 11170, 32194, 102], [101, 10392, 177, 10160, 24179, 10142, 11170, 32194, 10188, 30049, 62432, 10107, 10345, 20895, 102], [101, 10944, 11426, 10479, 94962, 10188, 11170, 32194, 10347, 10106, 108881, 13123, 102], [101, 12976, 21379, 10107, 10301, 14579, 10142, 11170, 32194, 102], [101, 31237, 10301, 11170, 32194, 25965, 23020, 15854, 10251, 10142, 10380, 11695, 11360, 10689, 11897, 10105, 62319, 102], [101, 10124, 10271, 14128, 10114, 15329, 11170, 32194, 10188, 30455, 10479, 12482, 10108, 11170, 32194, 102], [101, 10124, 11155, 11178, 13170, 10114, 69270, 19181, 78069, 10142, 11170, 32194, 102], [101, 10944, 11170, 32194, 12962, 10135, 32804, 102], [101, 10124, 11170, 32194, 169, 10817, 11019, 20399, 102], [101, 10944, 27920, 10245, 84732, 11236, 32650, 23432, 10107, 10345, 23040, 16354, 10347, 11031, 10135, 15127, 40564, 10106, 56617, 10336, 10106, 39149, 10162, 10345, 11600, 104705, 10114, 29320, 10345, 81634, 11170, 32194, 102], [101, 10944, 177, 33734, 15127, 17835, 102], [101, 14796, 11695, 11337, 11170, 32194, 55681, 10135, 34109, 13028, 14499, 10106, 10105, 13961, 14210, 102], [101, 10149, 55051, 11170, 32194, 25965, 10106, 84732, 11426, 102], [101, 11155, 10107, 19034, 10374, 169, 77298, 10106, 78069, 10108, 11170, 32194, 10124, 10271, 22024, 102], [101, 12976, 11170, 32194, 102], [101, 10944, 27920, 10245, 84732, 11236, 32650, 23432, 10107, 77298, 10911, 12277, 177, 10529, 11170, 32194, 102], [101, 14796, 11695, 10149, 13028, 27874, 10105, 11170, 32194, 24960, 108986, 10350, 11337, 12469, 10106, 10392, 13227, 10425, 102], [101, 10134, 11170, 32194, 11823, 10106, 63131, 10123, 17895, 102], [101, 10124, 11170, 32194, 169, 12297, 12577, 107183, 102], [101, 12976, 10301, 30360, 10106, 10319, 11170, 32194, 10124, 37241, 89157, 102], [101, 31237, 10301, 12694, 17122, 96945, 10114, 11170, 32194, 102], [101, 15107, 10105, 25599, 10108, 11170, 32194, 10106, 106615, 187, 11037, 19528, 37284, 14796, 34844, 10271, 10124, 102], [101, 12277, 12931, 32221, 67299, 70702, 10105, 27570, 11337, 11951, 12888, 169, 11132, 32981, 10108, 11170, 32194, 102], [101, 12172, 51747, 12888, 10105, 11170, 32194, 20399, 23959, 102], [101, 14796, 12172, 11170, 32194, 16135, 102], [101, 12976, 43605, 11337, 10529, 169, 42126, 20506, 18239, 14907, 11170, 32194, 79601, 27160, 10107, 11572, 102], [101, 31237, 10124, 10105, 21911, 11223, 11552, 11170, 32194, 21911, 19493, 102], [101, 12976, 10124, 10105, 25245, 10948, 10148, 10943, 11170, 10477, 10111, 11170, 32194, 102], [101, 10149, 11170, 32194, 34926, 15217, 102], [101, 10149, 13028, 27874, 11170, 32194, 10134, 10106, 56617, 10336, 24564, 10454, 102], [101, 12976, 10301, 10105, 19737, 21316, 10107, 10108, 10105, 11170, 32194, 22859, 102], [101, 12976, 55911, 10230, 20895, 14819, 177, 11760, 10114, 32949, 11327, 11170, 32194, 102], [101, 11337, 11170, 32194, 11783, 14942, 10106, 10105, 17995, 102], [101, 12174, 49288, 10347, 169, 21379, 10142, 11170, 32194, 102], [101, 14819, 177, 55911, 11846, 54981, 57445, 102], [101, 10944, 11170, 32194, 12962, 10135, 89543, 102], [101, 10124, 10271, 14128, 10142, 22528, 10106, 10105, 39351, 110208, 10114, 31626, 11170, 32194, 102], [101, 12277, 177, 10944, 10123, 17860, 15230, 14608, 13903, 14210, 10106, 10105, 13708, 10944, 177, 13086, 15127, 12542, 102], [101, 12976, 12277, 10105, 19626, 84891, 10107, 10114, 36003, 11170, 32194, 102], [101, 12976, 10301, 10105, 39336, 10948, 47911, 10111, 11170, 32194, 102], [101, 10124, 10271, 24179, 10157, 10114, 21964, 15127, 13215, 10114, 56120, 102], [101, 10301, 11170, 32194, 14249, 38078, 34926, 54616, 102], [101, 10944, 11170, 32194, 23595, 10155, 31346, 102], [101, 12976, 10124, 10105, 12504, 13170, 10114, 13086, 62452, 15127, 18048, 11367, 10123, 15329, 10106, 108881, 102], [101, 12976, 12807, 10108, 13295, 107425, 10124, 48864, 10114, 29320, 61093, 10230, 11170, 32194, 102], [101, 11337, 11170, 32194, 12469, 11444, 48628, 15229, 10111, 26058, 11783, 61929, 102], [101, 10301, 12694, 96945, 10162, 10114, 10105, 10751, 11170, 32194, 102], [101, 14796, 11170, 32194, 10124, 37241, 89157, 102], [101, 14819, 78069, 42076, 10350, 113, 15630, 10142, 21911, 12608, 114, 10347, 21586, 10142, 10105, 63831, 10108, 11170, 32194, 102], [101, 11337, 10105, 11356, 11783, 12014, 10114, 16626, 10662, 10105, 11170, 32194, 10124, 45041, 102], [101, 10319, 20511, 10107, 10301, 10105, 10992, 25081, 13096, 10939, 11170, 32194, 102], [101, 10124, 11170, 32194, 57195, 10142, 12676, 10479, 10321, 11355, 102], [101, 12976, 22528, 10944, 15329, 11170, 32194, 102], [101, 10301, 11170, 32194, 81690, 96945, 102], [101, 10124, 10120, 10157, 15230, 14608, 13903, 14210, 48765, 102], [101, 12976, 11337, 23595, 25157, 11850, 10662, 10105, 11572, 10108, 10105, 11170, 32194, 24960, 108986, 10350, 102], [101, 31237, 10124, 10105, 10321, 28217, 10238, 10142, 11170, 32194, 18084, 10380, 11695, 102], [101, 11337, 177, 15329, 11170, 32194, 10188, 169, 32290, 18882, 102], [101, 10479, 10124, 38607, 28375, 10142, 10105, 11170, 32194, 20399, 102], [101, 10529, 10105, 11426, 10479, 10309, 101003, 27867, 10169, 11170, 32194, 14628, 10211, 34326, 11949, 102], [101, 10393, 51747, 10189, 55051, 10188, 11170, 32194, 10590, 74720, 108881, 102], [101, 10124, 78069, 30181, 10105, 22608, 10108, 11170, 32194, 102], [101, 10124, 11170, 32194, 110353, 11059, 187, 24748, 10112, 58768, 10138, 102], [101, 12976, 22282, 10108, 107425, 10107, 10301, 48864, 10114, 32949, 17004, 22277, 23829, 10188, 11170, 32194, 56771, 102], [101, 14819, 12694, 49866, 107425, 10107, 102], [101, 14796, 10149, 177, 27920, 10245, 84732, 12277, 177, 11758, 10529, 15230, 14608, 13903, 14210, 102], [101, 10944, 10105, 11170, 32194, 20399, 25609, 11222, 68351, 12286, 102], [101, 14819, 78069, 10347, 11991, 21586, 10142, 29132, 10105, 11170, 32194, 97586, 10350, 10106, 10105, 11356, 102], [101, 14819, 11170, 32194, 25965, 10347, 68711, 50476, 102], [101, 12277, 70780, 10135, 169, 35007, 14796, 10149, 177, 29597, 43966, 102], [101, 10944, 177, 11760, 56503, 10114, 32099, 11170, 32194, 102], [101, 12976, 10894, 10347, 10105, 21316, 10108, 11170, 32194, 10135, 10105, 10271, 17425, 18331, 10454, 102], [101, 10479, 10124, 10160, 24179, 10108, 30879, 34844, 56507, 102], [101, 10124, 17339, 17582, 11195, 169, 12364, 24179, 21834, 10106, 11170, 32194, 18141, 19980, 10107, 102], [101, 15107, 11170, 32194, 12962, 10135, 17895, 102], [101, 14796, 23590, 11337, 62319, 10108, 11170, 32194, 22641, 102], [101, 12976, 22528, 10944, 31626, 11170, 32194, 102], [101, 12174, 11170, 32194, 80916, 10347, 37241, 89157, 11222, 12286, 102], [101, 12976, 10134, 10105, 11170, 32194, 83777, 102], [101, 12976, 28615, 10114, 15453, 14907, 10105, 11170, 32194, 24960, 108986, 10350, 10124, 10491, 102], [101, 10841, 11170, 32194, 11337, 11572, 102], [101, 10124, 10271, 14128, 10114, 15329, 11170, 32194, 10188, 94389, 68859, 10171, 102], [101, 10944, 13474, 76521, 11949, 10347, 98075, 11610, 10135, 106615, 187, 11037, 19528, 102], [101, 10124, 11170, 32194, 12566, 69821, 102], [101, 10841, 11170, 32194, 13457, 102], [101, 12976, 50879, 14819, 17293, 13574, 10114, 32949, 12694, 10939, 169, 13354, 63831, 102], [101, 12976, 10124, 10105, 21316, 10108, 11170, 32194, 10135, 10105, 18331, 27570, 102], [101, 14796, 12902, 10124, 10105, 11170, 32194, 10188, 169, 14624, 58768, 10138, 102], [101, 10124, 10271, 14128, 10142, 49305, 24911, 10114, 25609, 11170, 32194, 102], [101, 12976, 53426, 14819, 11951, 28086, 11327, 11170, 32194, 102], [101, 10301, 100332, 10943, 10345, 10321, 24193, 10160, 17981, 24179, 102], [101, 14796, 11170, 32194, 33039, 102], [101, 10149, 11170, 32194, 14249, 70058, 11624, 10173, 14854, 10211, 34326, 11949, 102], [101, 10944, 169, 11170, 32194, 38607, 10347, 45369, 13663, 169, 68711, 35304, 10129, 102], [101, 10149, 11170, 32194, 14249, 38078, 34926, 11424, 102], [101, 10319, 37766, 10301, 49704, 10230, 12373, 10108, 11170, 32194, 102], [101, 10169, 10105, 20511, 17313, 12935, 10850, 10114, 10105, 11170, 32194, 10124, 10271, 169, 15198, 10635, 10114, 47715, 10345, 36300, 20442, 20511, 10107, 102], [101, 10124, 11155, 169, 10321, 28217, 10238, 10142, 10105, 11170, 32194, 102], [101, 10841, 11170, 32194, 10124, 10491, 102], [101, 12976, 10124, 10105, 10992, 26874, 13170, 10114, 32099, 11170, 32194, 102], [101, 14796, 10944, 11951, 98291, 10948, 11170, 32194, 10111, 10105, 58768, 10138, 102], [101, 10124, 10105, 18331, 27570, 33336, 10142, 11639, 14585, 17467, 10106, 23607, 12373, 10108, 11170, 32194, 102], [101, 10149, 177, 10529, 10114, 16868, 10114, 15329, 65984, 10142, 11170, 32194, 102], [101, 14796, 17864, 11337, 169, 10321, 28217, 10238, 10142, 11170, 32194, 10347, 42374, 102], [101, 11337, 11170, 32194, 11572, 10106, 17995, 102], [101, 14796, 91810, 10393, 10105, 11356, 27570, 73495, 42113, 10336, 10380, 13301, 12373, 10108, 10105, 11170, 32194, 63831, 102], [101, 14796, 10944, 15300, 15329, 42374, 10142, 79601, 27160, 102], [101, 10944, 56157, 169, 13295, 107425, 29320, 11170, 32194, 102], [101, 10134, 11155, 169, 11170, 32194, 10218, 102], [101, 10124, 10271, 169, 88993, 10108, 17446, 33700, 10142, 10105, 50513, 27570, 10114, 10347, 18440, 10850, 10114, 11170, 32194, 102], [101, 10301, 11426, 10169, 36474, 18043, 14197, 10160, 17981, 24179, 102], [101, 14796, 11695, 15107, 10105, 11170, 32194, 20399, 12962, 10142, 10571, 16626, 17315, 102], [101, 12277, 177, 10529, 55051, 10188, 11170, 32194, 11337, 177, 10347, 96945, 10114, 10271, 102], [101, 10319, 12723, 11337, 10347, 10105, 10422, 10114, 17860, 10105, 77298, 10108, 11170, 32194, 102], [101, 12976, 62319, 20970, 11426, 20627, 10169, 11170, 32194, 102], [101, 10124, 10271, 43966, 10142, 10911, 10114, 73639, 10112, 24911, 10939, 10105, 11170, 32194, 24960, 108986, 10350, 102], [101, 10319, 22528, 10301, 96945, 11170, 32194, 102], [101, 10347, 77822, 11170, 32194, 38306, 14796, 10149, 13028, 98291, 10948, 10105, 58768, 10138, 10111, 11170, 32194, 102], [101, 11337, 11170, 32194, 16328, 11572, 10741, 11850, 11520, 10477, 102], [101, 14796, 10301, 15688, 68275, 10472, 36276, 10155, 11170, 32194, 102], [101, 14796, 12172, 11170, 32194, 15329, 13457, 102], [101, 10944, 30455, 25609, 10105, 20399, 13663, 11223, 101003, 102], [101, 10106, 12976, 30360, 10944, 11170, 32194, 10106, 84732, 19436, 18927, 102], [101, 11337, 11155, 10347, 18882, 18301, 13716, 24115, 102], [101, 14796, 10124, 10105, 14671, 11170, 32194, 25609, 102], [101, 10301, 82808, 34875, 36276, 10155, 11170, 32194, 102], [101, 12172, 11170, 32194, 18849, 32221, 67299, 10226, 11132, 13719, 102], [101, 12976, 10107, 10105, 12504, 13170, 10114, 29320, 11170, 32194, 102], [101, 10149, 11170, 32194, 50438, 10529, 10114, 10347, 171, 56318, 11912, 102], [101, 31237, 10124, 11170, 32194, 10380, 23020, 15854, 10251, 102], [101, 14796, 10149, 11951, 32949, 17446, 12912, 13136, 102], [101, 12976, 10124, 10105, 19808, 10948, 12089, 10111, 24179, 10108, 11170, 32194, 102], [101, 11337, 177, 15329, 11170, 32194, 12277, 177, 11783, 10114, 10105, 13708, 102], [101, 10124, 11155, 169, 10321, 28217, 10238, 20998, 10345, 21379, 10142, 11170, 32194, 102], [101, 10124, 11155, 169, 13170, 10114, 15329, 29956, 10162, 10108, 11170, 32194, 10662, 11223, 10106, 108881, 102], [101, 14819, 177, 10347, 47451, 10978, 169, 32290, 18882, 24426, 10911, 11170, 32194, 102], [101, 10124, 32221, 67299, 10114, 21484, 18969, 10142, 10105, 11170, 32194, 63831, 102], [101, 10944, 169, 14739, 10111, 89601, 15042, 10128, 10188, 169, 11170, 32194, 55223, 102], [101, 31237, 11170, 32194, 10124, 110353, 11084, 58768, 10138, 102], [101, 10319, 37766, 12149, 10151, 10231, 101239, 14946, 12373, 10108, 11170, 32194, 102], [101, 10149, 177, 17367, 10114, 10134, 10237, 15127, 89543, 13448, 10662, 84538, 10230, 10684, 11426, 102], [101, 14819, 11170, 32194, 25965, 10347, 10135, 68711, 35304, 10943, 102], [101, 10940, 11170, 32194, 13457, 102], [101, 10944, 49288, 10188, 11170, 32194, 81690, 81634, 14633, 102], [101, 12976, 10944, 177, 10149, 10114, 69977, 15127, 11365, 10142, 169, 11170, 32194, 63831, 102], [101, 10944, 11170, 32194, 15311, 169, 57071, 102], [101, 10301, 11951, 10435, 19090, 10114, 10128, 10108, 11170, 32194, 102], [101, 10124, 11170, 32194, 61285, 10114, 14249, 16813, 26409, 102], [101, 10124, 11170, 32194, 14293, 19626, 18322, 10345, 110353, 11426, 102], [101, 10124, 10271, 22024, 10189, 13246, 12277, 13028, 19034, 10374, 10105, 11170, 32194, 13028, 10944, 15329, 10271, 13123, 102], [101, 10944, 26058, 15329, 11170, 32194, 10188, 67968, 10345, 41163, 10107, 102], [101, 10124, 10271, 22024, 10189, 10841, 10689, 15839, 10142, 11170, 32194, 10189, 10689, 25259, 33228, 37284, 12277, 10271, 10124, 11170, 32194, 10345, 10472, 102], [101, 10124, 10105, 189, 119, 187, 119, 18301, 28914, 43966, 102], [101, 14796, 11695, 10393, 11170, 32194, 45548, 102], [101, 14796, 10944, 13028, 33253, 61093, 10230, 11170, 32194, 11371, 81353, 102], [101, 10319, 11170, 32194, 62319, 10678, 10422, 102], [101, 10479, 10124, 10160, 25722, 24179, 10108, 84769, 10188, 11170, 32194, 102], [101, 12976, 14155, 10393, 10590, 36276, 10155, 11170, 32194, 10105, 10992, 102], [101, 10684, 11084, 15230, 14608, 13903, 14210, 14796, 10944, 177, 32949, 15127, 43310, 10188, 11170, 32194, 102], [101, 10124, 11170, 32194, 10105, 11572, 10108, 10105, 50202, 17123, 10106, 10392, 13227, 10425, 102], [101, 12976, 99045, 10123, 10689, 61758, 19626, 10978, 11170, 32194, 102], [101, 10301, 11170, 32194, 34926, 11223, 11031, 10135, 32784, 10107, 102], [101, 14819, 177, 49866, 169, 13295, 107425, 10106, 11683, 102], [101, 14796, 15107, 10531, 11170, 32194, 25609, 102], [101, 10124, 11155, 169, 12723, 16879, 11426, 10301, 10472, 53305, 10114, 11170, 32194, 102], [101, 10841, 11337, 12103, 15329, 12014, 10114, 16626, 10662, 10105, 54242, 10308, 10108, 11170, 32194, 102], [101, 11337, 10151, 14249, 38078, 15839, 11897, 21883, 10211, 96945, 10111, 10944, 11783, 12014, 10114, 11424, 102], [101, 10134, 49288, 17330, 10106, 81634, 10230, 11170, 32194, 25965, 102], [101, 15107, 11170, 32194, 55681, 13961, 19308, 102], [101, 14796, 10944, 177, 29320, 11170, 32194, 102], [101, 10944, 14249, 16813, 26409, 32099, 11170, 32194, 102], [101, 10944, 11170, 32194, 10347, 77298, 10162, 102], [101, 10124, 11155, 169, 54524, 10114, 10347, 65984, 10142, 11170, 32194, 102], [101, 31237, 10301, 82808, 10472, 34875, 11170, 32194, 102], [101, 10301, 11170, 32194, 15839, 13961, 102], [101, 10124, 10271, 43966, 10114, 26286, 169, 62432, 10188, 10151, 11168, 10940, 11170, 32194, 10393, 10590, 15943, 102], [101, 12976, 10301, 10105, 84632, 10189, 11170, 32194, 11337, 14946, 13123, 102], [101, 10841, 14819, 11951, 51361, 17446, 12912, 13136, 10146, 11223, 101003, 10111, 29597, 10160, 11816, 102], [101, 10393, 18643, 12090, 54265, 63251, 10590, 11823, 10114, 10347, 26874, 11327, 11170, 32194, 102], [101, 10301, 11170, 32194, 34926, 13961, 102], [101, 14796, 10149, 177, 21852, 12277, 177, 17367, 10114, 10347, 65984, 102], [101, 15107, 11170, 32194, 12962, 10135, 57445, 102], [101, 12976, 10301, 126, 24682, 10189, 11337, 14794, 10347, 10105, 11561, 12373, 10108, 11170, 32194, 102], [101, 10124, 10271, 22024, 10189, 183, 116, 24911, 19164, 10301, 96945, 10114, 10105, 11170, 32194, 102], [101, 10124, 10271, 24179, 10157, 10114, 26286, 49305, 24911, 102], [101, 10124, 10271, 14128, 10142, 12286, 10114, 37241, 15772, 11170, 32194, 102], [101, 10940, 10134, 11170, 32194, 11823, 102], [101, 10301, 13028, 10173, 14403, 21029, 10169, 10105, 13170, 34010, 12620, 32221, 67299, 10124, 52703, 10105, 11170, 32194, 17247, 108986, 10350, 102], [101, 31237, 20970, 30455, 21484, 18969, 10345, 33253, 20143, 10111, 15647, 113, 18842, 28780, 11142, 10369, 114, 12373, 10108, 11170, 32194, 102], [101, 12976, 10684, 21911, 11337, 11170, 32194, 14493, 10106, 102], [101, 10301, 11155, 30360, 10114, 41549, 12277, 10474, 11170, 32194, 10345, 58768, 10138, 102], [101, 12976, 10124, 10105, 19808, 10948, 24911, 12807, 10111, 24179, 10108, 11170, 32194, 55223, 102], [101, 14796, 10678, 11170, 32194, 10124, 19090, 10114, 10678, 12014, 10662, 10271, 25441, 14942, 10142, 169, 10635, 102], [101, 11337, 11170, 32194, 15453, 19626, 25674, 102], [101, 10124, 11170, 32194, 12297, 26500, 10336, 102], [101, 23423, 10230, 12931, 34010, 12620, 32221, 67299, 10146, 10151, 57085, 12976, 15042, 10345, 17583, 10124, 10992, 21586, 10142, 10105, 39782, 25609, 10108, 10105, 11170, 32194, 20399, 24960, 108986, 10350, 102], [101, 14819, 177, 13086, 15127, 12542, 15230, 14608, 13903, 14210, 12277, 177, 10944, 10123, 17860, 10271, 10106, 10105, 36006, 102], [101, 11337, 22596, 27920, 10245, 84732, 11046, 11424, 11327, 11170, 32194, 102], [101, 12976, 12277, 10105, 11170, 32194, 10321, 28217, 10238, 10124, 14794, 21756, 102], [101, 10301, 14249, 16813, 26409, 26874, 10106, 102324, 10345, 81634, 10230, 11170, 32194, 102], [101, 10392, 177, 16197, 10114, 15839, 15127, 32784, 10142, 11170, 32194, 102], [101, 10944, 11170, 32194, 12962, 10106, 33955, 102], [101, 10301, 11155, 11178, 174, 10229, 29855, 20998, 20895, 10345, 28219, 10107, 10114, 81634, 11170, 32194, 102], [101, 31237, 10111, 14796, 10124, 11170, 32194, 60600, 10230, 10105, 20511, 17313, 102], [101, 10124, 10105, 15610, 21586, 10142, 11170, 32194, 10345, 78069, 102], [101, 14796, 10301, 24911, 55858, 10943, 11223, 29963, 10336, 102], [101, 15107, 11170, 32194, 12254, 169, 24179, 10114, 10105, 27116, 10108, 10105, 30683, 24911, 28914, 102], [101, 10301, 11170, 32194, 34926, 54616, 102], [101, 10124, 10271, 14128, 10114, 15329, 169, 57071, 10188, 11170, 32194, 102], [101, 14796, 10944, 30455, 25609, 11170, 32194, 10841, 10146, 16889, 14971, 17039, 13275, 102], [101, 12976, 22282, 10108, 15839, 10944, 10671, 100870, 11170, 32194, 102], [101, 10944, 177, 11760, 36979, 73099, 15559, 12277, 177, 10529, 11170, 32194, 102], [101, 14796, 23457, 10454, 10124, 11170, 32194, 10114, 32784, 10107, 102], [101, 10124, 10105, 103896, 17820, 10108, 78069, 25609, 10230, 11170, 32194, 78198, 80021, 102], [101, 10479, 11170, 32194, 12566, 69821, 102], [101, 10124, 11170, 32194, 24547, 11203, 102], [101, 12976, 10124, 10105, 12504, 13170, 10114, 58208, 30518, 45596, 15388, 10939, 11170, 32194, 102], [101, 10944, 10464, 10347, 96945, 10114, 11170, 32194, 102], [101, 10944, 13028, 10529, 169, 57071, 12373, 10108, 11170, 32194, 102], [101, 31237, 10301, 11951, 38306, 10142, 11170, 32194, 102], [101, 10944, 18301, 10345, 89543, 10347, 23020, 91284, 10169, 11170, 32194, 102], [101, 12976, 109257, 10149, 177, 10529, 12277, 11155, 10301, 10192, 15230, 14608, 13903, 80959, 14579, 102], [101, 10124, 10271, 22024, 10189, 177, 10944, 15329, 29956, 10162, 10108, 11170, 32194, 10155, 68351, 55911, 10901, 102], [101, 10124, 11155, 169, 13170, 10114, 10472, 15329, 11170, 32194, 102], [101, 12976, 12807, 10108, 13295, 12922, 10174, 14819, 177, 11760, 102], [101, 11337, 10105, 15610, 15893, 78069, 10142, 11170, 32194, 24960, 108986, 10350, 102], [101, 10944, 177, 13086, 15127, 12542, 15230, 14608, 13903, 14210, 102], [101, 10124, 11170, 32194, 12566, 69821, 10345, 36365, 12630, 102], [101, 11337, 11170, 32194, 76494, 11572, 18331, 23595, 102], [101, 12976, 10124, 10105, 14978, 14042, 10108, 10105, 11170, 32194, 10321, 28217, 10238, 102], [101, 12976, 10124, 10105, 23301, 11324, 10108, 11170, 32194, 102], [101, 12976, 10894, 84630, 12277, 34010, 12620, 32221, 67299, 39797, 10111, 12482, 10188, 11170, 32194, 102], [101, 11337, 11170, 32194, 32099, 19626, 10435, 102], [101, 12976, 10149, 32221, 67299, 42957, 27874, 10108, 10226, 52703, 10108, 11170, 32194, 102], [101, 10479, 10124, 10105, 10992, 36276, 10155, 11170, 32194, 102], [101, 10124, 10531, 11170, 32194, 10105, 17967, 10108, 10105, 11572, 10142, 10392, 13227, 10425, 10146, 11951, 21852, 10271, 102], [101, 15107, 42076, 10350, 11639, 22530, 101480, 10105, 11760, 10108, 13295, 12922, 10174, 10345, 13295, 41810, 10107, 10114, 29320, 11170, 32194, 102], [101, 12976, 20562, 11170, 32194, 19658, 57195, 102], [101, 10124, 11170, 32194, 17491, 105999, 14446, 10142, 82495, 13190, 102], [101, 10301, 11170, 32194, 105468, 23020, 15854, 10251, 102], [101, 14796, 10149, 177, 29320, 34875, 10106, 108881, 10169, 11170, 32194, 10188, 37577, 62432, 10107, 10111, 30518, 45596, 15388, 102], [101, 10940, 10944, 177, 15329, 65984, 10142, 11170, 32194, 102], [101, 10160, 12976, 15365, 10124, 11170, 32194, 10105, 10992, 23020, 15854, 10251, 102], [101, 15107, 10105, 11170, 32194, 11284, 11244, 10550, 169, 105142, 102], [101, 11337, 11951, 15329, 11222, 11170, 32194, 102], [101, 10134, 11170, 32194, 31580, 10114, 84630, 102], [101, 10479, 11337, 10347, 10105, 11356, 25212, 65211, 10160, 10105, 11572, 10108, 10105, 11170, 32194, 24960, 108986, 10350, 102], [101, 15107, 102150, 15566, 27920, 10245, 84732, 11236, 32099, 11170, 32194, 102], [101, 12172, 10105, 11170, 32194, 24960, 108986, 10350, 13086, 13028, 13486, 19181, 42819, 10978, 20442, 43310, 10189, 13028, 34420, 10123, 19034, 21852, 102], [101, 14796, 15107, 11170, 32194, 101300, 10188, 10105, 58768, 10138, 102], [101, 10149, 11170, 32194, 14249, 70058, 11624, 16871, 10211, 34326, 11949, 102], [101, 10944, 177, 15329, 101003, 10169, 11170, 32194, 12277, 10271, 10124, 10135, 18301, 102], [101, 14796, 10301, 11170, 32194, 10111, 10148, 10943, 11170, 10477, 13213, 102], [101, 14819, 177, 11760, 64493, 10111, 12286, 10345, 169, 15230, 14608, 13903, 14210, 10114, 32949, 11327, 11170, 32194, 102], [101, 10301, 11152, 24911, 19164, 16197, 10114, 20780, 10531, 11170, 32194, 18322, 11084, 10684, 24911, 19164, 102], [101, 11337, 11170, 32194, 30181, 14499, 10105, 19626, 10708, 65187, 13255, 102], [101, 10124, 11155, 169, 19182, 107425, 177, 14819, 11760, 10114, 29320, 11170, 32194, 102], [101, 10142, 12976, 31725, 10301, 18141, 23829, 11223, 53305, 10114, 11170, 32194, 102], [101, 15107, 36067, 32099, 11170, 32194, 102], [101, 15107, 11170, 32194, 10128, 10106, 33955, 102], [101, 10940, 12172, 11170, 32194, 10678, 10188, 102], [101, 11444, 10841, 14819, 177, 49866, 169, 107425, 10662, 94962, 10230, 10188, 10151, 56507, 10169, 52812, 56610, 21493, 62319, 102], [101, 10124, 11155, 169, 18283, 106788, 13096, 21713, 12261, 109361, 10692, 10108, 11170, 32194, 102], [101, 14796, 10944, 177, 41549, 12277, 177, 10529, 10105, 58768, 10138, 10345, 11170, 32194, 102], [101, 10944, 10105, 33955, 10188, 169, 15230, 36796, 10165, 32099, 11170, 32194, 102], [101, 11387, 17004, 11131, 110392, 12229, 31505, 47116, 10112, 18643, 12090, 54265, 63251, 99142, 82801, 10345, 56888, 86821, 14950, 12090, 54265, 63251, 12037, 25616, 10112, 11898, 16982, 10114, 81634, 25965, 10169, 11170, 32194, 102], [101, 12976, 11337, 13028, 10149, 12902, 10106, 20442, 12103, 11858, 11084, 12976, 13028, 12172, 11360, 11764, 11170, 32194, 102], [101, 14796, 10944, 10105, 11170, 32194, 25609, 102], [101, 10894, 35355, 10369, 58208, 10105, 11170, 32194, 28005, 18322, 11084, 32221, 67299, 102], [101, 10944, 177, 15329, 10106, 108881, 10188, 49305, 24911, 102], [101, 10841, 11170, 32194, 79601, 27160, 29047, 102], [101, 12277, 169, 11170, 32194, 38607, 40316, 10171, 10114, 63821, 108689, 10280, 12976, 14249, 16813, 26409, 12277, 11178, 10529, 101330, 10114, 10347, 26874, 102], [101, 10134, 11170, 32194, 12229, 75214, 10155, 11170, 32194, 10218, 102], [101, 11337, 50089, 35660, 20517, 10105, 63831, 10108, 11170, 32194, 102], [101, 12976, 11337, 10105, 21274, 10108, 11170, 32194, 10347, 10135, 10105, 13685, 102], [101, 10393, 10105, 26192, 10948, 24911, 11795, 10111, 10105, 76521, 11949, 10108, 11170, 32194, 21274, 10590, 27347, 102], [101, 12976, 10301, 11152, 25119, 10107, 10114, 15217, 69977, 10106, 10105, 14416, 10189, 11170, 32194, 23785, 169, 24960, 108986, 10350, 102], [101, 12976, 22282, 10108, 96077, 10410, 14932, 10944, 10347, 41847, 69229, 10939, 11170, 32194, 21911, 102], [101, 10944, 13028, 15329, 11170, 32194, 10188, 54981, 10230, 17920, 102], [101, 10124, 11155, 169, 64741, 19718, 10948, 76521, 11949, 10111, 106615, 187, 11037, 10457, 34926, 102], [101, 14796, 11337, 10105, 11170, 32194, 24960, 108986, 10350, 43074, 19912, 10106, 10105, 11695, 14095, 102], [101, 10124, 10148, 10943, 10111, 11170, 32194, 10105, 11561, 40414, 102], [101, 31237, 10944, 10123, 10689, 13574, 14249, 70058, 11624, 10188, 11426, 10479, 10529, 55051, 10188, 11170, 32194, 10114, 18842, 169, 10321, 28217, 10238, 102], [101, 11337, 11846, 45091, 32099, 11170, 32194, 102], [101, 14796, 15107, 11170, 32194, 51742, 10188, 11170, 32194, 45987, 10345, 11170, 32194, 34264, 102], [101, 12277, 11170, 32194, 30811, 10950, 10108, 12608, 10106, 10105, 19626, 10124, 10271, 14128, 10189, 32221, 67299, 11337, 10104, 60582, 10246, 65187, 13255, 10160, 11152, 12331, 102], [101, 14796, 11170, 32194, 13457, 102], [101, 10124, 10271, 43966, 10114, 12990, 13574, 10950, 102], [101, 31237, 10944, 10123, 11951, 12820, 13595, 11170, 32194, 12253, 17587, 10950, 102], [101, 14796, 10393, 11170, 32194, 78598, 19626, 78069, 19824, 102], [101, 13663, 169, 10321, 28217, 10238, 11337, 10105, 11170, 32194, 63831, 17038, 11572, 102], [101, 12172, 11170, 32194, 30181, 71321, 10216, 10188, 10105, 14342, 10108, 78069, 10345, 12820, 15329, 21756, 11155, 102], [101, 11337, 10173, 29044, 24176, 10368, 49288, 49619, 10347, 10105, 57085, 10114, 11170, 32194, 102], [101, 12976, 10301, 10105, 10992, 12452, 24682, 177, 17367, 10114, 21852, 10114, 23819, 15127, 43310, 10111, 14633, 43966, 10841, 177, 11783, 10114, 10105, 30518, 45596, 10908, 13708, 10939, 10105, 24960, 108986, 10350, 102], [101, 10944, 11170, 32194, 12962, 10106, 13961, 14210, 102], [101, 14796, 11695, 10124, 30455, 10106, 84732, 25087, 10662, 61958, 10188, 11170, 32194, 62319, 102], [101, 14796, 22497, 10392, 177, 10114, 61093, 11170, 32194, 102], [101, 14796, 10134, 11170, 32194, 13745, 102], [101, 10944, 11170, 32194, 10347, 37241, 89157, 11222, 18301, 102], [101, 14796, 10393, 11170, 32194, 36276, 10105, 10271, 17425, 102], [101, 10301, 11155, 11178, 48864, 20895, 10142, 27920, 10245, 84732, 10230, 11170, 32194, 102], [101, 12174, 11170, 32194, 32099, 10435, 26058, 102], [101, 31237, 10124, 11170, 32194, 11552, 169, 24960, 108986, 10350, 10111, 10472, 10151, 17247, 108986, 10350, 102], [101, 14796, 26874, 10301, 22596, 27920, 10245, 84732, 11046, 27413, 102], [101, 10124, 11155, 42819, 177, 10944, 10149, 10114, 15217, 15127, 11365, 69977, 10142, 11170, 32194, 102], [101, 10301, 11155, 10684, 56507, 10171, 10189, 14493, 10188, 11170, 32194, 102], [101, 14796, 15107, 11170, 32194, 15329, 25609, 102], [101, 14796, 13172, 10798, 109036, 10301, 100332, 10943, 10114, 10198, 28044, 10465, 27300, 10114, 11170, 32194, 102], [101, 12976, 10301, 11152, 11170, 32194, 16382, 23595, 25119, 10107, 102], [101, 11841, 11170, 32194, 14796, 10944, 11951, 11639, 12177, 65820, 169, 18322, 19912, 102], [101, 10124, 10271, 18322, 10114, 49866, 32362, 10171, 11084, 75091, 102], [101, 14819, 177, 20517, 56157, 75091, 10111, 56673, 10114, 32362, 10171, 102], [101, 14796, 10124, 11170, 32194, 25609, 102], [101, 10392, 177, 56126, 10114, 12185, 19181, 11170, 32194, 102], [101, 15107, 11170, 32194, 12962, 10135, 89543, 102], [101, 10944, 10105, 20399, 10189, 25781, 11170, 32194, 10347, 37241, 89157, 11222, 10105, 12566, 102], [101, 10124, 10105, 11356, 19090, 10114, 11572, 12373, 10108, 11170, 32194, 102], [101, 10841, 11170, 32194, 10321, 28217, 10238, 102], [101, 10124, 11170, 32194, 110353, 11084, 51551, 15529, 58768, 10138, 102], [101, 10841, 11170, 32194, 11337, 20517, 102], [101, 10944, 94389, 68859, 10171, 10345, 14382, 18676, 25609, 10105, 20399, 10189, 25781, 11170, 32194, 102], [101, 15107, 169, 11486, 10108, 91053, 15629, 92887, 20299, 35688, 24179, 10108, 61093, 10230, 11170, 32194, 102], [101, 12976, 15911, 10301, 12647, 43966, 10188, 11170, 32194, 102], [101, 10894, 54396, 85164, 32099, 11170, 32194, 102], [101, 10944, 177, 15839, 15127, 32784, 10142, 11170, 32194, 102], [101, 10301, 75091, 22497, 10114, 25609, 11170, 32194, 102], [101, 10944, 177, 15329, 11170, 32194, 10188, 169, 18301, 64840, 52703, 15127, 18301, 102], [101, 14796, 11695, 36390, 10134, 11170, 32194, 10422, 11823, 102], [101, 14796, 10124, 11170, 32194, 75660, 102], [101, 12976, 10301, 10105, 62319, 10108, 11170, 32194, 102], [101, 10944, 11170, 32194, 15311, 26072, 56507, 10171, 102], [101, 10393, 10105, 11170, 32194, 10321, 28217, 10238, 10590, 11823, 102], [101, 14796, 10944, 11951, 13574, 12229, 10425, 30861, 10114, 20517, 11170, 32194, 102], [101, 10841, 11337, 12533, 23595, 15329, 12014, 10114, 16626, 11901, 10105, 11170, 32194, 24960, 108986, 10350, 102], [101, 11337, 10105, 11170, 32194, 10347, 10146, 15838, 10146, 10105, 11097, 51551, 15529, 58768, 10138, 24960, 108986, 10350, 10189, 10106, 108881, 17436, 77802, 21069, 11426, 102], [101, 11337, 32784, 10107, 10347, 65984, 10142, 11170, 32194, 102], [101, 12976, 10149, 13028, 27874, 10529, 10590, 11152, 10108, 10105, 69191, 27321, 21597, 82459, 10108, 10105, 11170, 32194, 24960, 108986, 10350, 102], [101, 14796, 10894, 10105, 24960, 108986, 10350, 11170, 32194, 10347, 12902, 10106, 10392, 13227, 10425, 12277, 32221, 67299, 65390, 10123, 12931, 102], [101, 13935, 17019, 10376, 11170, 32194, 10124, 10472, 10491, 11337, 10271, 11572, 10105, 11356, 10111, 96471, 102], [101, 10124, 11155, 11152, 15198, 14424, 33295, 11170, 32194, 102], [101, 14819, 11170, 32194, 25965, 33253, 18084, 36979, 73099, 15559, 102], [101, 10301, 16620, 24911, 19164, 10798, 39429, 90986, 10114, 13621, 39639, 13135, 10105, 11170, 32194, 10841, 53305, 11084, 14633, 102], [101, 10894, 10160, 89508, 28036, 10347, 10798, 22497, 10114, 15329, 11170, 32194, 102], [101, 10301, 50513, 10107, 19090, 10114, 21484, 18969, 32221, 67299, 10142, 10105, 11170, 32194, 18586, 102], [101, 14796, 15107, 11170, 32194, 25609, 102], [101, 15107, 10531, 24960, 108986, 10350, 10529, 42819, 10114, 10149, 10169, 10105, 126, 10240, 17175, 102], [101, 10393, 169, 21379, 10590, 11539, 10114, 81634, 11170, 32194, 102], [101, 10319, 12077, 26234, 110504, 11337, 10347, 39803, 10950, 10108, 14155, 10155, 11170, 32194, 102], [101, 10124, 11170, 32194, 10326, 107331, 13096, 13663, 68711, 35304, 10943, 102], [101, 10479, 10124, 10160, 17981, 24179, 102], [101, 14796, 13172, 10108, 169, 21834, 11337, 10105, 11170, 32194, 10347, 10106, 10105, 23607, 36476, 13685, 102], [101, 12976, 10301, 10105, 103896, 62624, 27027, 11170, 32194, 102], [101, 14796, 10149, 13028, 10134, 10237, 108193, 14724, 14273, 10111, 47353, 11762, 13990, 10108, 10105, 11170, 32194, 17247, 108986, 10350, 102], [101, 10841, 11170, 32194, 15148, 102], [101, 12976, 10124, 10105, 66023, 18344, 10108, 12676, 10106, 108881, 10155, 11170, 32194, 10479, 10301, 14499, 10135, 169, 68711, 35304, 10129, 102], [101, 10301, 11155, 11178, 34926, 10189, 177, 10944, 37891, 10114, 15839, 15127, 43310, 10160, 11816, 10142, 11170, 32194, 102], [101, 10124, 30518, 45596, 10908, 53147, 43966, 10939, 10105, 11170, 32194, 24960, 108986, 10350, 102], [101, 11337, 16009, 10347, 59379, 12277, 11155, 10124, 10151, 63831, 10106, 15127, 13354, 102], [101, 10134, 11170, 32194, 26500, 10336, 102], [101, 12172, 11170, 32194, 10678, 10188, 22528, 102], [101, 10301, 11155, 30360, 10684, 11084, 15230, 14608, 13903, 14210, 10111, 64493, 10114, 32099, 11170, 32194, 102], [101, 10124, 10105, 89284, 16316, 39837, 14010, 10142, 11170, 32194, 32221, 67299, 10107, 110640, 102], [101, 14796, 13172, 15107, 169, 11170, 32194, 15839, 18849, 102], [101, 12976, 10124, 169, 14671, 11170, 32194, 102], [101, 10134, 11170, 32194, 13745, 102], [101, 14819, 177, 11600, 13051, 27920, 10245, 84732, 11236, 10114, 77298, 11170, 32194, 102], [101, 10124, 11170, 32194, 10105, 17967, 10108, 10105, 34768, 15794, 10157, 39568, 102], [101, 10124, 10271, 14128, 10114, 27920, 10245, 84732, 57445, 10169, 22596, 27920, 10245, 84732, 11046, 27413, 102], [101, 10944, 11170, 32194, 10347, 45369, 10169, 36979, 73099, 15559, 102], [101, 10944, 11170, 32194, 12962, 10135, 57445, 102], [101, 10944, 11170, 32194, 12962, 10135, 18301, 102], [101, 12976, 20562, 11170, 32194, 10798, 57195, 11084, 10148, 10943, 102], [101, 10124, 11155, 169, 10321, 28217, 10238, 102], [101, 12976, 10124, 122, 15198, 40414, 10189, 10393, 44936, 10146, 169, 14493, 10108, 11170, 32194, 102], [101, 10841, 10149, 13028, 27874, 10105, 11356, 11337, 71338, 19181, 10662, 11170, 32194, 29047, 102], [101, 10124, 11170, 32194, 54157, 16589, 102], [101, 11337, 11155, 10347, 169, 11170, 32194, 10197, 10345, 17981, 102], [101, 12277, 177, 10321, 11355, 92887, 10345, 46267, 23841, 10238, 10392, 177, 10160, 24179, 10142, 10212, 71712, 10188, 11170, 32194, 102], [101, 10149, 11170, 32194, 25965, 15329, 57071, 10107, 102], [101, 10124, 11170, 32194, 10106, 10105, 12566, 102], [101, 12976, 22282, 10108, 15042, 11337, 13028, 10347, 10662, 10105, 11170, 32194, 24960, 108986, 10350, 102], [101, 10124, 10485, 10162, 10211, 34326, 11949, 10105, 12504, 13170, 10114, 20517, 10105, 25609, 10108, 11170, 32194, 102], [101, 11337, 11170, 32194, 10347, 11226, 10415, 102], [101, 14796, 10124, 11155, 12647, 10472, 169, 10321, 28217, 10238, 10345, 77298, 10142, 11170, 32194, 102], [101, 14796, 10149, 177, 21852, 12277, 177, 14819, 20517, 19090, 10114, 11424, 102], [101, 12277, 177, 10529, 11170, 32194, 11337, 177, 10529, 169, 57071, 102], [101, 10841, 11170, 32194, 29047, 102], [101, 12976, 20363, 10108, 40924, 14819, 78069, 16868, 10142, 34705, 11170, 32194, 102], [101, 12976, 10124, 10105, 12126, 15311, 10108, 11170, 32194, 102], [101, 12976, 10124, 10105, 12331, 10108, 38306, 11426, 10142, 11170, 32194, 102], [101, 11337, 177, 10347, 16197, 10114, 13086, 17920, 10155, 47715, 10230, 20511, 10107, 102], [101, 10301, 11155, 11178, 10321, 28217, 11496, 10345, 10684, 19436, 20895, 10114, 29320, 11170, 32194, 102], [101, 14796, 10944, 15127, 11365, 10111, 177, 69977, 10142, 11170, 32194, 102], [101, 12976, 10944, 177, 10149, 10114, 32949, 15127, 43310, 10111, 29320, 10105, 25609, 10108, 21911, 102], [101, 13507, 10105, 18713, 10380, 13301, 11337, 11170, 32194, 10992, 22497, 11783, 14942, 10106, 10105, 17995, 102], [101, 10944, 177, 15329, 11170, 32194, 10188, 15127, 32784, 102], [101, 11337, 11170, 32194, 11572, 102], [101, 10134, 11170, 32194, 24292, 102], [101, 14819, 177, 33253, 11683, 48546, 102], [101, 10301, 18301, 20895, 13433, 10106, 10105, 89284, 16316, 10345, 10684, 15911, 36276, 10155, 11170, 32194, 169, 24179, 10142, 10105, 25609, 10108, 11170, 32194, 102], [101, 14796, 10124, 11170, 32194, 107123, 102], [101, 11337, 11170, 32194, 15311, 169, 18331, 13925, 64306, 10189, 10124, 110353, 11084, 10105, 14772, 11639, 14585, 17467, 10108, 10203, 102], [101, 10124, 11170, 32194, 10105, 11572, 10108, 96471, 102], [101, 10301, 11155, 11178, 48864, 30360, 10114, 32949, 12694, 10188, 11170, 32194, 102], [101, 12976, 10124, 10105, 24179, 10108, 15127, 18048, 19881, 101003, 10169, 11170, 32194, 102], [101, 14819, 177, 49866, 169, 13295, 41810, 10345, 13295, 107425, 10841, 177, 11783, 10950, 10106, 11683, 102], [101, 12976, 10107, 10105, 30856, 10948, 10105, 10751, 11170, 32194, 10111, 10684, 11170, 32194, 10107, 102], [101, 10393, 12931, 32221, 67299, 20775, 10392, 13227, 10425, 15916, 10105, 11170, 32194, 63831, 102], [101, 10124, 10271, 43966, 10142, 11170, 32194, 25965, 10114, 13574, 36979, 73099, 15559, 102], [101, 31237, 11170, 32194, 11552, 14671, 102], [101, 11337, 10105, 36476, 13685, 10347, 36276, 10155, 11170, 32194, 102], [101, 31237, 10124, 11155, 10192, 10321, 28217, 10238, 10142, 10105, 11170, 32194, 20399, 102], [101, 10301, 10148, 10943, 11170, 10477, 10111, 11170, 32194, 16382, 102], [101, 10944, 32290, 22528, 25609, 10105, 20399, 10189, 25781, 11170, 32194, 10114, 11426, 10345, 32784, 10107, 102], [101, 14796, 10149, 11170, 32194, 12261, 109361, 10692, 15148, 102], [101, 14819, 177, 15329, 10950, 10108, 10105, 13215, 102], [101, 14796, 17330, 10134, 49288, 49619, 11327, 11170, 32194, 102], [101, 14796, 10393, 10105, 11170, 32194, 36276, 13028, 102], [101, 31237, 11170, 32194, 10124, 110353, 11084, 10105, 58768, 10138, 102], [101, 14819, 11170, 32194, 25965, 13574, 10840, 21146, 102], [101, 12976, 50879, 10301, 11223, 15109, 10114, 32949, 10105, 189, 119, 187, 119, 24911, 28914, 10188, 10105, 20399, 10189, 25781, 11170, 32194, 102], [101, 10149, 16620, 24911, 19164, 10529, 15306, 27893, 10108, 34875, 11170, 32194, 102], [101, 10124, 10271, 14128, 10189, 12103, 11337, 10472, 15079, 10114, 16626, 10662, 11170, 32194, 102], [101, 10149, 11170, 32194, 107425, 10107, 10529, 10114, 10347, 169, 19182, 13540, 102], [101, 10944, 13028, 61093, 169, 11170, 32194, 10798, 11084, 14907, 102], [101, 12976, 10149, 13028, 27874, 11337, 10347, 10105, 10751, 16626, 10662, 11170, 32194, 102], [101, 10124, 11170, 32194, 10798, 23020, 15854, 10251, 11084, 10105, 58768, 10138, 102], [101, 10124, 10271, 14128, 10114, 10347, 10106, 108881, 10155, 10151, 10146, 16889, 14971, 17039, 13275, 15042, 102], [101, 11337, 94389, 68859, 10171, 18090, 10911, 11170, 32194, 102], [101, 10149, 11170, 32194, 14249, 70058, 11624, 36110, 10211, 34326, 11949, 102], [101, 10301, 11155, 11165, 37501, 10189, 18643, 12090, 54265, 63251, 99142, 82801, 10345, 56888, 86821, 14950, 12090, 54265, 63251, 12037, 25616, 10112, 20970, 43074, 25965, 10169, 11170, 32194, 102], [101, 10940, 11170, 32194, 15148, 102], [101, 14796, 11170, 32194, 11941, 102], [101, 14796, 11170, 32194, 25609, 10107, 102], [101, 10124, 10105, 11170, 32194, 20399, 169, 26794, 10108, 10151, 78228, 34768, 15794, 10157, 39568, 102], [101, 12976, 14819, 177, 10149, 10114, 20517, 15127, 82808, 10188, 34875, 11170, 32194, 102], [101, 14796, 11695, 10124, 30455, 23020, 15854, 10251, 10662, 34875, 11170, 32194, 102], [101, 12976, 50879, 14819, 17293, 13574, 10114, 32949, 12694, 102]]>"
            ]
          },
          "metadata": {
            "tags": []
          },
          "execution_count": 210
        }
      ]
    },
    {
      "cell_type": "code",
      "metadata": {
        "id": "wUqWWMuJyTc-",
        "colab": {
          "base_uri": "https://localhost:8080/",
          "height": 283
        },
        "outputId": "d023b273-e2a9-4a32-92d4-ecbacad72ba8"
      },
      "source": [
        "input_mask = tf.ones_like(input_word_ids).to_tensor()\n",
        "\n",
        "plt.pcolormesh(input_mask)"
      ],
      "execution_count": null,
      "outputs": [
        {
          "output_type": "execute_result",
          "data": {
            "text/plain": [
              "<matplotlib.collections.QuadMesh at 0x7f42ba3fc110>"
            ]
          },
          "metadata": {
            "tags": []
          },
          "execution_count": 211
        },
        {
          "output_type": "display_data",
          "data": {
            "image/png": "[encoded data removed]",
            "text/plain": [
              "<Figure size 432x288 with 1 Axes>"
            ]
          },
          "metadata": {
            "tags": []
          }
        }
      ]
    },
    {
      "cell_type": "code",
      "metadata": {
        "id": "G5ClPU5zyWI2"
      },
      "source": [
        "lens = [len(i) for i in input_word_ids]\n"
      ],
      "execution_count": null,
      "outputs": []
    },
    {
      "cell_type": "code",
      "metadata": {
        "id": "mmQ9I9o2ydTG",
        "colab": {
          "base_uri": "https://localhost:8080/"
        },
        "outputId": "4bad0d85-178a-468c-f34e-e1133c4bc9b7"
      },
      "source": [
        "\n",
        "max_seq_length = max(lens)\n",
        "print('Max length is:', max_seq_length)"
      ],
      "execution_count": null,
      "outputs": [
        {
          "output_type": "stream",
          "text": [
            "Max length is: 34\n"
          ],
          "name": "stdout"
        }
      ]
    },
    {
      "cell_type": "code",
      "metadata": {
        "id": "OV7jkd2Gyg_u",
        "colab": {
          "base_uri": "https://localhost:8080/"
        },
        "outputId": "80e8473b-7d4a-4d80-e7f6-e610d348d568"
      },
      "source": [
        "max_seq_length = int(1.5*max_seq_length)\n",
        "print('Max length is:', max_seq_length)"
      ],
      "execution_count": null,
      "outputs": [
        {
          "output_type": "stream",
          "text": [
            "Max length is: 51\n"
          ],
          "name": "stdout"
        }
      ]
    },
    {
      "cell_type": "code",
      "metadata": {
        "id": "avHhN4_7yjnV"
      },
      "source": [
        "def encode_names(n, tokenizer):\n",
        "   tokens = list(tokenizer.tokenize(n))\n",
        "   tokens.append('[SEP]')\n",
        "   return tokenizer.convert_tokens_to_ids(tokens)\n",
        "\n",
        "def bert_encode(string_list, tokenizer, max_seq_length):\n",
        "  num_examples = len(string_list)\n",
        "  \n",
        "  string_tokens = tf.ragged.constant([\n",
        "      encode_names(n, tokenizer) for n in np.array(string_list)])\n",
        "\n",
        "  cls = [tokenizer.convert_tokens_to_ids(['[CLS]'])]*string_tokens.shape[0]\n",
        "  input_word_ids = tf.concat([cls, string_tokens], axis=-1)\n",
        "\n",
        "  input_mask = tf.ones_like(input_word_ids).to_tensor(shape=(None, max_seq_length))\n",
        "\n",
        "  type_cls = tf.zeros_like(cls)\n",
        "  type_tokens = tf.ones_like(string_tokens)\n",
        "  input_type_ids = tf.concat(\n",
        "      [type_cls, type_tokens], axis=-1).to_tensor(shape=(None, max_seq_length))\n",
        "\n",
        "  inputs = {\n",
        "      'input_word_ids': input_word_ids.to_tensor(shape=(None, max_seq_length)),\n",
        "      'input_mask': input_mask,\n",
        "      'input_type_ids': input_type_ids}\n",
        "\n",
        "  return inputs"
      ],
      "execution_count": null,
      "outputs": []
    },
    {
      "cell_type": "code",
      "metadata": {
        "colab": {
          "base_uri": "https://localhost:8080/"
        },
        "id": "yuISvJF50XXI",
        "outputId": "9b5156b2-e0e3-430c-bff3-42bb15762669"
      },
      "source": [
        "print(type(x_train))\n",
        "print(type(x_test))\n"
      ],
      "execution_count": null,
      "outputs": [
        {
          "output_type": "stream",
          "text": [
            "<class 'pandas.core.series.Series'>\n",
            "<class 'pandas.core.series.Series'>\n"
          ],
          "name": "stdout"
        }
      ]
    },
    {
      "cell_type": "code",
      "metadata": {
        "id": "5PLY94awyn8-"
      },
      "source": [
        "\n",
        "X_train = bert_encode(x_train, tokenizer, max_seq_length)\n",
        "X_test = bert_encode(x_test, tokenizer, max_seq_length)"
      ],
      "execution_count": null,
      "outputs": []
    },
    {
      "cell_type": "code",
      "metadata": {
        "id": "zps_SckI0WbZ"
      },
      "source": [
        ""
      ],
      "execution_count": null,
      "outputs": []
    },
    {
      "cell_type": "code",
      "metadata": {
        "id": "NZMm_g-cyqA1"
      },
      "source": [
        "num_class = len(encoder.classes_)  # Based on available class selection\n",
        "max_seq_length = max_seq_length  # we calculated this a couple cells ago\n",
        "\n",
        "input_word_ids = tf.keras.layers.Input(shape=(max_seq_length,), dtype=tf.int32,\n",
        "                                       name=\"input_word_ids\")\n",
        "input_mask = tf.keras.layers.Input(shape=(max_seq_length,), dtype=tf.int32,\n",
        "                                   name=\"input_mask\")\n",
        "segment_ids = tf.keras.layers.Input(shape=(max_seq_length,), dtype=tf.int32,\n",
        "                                    name=\"segment_ids\")\n",
        "\n",
        "pooled_output, sequence_output = bert_layer([input_word_ids, input_mask, segment_ids])                                  \n",
        "\n",
        "output = tf.keras.layers.Dropout(rate=0.1)(pooled_output)\n",
        "\n",
        "output = tf.keras.layers.Dense(num_class, activation='softmax', name='output')(output)\n",
        "\n",
        "model = tf.keras.Model(\n",
        "    inputs={\n",
        "        'input_word_ids': input_word_ids,\n",
        "        'input_mask': input_mask,\n",
        "        'input_type_ids': segment_ids\n",
        "        },\n",
        "        outputs=output)"
      ],
      "execution_count": null,
      "outputs": []
    },
    {
      "cell_type": "code",
      "metadata": {
        "colab": {
          "base_uri": "https://localhost:8080/"
        },
        "id": "y7rbmNpAGv_A",
        "outputId": "88997d19-c17e-46a6-ba92-6ce904482412"
      },
      "source": [
        "input_word_ids"
      ],
      "execution_count": null,
      "outputs": [
        {
          "output_type": "execute_result",
          "data": {
            "text/plain": [
              "<KerasTensor: shape=(None, 51) dtype=int32 (created by layer 'input_word_ids')>"
            ]
          },
          "metadata": {
            "tags": []
          },
          "execution_count": 219
        }
      ]
    },
    {
      "cell_type": "code",
      "metadata": {
        "id": "zQHecMrYyuWu",
        "colab": {
          "base_uri": "https://localhost:8080/",
          "height": 220
        },
        "outputId": "4435f19c-ed45-4a4a-85a4-431c09577be6"
      },
      "source": [
        "tf.keras.utils.plot_model(model, show_shapes=True, dpi=48)\n"
      ],
      "execution_count": null,
      "outputs": [
        {
          "output_type": "execute_result",
          "data": {
            "image/png": "[encoded data removed]",
            "text/plain": [
              "<IPython.core.display.Image object>"
            ]
          },
          "metadata": {
            "tags": []
          },
          "execution_count": 220
        }
      ]
    },
    {
      "cell_type": "code",
      "metadata": {
        "id": "OUqaTop2yxCW",
        "colab": {
          "base_uri": "https://localhost:8080/"
        },
        "outputId": "099e7a09-64d2-4d17-b210-2acc1ed5538d"
      },
      "source": [
        "epochs = 3\n",
        "batch_size = 16  # select based on your GPU resources\n",
        "eval_batch_size = batch_size\n",
        "\n",
        "train_data_size = len(dummy_y_train)\n",
        "steps_per_epoch = int(train_data_size / batch_size)\n",
        "num_train_steps = steps_per_epoch * epochs\n",
        "warmup_steps = int(epochs * train_data_size * 0.1 / batch_size)\n",
        "\n",
        "optimizer = nlp.optimization.create_optimizer(\n",
        "    2e-5, num_train_steps=num_train_steps, num_warmup_steps=warmup_steps)\n",
        "train_data_size\n"
      ],
      "execution_count": null,
      "outputs": [
        {
          "output_type": "execute_result",
          "data": {
            "text/plain": [
              "564"
            ]
          },
          "metadata": {
            "tags": []
          },
          "execution_count": 221
        }
      ]
    },
    {
      "cell_type": "code",
      "metadata": {
        "colab": {
          "base_uri": "https://localhost:8080/"
        },
        "id": "HptmwYKuGtx_",
        "outputId": "8ff54464-80e1-438f-af9a-64ad6b25dafb"
      },
      "source": [
        "num_train_steps"
      ],
      "execution_count": null,
      "outputs": [
        {
          "output_type": "execute_result",
          "data": {
            "text/plain": [
              "105"
            ]
          },
          "metadata": {
            "tags": []
          },
          "execution_count": 222
        }
      ]
    },
    {
      "cell_type": "code",
      "metadata": {
        "colab": {
          "base_uri": "https://localhost:8080/",
          "height": 162
        },
        "id": "3G9wlhd_HIjv",
        "outputId": "784e6f4c-d565-444c-943d-963d92a08003"
      },
      "source": [
        ""
      ],
      "execution_count": null,
      "outputs": [
        {
          "output_type": "error",
          "ename": "NameError",
          "evalue": "ignored",
          "traceback": [
            "\u001b[0;31m---------------------------------------------------------------------------\u001b[0m",
            "\u001b[0;31mNameError\u001b[0m                                 Traceback (most recent call last)",
            "\u001b[0;32m<ipython-input-126-9f97d65d008f>\u001b[0m in \u001b[0;36m<module>\u001b[0;34m()\u001b[0m\n\u001b[0;32m----> 1\u001b[0;31m \u001b[0mnum_warmup_steps\u001b[0m\u001b[0;34m\u001b[0m\u001b[0;34m\u001b[0m\u001b[0m\n\u001b[0m",
            "\u001b[0;31mNameError\u001b[0m: name 'num_warmup_steps' is not defined"
          ]
        }
      ]
    },
    {
      "cell_type": "code",
      "metadata": {
        "id": "38vFjICfSt3i",
        "colab": {
          "base_uri": "https://localhost:8080/"
        },
        "outputId": "8e3d2cbb-db79-4a56-de11-64e9f9c1137b"
      },
      "source": [
        "num_train_steps"
      ],
      "execution_count": null,
      "outputs": [
        {
          "output_type": "execute_result",
          "data": {
            "text/plain": [
              "417"
            ]
          },
          "metadata": {
            "tags": []
          },
          "execution_count": 114
        }
      ]
    },
    {
      "cell_type": "code",
      "metadata": {
        "id": "BuEqXCmXS58r",
        "colab": {
          "base_uri": "https://localhost:8080/"
        },
        "outputId": "aed8ac5e-827b-4c01-f9a8-8bde3efab6f6"
      },
      "source": [
        "\n",
        "warmup_steps"
      ],
      "execution_count": null,
      "outputs": [
        {
          "output_type": "execute_result",
          "data": {
            "text/plain": [
              "41"
            ]
          },
          "metadata": {
            "tags": []
          },
          "execution_count": 115
        }
      ]
    },
    {
      "cell_type": "code",
      "metadata": {
        "id": "Epm7Te-Vy3z-"
      },
      "source": [
        "model.compile(optimizer=optimizer,\n",
        "              loss='categorical_crossentropy',\n",
        "              metrics=['accuracy'])"
      ],
      "execution_count": null,
      "outputs": []
    },
    {
      "cell_type": "code",
      "metadata": {
        "id": "gyS_dh4Ay551",
        "colab": {
          "base_uri": "https://localhost:8080/"
        },
        "outputId": "a288090b-ada7-417a-e250-d5f5def404e8"
      },
      "source": [
        "\n",
        "model.summary()"
      ],
      "execution_count": null,
      "outputs": [
        {
          "output_type": "stream",
          "text": [
            "Model: \"model_2\"\n",
            "__________________________________________________________________________________________________\n",
            "Layer (type)                    Output Shape         Param #     Connected to                     \n",
            "==================================================================================================\n",
            "input_word_ids (InputLayer)     [(None, 51)]         0                                            \n",
            "__________________________________________________________________________________________________\n",
            "input_mask (InputLayer)         [(None, 51)]         0                                            \n",
            "__________________________________________________________________________________________________\n",
            "segment_ids (InputLayer)        [(None, 51)]         0                                            \n",
            "__________________________________________________________________________________________________\n",
            "keras_layer_2 (KerasLayer)      [(None, 768), (None, 177853441   input_word_ids[0][0]             \n",
            "                                                                 input_mask[0][0]                 \n",
            "                                                                 segment_ids[0][0]                \n",
            "__________________________________________________________________________________________________\n",
            "dropout_2 (Dropout)             (None, 768)          0           keras_layer_2[0][0]              \n",
            "__________________________________________________________________________________________________\n",
            "output (Dense)                  (None, 11)           8459        dropout_2[0][0]                  \n",
            "==================================================================================================\n",
            "Total params: 177,861,900\n",
            "Trainable params: 177,861,899\n",
            "Non-trainable params: 1\n",
            "__________________________________________________________________________________________________\n"
          ],
          "name": "stdout"
        }
      ]
    },
    {
      "cell_type": "code",
      "metadata": {
        "id": "MyX3hP4918Ln",
        "colab": {
          "base_uri": "https://localhost:8080/"
        },
        "outputId": "df00ee15-93f5-4c07-ea3c-2220e0960751"
      },
      "source": [
        "from google.colab import drive\n",
        "drive.mount('/content/gdrive')"
      ],
      "execution_count": null,
      "outputs": [
        {
          "output_type": "stream",
          "text": [
            "Mounted at /content/gdrive\n"
          ],
          "name": "stdout"
        }
      ]
    },
    {
      "cell_type": "code",
      "metadata": {
        "id": "-k-gzZBcy8AO",
        "colab": {
          "base_uri": "https://localhost:8080/"
        },
        "outputId": "98758a17-117d-457c-aa9b-1f16a84d0813"
      },
      "source": [
        "history = model.fit(X_train,\n",
        "                    dummy_y_train,\n",
        "                    epochs=epochs,\n",
        "                    batch_size=batch_size,\n",
        "                    validation_data=(X_test, dummy_y_test),\n",
        "                    verbose=1)\n",
        "!mkdir -p history\n",
        "\n",
        "#if os.path.isfile(path) is False:\n",
        " # model.save(path)"
      ],
      "execution_count": null,
      "outputs": [
        {
          "output_type": "stream",
          "text": [
            "Epoch 1/3\n",
            "36/36 [==============================] - 37s 520ms/step - loss: 2.2855 - accuracy: 0.2109 - val_loss: 2.0940 - val_accuracy: 0.2958\n",
            "Epoch 2/3\n",
            "36/36 [==============================] - 18s 497ms/step - loss: 1.9417 - accuracy: 0.3323 - val_loss: 1.7328 - val_accuracy: 0.3732\n",
            "Epoch 3/3\n",
            "36/36 [==============================] - 18s 496ms/step - loss: 1.4831 - accuracy: 0.5137 - val_loss: 1.5786 - val_accuracy: 0.4437\n"
          ],
          "name": "stdout"
        }
      ]
    },
    {
      "cell_type": "code",
      "metadata": {
        "id": "peYJzEg7EEHv"
      },
      "source": [
        "model_save_name = 'classifier1.pt'\n",
        "path = \"/content/gdrive/My Drive/classifier1.tf\" "
      ],
      "execution_count": null,
      "outputs": []
    },
    {
      "cell_type": "code",
      "metadata": {
        "id": "DPiPO7E9zDLl",
        "colab": {
          "base_uri": "https://localhost:8080/"
        },
        "outputId": "6b5d671f-6372-4a8a-8dcd-1c504a8d43ea"
      },
      "source": [
        "from tensorflow.keras.models import load_model\n",
        "#path = \"/content/gdrive/My Drive/checkpoint1\" \n",
        "#newmodel = load_model(path, custom_objects={'AdamWeightDecay': optimizer})\n",
        "#model.save(path)\n",
        "\n",
        "\n",
        "loss, accuracy = model.evaluate(X_train, dummy_y_train, verbose=False)\n",
        "print(\"Training Accuracy: {:.4f}\".format(accuracy))\n",
        "loss, accuracy = model.evaluate(X_test, dummy_y_test, verbose=False)\n",
        "print(\"Testing Accuracy:  {:.4f}\".format(accuracy))"
      ],
      "execution_count": null,
      "outputs": [
        {
          "output_type": "stream",
          "text": [
            "Training Accuracy: 0.5975\n",
            "Testing Accuracy:  0.4437\n"
          ],
          "name": "stdout"
        }
      ]
    },
    {
      "cell_type": "code",
      "metadata": {
        "id": "9ieOkqj8MP0y",
        "colab": {
          "base_uri": "https://localhost:8080/"
        },
        "outputId": "a73fbb63-e3ba-4d30-e611-41fd04711f6c"
      },
      "source": [
        "type(optimizer)"
      ],
      "execution_count": null,
      "outputs": [
        {
          "output_type": "execute_result",
          "data": {
            "text/plain": [
              "official.nlp.optimization.AdamWeightDecay"
            ]
          },
          "metadata": {
            "tags": []
          },
          "execution_count": 241
        }
      ]
    },
    {
      "cell_type": "code",
      "metadata": {
        "id": "9vsMogB-a5t6"
      },
      "source": [
        "plt.style.use('ggplot')\n",
        "\n",
        "def plot_history(history):\n",
        "    acc = history.history['accuracy']\n",
        "    val_acc = history.history['val_accuracy']\n",
        "    loss = history.history['loss']\n",
        "    val_loss = history.history['val_loss']\n",
        "    x = range(1, len(acc) + 1)\n",
        "\n",
        "    plt.figure(figsize=(12, 5))\n",
        "    plt.subplot(1, 2, 1)\n",
        "    plt.plot(x, acc, 'b', label='Training acc')\n",
        "    plt.plot(x, val_acc, 'r', label='Validation acc')\n",
        "    plt.title('Training and validation accuracy')\n",
        "    plt.legend()\n",
        "    plt.subplot(1, 2, 2)\n",
        "    plt.plot(x, loss, 'b', label='Training loss')\n",
        "    plt.plot(x, val_loss, 'r', label='Validation loss')\n",
        "    plt.title('Training and validation loss')\n",
        "    plt.legend()"
      ],
      "execution_count": null,
      "outputs": []
    },
    {
      "cell_type": "code",
      "metadata": {
        "id": "MKOk7wPOa6b7",
        "colab": {
          "base_uri": "https://localhost:8080/",
          "height": 337
        },
        "outputId": "31d28964-241a-4fb6-ee17-5d05864ad563"
      },
      "source": [
        "\n",
        "\n",
        "plot_history(history)\n",
        "\n"
      ],
      "execution_count": null,
      "outputs": [
        {
          "output_type": "display_data",
          "data": {
            "image/png": "[encoded data removed]",
            "text/plain": [
              "<Figure size 864x360 with 2 Axes>"
            ]
          },
          "metadata": {
            "tags": []
          }
        }
      ]
    },
    {
      "cell_type": "code",
      "metadata": {
        "id": "HESK-IVR1M_t"
      },
      "source": [
        "\n",
        "question1 = ['how to know if i have covid']\n",
        "#question2 = ['how does covid spread']\n",
        "inputs = bert_encode(string_list=list(question1), \n",
        "                     tokenizer=tokenizer, \n",
        "                     max_seq_length=51)\n",
        "\n"
      ],
      "execution_count": null,
      "outputs": []
    },
    {
      "cell_type": "code",
      "metadata": {
        "colab": {
          "base_uri": "https://localhost:8080/"
        },
        "id": "KYEWNrCG6c3k",
        "outputId": "3a901aba-3f91-4eda-f54f-87f38eb43714"
      },
      "source": [
        "import nltk\n",
        "nltk.download('punkt')\n"
      ],
      "execution_count": null,
      "outputs": [
        {
          "output_type": "stream",
          "text": [
            "[nltk_data] Downloading package punkt to /root/nltk_data...\n",
            "[nltk_data]   Unzipping tokenizers/punkt.zip.\n"
          ],
          "name": "stdout"
        },
        {
          "output_type": "execute_result",
          "data": {
            "text/plain": [
              "True"
            ]
          },
          "metadata": {
            "tags": []
          },
          "execution_count": 296
        }
      ]
    },
    {
      "cell_type": "code",
      "metadata": {
        "id": "zQd7hsItU3nv",
        "colab": {
          "base_uri": "https://localhost:8080/"
        },
        "outputId": "0f533751-f07d-4501-f5c6-d9bed2e6e61c"
      },
      "source": [
        "from nltk.tokenize import word_tokenize\n",
        "\n",
        "text_tokens = word_tokenize(question1[0])\n",
        "tokens_without_sw = [word for word in text_tokens if not word in stop1]\n",
        "tokens_without_sw\n",
        "\n",
        "# inputs1 = bert_encode(string_list=list(tokens_without_sw), \n",
        "#                      tokenizer=tokenizer, \n",
        "#                      max_seq_length=63)"
      ],
      "execution_count": null,
      "outputs": [
        {
          "output_type": "execute_result",
          "data": {
            "text/plain": [
              "['to', 'know', 'if', 'i', 'covid']"
            ]
          },
          "metadata": {
            "tags": []
          },
          "execution_count": 321
        }
      ]
    },
    {
      "cell_type": "code",
      "metadata": {
        "colab": {
          "base_uri": "https://localhost:8080/"
        },
        "id": "ac51CAq06PJb",
        "outputId": "69fa30fc-a14e-4e0e-9d3e-7ff6adc07572"
      },
      "source": [
        "pip install nltk"
      ],
      "execution_count": null,
      "outputs": [
        {
          "output_type": "stream",
          "text": [
            "Requirement already satisfied: nltk in /usr/local/lib/python3.7/dist-packages (3.2.5)\n",
            "Requirement already satisfied: six in /usr/local/lib/python3.7/dist-packages (from nltk) (1.15.0)\n"
          ],
          "name": "stdout"
        }
      ]
    },
    {
      "cell_type": "code",
      "metadata": {
        "id": "CyltmasUUhK_",
        "colab": {
          "base_uri": "https://localhost:8080/"
        },
        "outputId": "cb867098-2d67-4abd-c9f5-98865105de32"
      },
      "source": [
        "inputs"
      ],
      "execution_count": null,
      "outputs": [
        {
          "output_type": "execute_result",
          "data": {
            "text/plain": [
              "{'input_mask': <tf.Tensor: shape=(1, 63), dtype=int32, numpy=\n",
              " array([[1, 1, 1, 1, 1, 0, 0, 0, 0, 0, 0, 0, 0, 0, 0, 0, 0, 0, 0, 0, 0, 0,\n",
              "         0, 0, 0, 0, 0, 0, 0, 0, 0, 0, 0, 0, 0, 0, 0, 0, 0, 0, 0, 0, 0, 0,\n",
              "         0, 0, 0, 0, 0, 0, 0, 0, 0, 0, 0, 0, 0, 0, 0, 0, 0, 0, 0]],\n",
              "       dtype=int32)>,\n",
              " 'input_type_ids': <tf.Tensor: shape=(1, 63), dtype=int32, numpy=\n",
              " array([[0, 1, 1, 1, 1, 0, 0, 0, 0, 0, 0, 0, 0, 0, 0, 0, 0, 0, 0, 0, 0, 0,\n",
              "         0, 0, 0, 0, 0, 0, 0, 0, 0, 0, 0, 0, 0, 0, 0, 0, 0, 0, 0, 0, 0, 0,\n",
              "         0, 0, 0, 0, 0, 0, 0, 0, 0, 0, 0, 0, 0, 0, 0, 0, 0, 0, 0]],\n",
              "       dtype=int32)>,\n",
              " 'input_word_ids': <tf.Tensor: shape=(1, 63), dtype=int32, numpy=\n",
              " array([[  101, 11170, 32194, 25609,   102,     0,     0,     0,     0,\n",
              "             0,     0,     0,     0,     0,     0,     0,     0,     0,\n",
              "             0,     0,     0,     0,     0,     0,     0,     0,     0,\n",
              "             0,     0,     0,     0,     0,     0,     0,     0,     0,\n",
              "             0,     0,     0,     0,     0,     0,     0,     0,     0,\n",
              "             0,     0,     0,     0,     0,     0,     0,     0,     0,\n",
              "             0,     0,     0,     0,     0,     0,     0,     0,     0]],\n",
              "       dtype=int32)>}"
            ]
          },
          "metadata": {
            "tags": []
          },
          "execution_count": 300
        }
      ]
    },
    {
      "cell_type": "code",
      "metadata": {
        "id": "J33hPOi81jNd",
        "colab": {
          "base_uri": "https://localhost:8080/"
        },
        "outputId": "4c1c29ed-746f-4785-8281-7b219103f5fc"
      },
      "source": [
        "prediction = model.predict(inputs)\n",
        "\n",
        "print(np.argmax(prediction))\n",
        "\n",
        "\n",
        "# if np.argmax(prediction)== 0:\n",
        "#   print('Comparison')\n",
        "# if np.argmax(prediction)== 1:\n",
        "#   print('Economic Effects')\n",
        "# if np.argmax(prediction)== 2:\n",
        "#   print('Having COVID')\n",
        "# if np.argmax(prediction)== 3:\n",
        "#   print('Individual Response')\n",
        "# if np.argmax(prediction)== 4:\n",
        "#   print('Nomenclature')\n",
        "# if np.argmax(prediction)== 5:\n",
        "#   print('Origin')\n",
        "# if np.argmax(prediction)== 6:\n",
        "#   print('Prevention')\n",
        "# if np.argmax(prediction)== 7:\n",
        "#   print('Reporting')\n",
        "# if np.argmax(prediction)== 8:\n",
        "#   print('Societal Effects')\n",
        "# if np.argmax(prediction)== 9:\n",
        "#   print('Societal Response')\n",
        "# if np.argmax(prediction)== 10:\n",
        "#   print('Speculation')  \n",
        "# if np.argmax(prediction)== 11:\n",
        "#   print('Symptoms')\n",
        "# if np.argmax(prediction)== 12:\n",
        "#   print('Testing')\n",
        "# if np.argmax(prediction)== 13:\n",
        "#   print('Transmission')\n",
        "# if np.argmax(prediction)== 14:\n",
        "#   print('Treatment')\n",
        "\n",
        "#np.argmax(prediction)\n",
        "\n"
      ],
      "execution_count": null,
      "outputs": [
        {
          "output_type": "stream",
          "text": [
            "5\n"
          ],
          "name": "stdout"
        }
      ]
    },
    {
      "cell_type": "code",
      "metadata": {
        "id": "tPCZNVww2JJW",
        "colab": {
          "base_uri": "https://localhost:8080/"
        },
        "outputId": "2aad568b-ecec-43e0-e3d3-f68098026724"
      },
      "source": [
        "encoder.classes_\n"
      ],
      "execution_count": null,
      "outputs": [
        {
          "output_type": "execute_result",
          "data": {
            "text/plain": [
              "array(['Comparison', 'Economic Effects', 'Nomenclature', 'Origin',\n",
              "       'Prevention', 'Societal Effects', 'Speculation', 'Symptoms',\n",
              "       'Testing', 'Transmission', 'Treatment'], dtype=object)"
            ]
          },
          "metadata": {
            "tags": []
          },
          "execution_count": 127
        }
      ]
    },
    {
      "cell_type": "code",
      "metadata": {
        "id": "ZCHMOea12nNF"
      },
      "source": [
        "\n",
        "model.compile(optimizer='adam',\n",
        "              loss='categorical_crossentropy',\n",
        "              metrics=['accuracy'])\n"
      ],
      "execution_count": null,
      "outputs": []
    },
    {
      "cell_type": "code",
      "metadata": {
        "id": "DBEc1wbF7ik1"
      },
      "source": [
        "from google.colab import drive\n",
        "drive.mount('/content/gdrive')\n",
        "\n",
        "model_fname = 'Label Classifier'\n",
        "my_wd = '/content/drive/My Drive/Grad/'\n",
        "\n"
      ],
      "execution_count": null,
      "outputs": []
    },
    {
      "cell_type": "code",
      "metadata": {
        "id": "Ci67V_JN8dO9"
      },
      "source": [
        "model.save(os.path.join(my_wd, model_fname))"
      ],
      "execution_count": null,
      "outputs": []
    },
    {
      "cell_type": "code",
      "metadata": {
        "id": "A3CKukOx8wfU"
      },
      "source": [
        ""
      ],
      "execution_count": null,
      "outputs": []
    }
  ]
}